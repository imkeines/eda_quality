{
 "cells": [
  {
   "cell_type": "code",
   "execution_count": 1,
   "metadata": {},
   "outputs": [],
   "source": [
    "import pandas as pd\n",
    "pd.set_option('display.max_columns', None) # pandas show all columns of table instead of restricted\n",
    "import numpy as np \n",
    "import matplotlib.pyplot as plt\n",
    "import plotly.express as px\n",
    "\n",
    "from envirocar import TrackAPI, DownloadClient, BboxSelector, ECConfig\n",
    "config = ECConfig()\n",
    "track_api = TrackAPI(api_client=DownloadClient(config=config))\n",
    "\n",
    "from eda_quality import correction as correct\n",
    "from eda_quality import manipulation as manipulate\n",
    "from eda_quality import inspection as inspect"
   ]
  },
  {
   "cell_type": "code",
   "execution_count": 2,
   "metadata": {},
   "outputs": [],
   "source": [
    "bbox = BboxSelector([\n",
    "    7.554130554199218, # min_x\n",
    "    51.95590322041212, # min_y\n",
    "    7.590351104736328, # max_x\n",
    "    51.97874790276371  # max_y\n",
    "])\n",
    "\n",
    "# issue a query\n",
    "df_tracks = track_api.get_tracks(bbox=bbox, num_results=20) "
   ]
  },
  {
   "cell_type": "markdown",
   "metadata": {},
   "source": [
    "### Outlier in sample\n",
    "Inspect outlier in the whole sample"
   ]
  },
  {
   "cell_type": "code",
   "execution_count": 3,
   "metadata": {},
   "outputs": [
    {
     "name": "stdout",
     "output_type": "stream",
     "text": [
      "outlier_in_sample_Engine Load.value 2\n",
      "outlier_in_sample_Calculated MAF.value 2\n",
      "outlier_in_sample_Speed.value 0\n",
      "outlier_in_sample_CO2.value 2\n",
      "outlier_in_sample_Intake Pressure.value 2\n",
      "outlier_in_sample_Rpm.value 2\n",
      "outlier_in_sample_Intake Temperature.value 0\n",
      "outlier_in_sample_Consumption (GPS-based).value 0\n",
      "outlier_in_sample_GPS Altitude.value 0\n",
      "outlier_in_sample_Throttle Position.value 31\n",
      "outlier_in_sample_GPS Bearing.value 2\n",
      "outlier_in_sample_Consumption.value 2\n",
      "outlier_in_sample_GPS Accuracy.value 26\n",
      "outlier_in_sample_CO2 Emission (GPS-based).value 0\n",
      "outlier_in_sample_GPS Speed.value 0\n",
      "outlier_in_sample_track.length 0\n",
      "outlier_in_sample_GPS HDOP.value 14\n",
      "outlier_in_sample_GPS PDOP.value 7\n",
      "outlier_in_sample_GPS VDOP.value 5\n",
      "Flagged outlier in sample:  71\n"
     ]
    }
   ],
   "source": [
    "sample = correct.flag_outlier_in_sample(df_tracks, dropOutlierColumn=False).head()"
   ]
  },
  {
   "cell_type": "markdown",
   "metadata": {},
   "source": [
    "### Outlier in track\n",
    "We can also inspect outlier per track"
   ]
  },
  {
   "cell_type": "code",
   "execution_count": 4,
   "metadata": {},
   "outputs": [
    {
     "name": "stdout",
     "output_type": "stream",
     "text": [
      "outlier_in_track_Engine Load.value 2\n",
      "outlier_in_track_Calculated MAF.value 5\n",
      "outlier_in_track_Speed.value 0\n",
      "outlier_in_track_CO2.value 5\n",
      "outlier_in_track_Intake Pressure.value 2\n",
      "outlier_in_track_Rpm.value 2\n",
      "outlier_in_track_Intake Temperature.value 9\n",
      "outlier_in_track_Consumption (GPS-based).value 1\n",
      "outlier_in_track_GPS Altitude.value 1\n",
      "outlier_in_track_Throttle Position.value 26\n",
      "outlier_in_track_GPS Bearing.value 2\n",
      "outlier_in_track_Consumption.value 5\n",
      "outlier_in_track_GPS Accuracy.value 12\n",
      "outlier_in_track_CO2 Emission (GPS-based).value 1\n",
      "outlier_in_track_GPS Speed.value 0\n",
      "outlier_in_track_track.length 0\n",
      "outlier_in_track_GPS HDOP.value 10\n",
      "outlier_in_track_GPS PDOP.value 11\n",
      "outlier_in_track_GPS VDOP.value 11\n",
      "Rows which contain outliers in tracks  (there may be multiple outlier in a single row) :  61\n"
     ]
    }
   ],
   "source": [
    "track = correct.flag_outlier_in_track(df_tracks, dropLimits=True, dropOutlierColumn=False, setOutlierToNan=False, dropFlag=False).head()   "
   ]
  },
  {
   "cell_type": "code",
   "execution_count": null,
   "metadata": {},
   "outputs": [],
   "source": []
  }
 ],
 "metadata": {
  "kernelspec": {
   "display_name": "envirocar_preprocessing",
   "language": "python",
   "name": "envirocar_preprocessing"
  },
  "language_info": {
   "codemirror_mode": {
    "name": "ipython",
    "version": 3
   },
   "file_extension": ".py",
   "mimetype": "text/x-python",
   "name": "python",
   "nbconvert_exporter": "python",
   "pygments_lexer": "ipython3",
   "version": "3.7.4"
  }
 },
 "nbformat": 4,
 "nbformat_minor": 4
}
