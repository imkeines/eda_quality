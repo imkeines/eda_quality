{
 "cells": [
  {
   "cell_type": "code",
   "execution_count": 24,
   "metadata": {
    "ExecuteTime": {
     "end_time": "2020-11-10T13:12:11.555616Z",
     "start_time": "2020-11-10T13:12:11.536944Z"
    }
   },
   "outputs": [],
   "source": [
    "# Import required libraries\n",
    "import pandas as pd\n",
    "pd.set_option('display.max_columns', None) # pandas show all columns of table instead of restricted\n",
    "pd.options.display.max_rows\n",
    "import numpy as np \n",
    "import matplotlib.pyplot as plt\n",
    "import plotly.express as px\n",
    "\n",
    "from eda_quality import correction as correct\n",
    "from eda_quality import manipulation as manipulate\n",
    "from eda_quality import inspection as inspect\n",
    "\n",
    "from envirocar import TrackAPI, DownloadClient, BboxSelector, ECConfig\n",
    "\n",
    "# create an initial but optional config and an api client\n",
    "config = ECConfig()\n",
    "track_api = TrackAPI(api_client=DownloadClient(config=config))"
   ]
  },
  {
   "cell_type": "code",
   "execution_count": 25,
   "metadata": {
    "ExecuteTime": {
     "end_time": "2020-11-10T13:12:30.147378Z",
     "start_time": "2020-11-10T13:12:11.559110Z"
    }
   },
   "outputs": [],
   "source": [
    "bbox = BboxSelector([\n",
    "    7.554130554199218, # min_x\n",
    "    51.95590322041212, # min_y\n",
    "    7.590351104736328, # max_x\n",
    "    51.97874790276371  # max_y\n",
    "])\n",
    "# issue a query\n",
    "df_tracks = track_api.get_tracks(bbox=bbox, num_results=40)"
   ]
  },
  {
   "cell_type": "code",
   "execution_count": 26,
   "metadata": {
    "ExecuteTime": {
     "end_time": "2020-11-10T13:12:30.152226Z",
     "start_time": "2020-11-10T13:12:30.149043Z"
    }
   },
   "outputs": [
    {
     "name": "stdout",
     "output_type": "stream",
     "text": [
      "40\n"
     ]
    }
   ],
   "source": [
    "inspect.count_tracks(df_tracks)"
   ]
  },
  {
   "cell_type": "markdown",
   "metadata": {},
   "source": [
    "Get a first glance of the dublicates by showing the dublicated data"
   ]
  },
  {
   "cell_type": "code",
   "execution_count": 27,
   "metadata": {
    "ExecuteTime": {
     "end_time": "2020-11-10T13:12:30.713448Z",
     "start_time": "2020-11-10T13:12:30.153614Z"
    },
    "scrolled": false
   },
   "outputs": [
    {
     "name": "stdout",
     "output_type": "stream",
     "text": [
      "Dublicated tracks: ['5ddfd2ba44ea85025c02d828', '5ddfd2bc44ea85025c02dbce']\n"
     ]
    },
    {
     "data": {
      "text/html": [
       "<div>\n",
       "<style scoped>\n",
       "    .dataframe tbody tr th:only-of-type {\n",
       "        vertical-align: middle;\n",
       "    }\n",
       "\n",
       "    .dataframe tbody tr th {\n",
       "        vertical-align: top;\n",
       "    }\n",
       "\n",
       "    .dataframe thead th {\n",
       "        text-align: right;\n",
       "    }\n",
       "</style>\n",
       "<table border=\"1\" class=\"dataframe\">\n",
       "  <thead>\n",
       "    <tr style=\"text-align: right;\">\n",
       "      <th></th>\n",
       "      <th>id</th>\n",
       "      <th>time</th>\n",
       "      <th>geometry</th>\n",
       "      <th>Engine Load.value</th>\n",
       "      <th>Engine Load.unit</th>\n",
       "      <th>Calculated MAF.value</th>\n",
       "      <th>Calculated MAF.unit</th>\n",
       "      <th>Speed.value</th>\n",
       "      <th>Speed.unit</th>\n",
       "      <th>CO2.value</th>\n",
       "      <th>CO2.unit</th>\n",
       "      <th>Intake Pressure.value</th>\n",
       "      <th>Intake Pressure.unit</th>\n",
       "      <th>Rpm.value</th>\n",
       "      <th>Rpm.unit</th>\n",
       "      <th>Intake Temperature.value</th>\n",
       "      <th>Intake Temperature.unit</th>\n",
       "      <th>Consumption (GPS-based).value</th>\n",
       "      <th>Consumption (GPS-based).unit</th>\n",
       "      <th>GPS Altitude.value</th>\n",
       "      <th>GPS Altitude.unit</th>\n",
       "      <th>Throttle Position.value</th>\n",
       "      <th>Throttle Position.unit</th>\n",
       "      <th>GPS Bearing.value</th>\n",
       "      <th>GPS Bearing.unit</th>\n",
       "      <th>Consumption.value</th>\n",
       "      <th>Consumption.unit</th>\n",
       "      <th>GPS Accuracy.value</th>\n",
       "      <th>GPS Accuracy.unit</th>\n",
       "      <th>CO2 Emission (GPS-based).value</th>\n",
       "      <th>CO2 Emission (GPS-based).unit</th>\n",
       "      <th>GPS Speed.value</th>\n",
       "      <th>GPS Speed.unit</th>\n",
       "      <th>track.id</th>\n",
       "      <th>track.length</th>\n",
       "      <th>track.begin</th>\n",
       "      <th>track.end</th>\n",
       "      <th>sensor.type</th>\n",
       "      <th>sensor.engineDisplacement</th>\n",
       "      <th>sensor.model</th>\n",
       "      <th>sensor.id</th>\n",
       "      <th>sensor.fuelType</th>\n",
       "      <th>sensor.constructionYear</th>\n",
       "      <th>sensor.manufacturer</th>\n",
       "      <th>track.appVersion</th>\n",
       "      <th>track.touVersion</th>\n",
       "      <th>GPS HDOP.value</th>\n",
       "      <th>GPS HDOP.unit</th>\n",
       "      <th>GPS PDOP.value</th>\n",
       "      <th>GPS PDOP.unit</th>\n",
       "      <th>GPS VDOP.value</th>\n",
       "      <th>GPS VDOP.unit</th>\n",
       "      <th>MAF.value</th>\n",
       "      <th>MAF.unit</th>\n",
       "      <th>O2 Lambda Voltage ER.value</th>\n",
       "      <th>O2 Lambda Voltage ER.unit</th>\n",
       "      <th>O2 Lambda Voltage.value</th>\n",
       "      <th>O2 Lambda Voltage.unit</th>\n",
       "    </tr>\n",
       "  </thead>\n",
       "  <tbody>\n",
       "    <tr>\n",
       "      <th>0</th>\n",
       "      <td>5ddfd2ba44ea85025c02d82a</td>\n",
       "      <td>2019-11-28T13:41:36+00:00</td>\n",
       "      <td>POINT (7.65013 51.94115)</td>\n",
       "      <td>441.321860</td>\n",
       "      <td>%</td>\n",
       "      <td>346.627217</td>\n",
       "      <td>g/s</td>\n",
       "      <td>-9.206349</td>\n",
       "      <td>km/h</td>\n",
       "      <td>267.768457</td>\n",
       "      <td>kg/h</td>\n",
       "      <td>502.171124</td>\n",
       "      <td>kPa</td>\n",
       "      <td>4784.997272</td>\n",
       "      <td>u/min</td>\n",
       "      <td>17.47449</td>\n",
       "      <td>c</td>\n",
       "      <td>NaN</td>\n",
       "      <td>NaN</td>\n",
       "      <td>100.692023</td>\n",
       "      <td>m</td>\n",
       "      <td>23.988255</td>\n",
       "      <td>%</td>\n",
       "      <td>223.737910</td>\n",
       "      <td>deg</td>\n",
       "      <td>113.944024</td>\n",
       "      <td>l/h</td>\n",
       "      <td>9.891432</td>\n",
       "      <td>%</td>\n",
       "      <td>NaN</td>\n",
       "      <td>NaN</td>\n",
       "      <td>0.000000</td>\n",
       "      <td>km/h</td>\n",
       "      <td>5ddfd2ba44ea85025c02d828</td>\n",
       "      <td>9.220333</td>\n",
       "      <td>2019-11-28T13:41:36Z</td>\n",
       "      <td>2019-11-28T13:57:24Z</td>\n",
       "      <td>car</td>\n",
       "      <td>1699</td>\n",
       "      <td>A 170</td>\n",
       "      <td>559e22c2e4b07207d8977998</td>\n",
       "      <td>gasoline</td>\n",
       "      <td>2004</td>\n",
       "      <td>Mercedes Benz</td>\n",
       "      <td>NaN</td>\n",
       "      <td>NaN</td>\n",
       "      <td>0.900000</td>\n",
       "      <td>precision</td>\n",
       "      <td>1.500000</td>\n",
       "      <td>precision</td>\n",
       "      <td>1.246763</td>\n",
       "      <td>precision</td>\n",
       "      <td>NaN</td>\n",
       "      <td>NaN</td>\n",
       "      <td>NaN</td>\n",
       "      <td>NaN</td>\n",
       "      <td>NaN</td>\n",
       "      <td>NaN</td>\n",
       "    </tr>\n",
       "    <tr>\n",
       "      <th>1</th>\n",
       "      <td>5ddfd2ba44ea85025c02d82c</td>\n",
       "      <td>2019-11-28T13:41:47+00:00</td>\n",
       "      <td>POINT (7.64931 51.94163)</td>\n",
       "      <td>61.418813</td>\n",
       "      <td>%</td>\n",
       "      <td>15.605188</td>\n",
       "      <td>g/s</td>\n",
       "      <td>49.911602</td>\n",
       "      <td>km/h</td>\n",
       "      <td>12.054959</td>\n",
       "      <td>kg/h</td>\n",
       "      <td>60.924582</td>\n",
       "      <td>kPa</td>\n",
       "      <td>1717.722820</td>\n",
       "      <td>u/min</td>\n",
       "      <td>8.00000</td>\n",
       "      <td>c</td>\n",
       "      <td>NaN</td>\n",
       "      <td>NaN</td>\n",
       "      <td>100.738323</td>\n",
       "      <td>m</td>\n",
       "      <td>19.411429</td>\n",
       "      <td>%</td>\n",
       "      <td>315.329161</td>\n",
       "      <td>deg</td>\n",
       "      <td>5.129770</td>\n",
       "      <td>l/h</td>\n",
       "      <td>8.000000</td>\n",
       "      <td>%</td>\n",
       "      <td>NaN</td>\n",
       "      <td>NaN</td>\n",
       "      <td>46.184018</td>\n",
       "      <td>km/h</td>\n",
       "      <td>5ddfd2ba44ea85025c02d828</td>\n",
       "      <td>9.220333</td>\n",
       "      <td>2019-11-28T13:41:36Z</td>\n",
       "      <td>2019-11-28T13:57:24Z</td>\n",
       "      <td>car</td>\n",
       "      <td>1699</td>\n",
       "      <td>A 170</td>\n",
       "      <td>559e22c2e4b07207d8977998</td>\n",
       "      <td>gasoline</td>\n",
       "      <td>2004</td>\n",
       "      <td>Mercedes Benz</td>\n",
       "      <td>NaN</td>\n",
       "      <td>NaN</td>\n",
       "      <td>0.829757</td>\n",
       "      <td>precision</td>\n",
       "      <td>1.389271</td>\n",
       "      <td>precision</td>\n",
       "      <td>1.189271</td>\n",
       "      <td>precision</td>\n",
       "      <td>NaN</td>\n",
       "      <td>NaN</td>\n",
       "      <td>NaN</td>\n",
       "      <td>NaN</td>\n",
       "      <td>NaN</td>\n",
       "      <td>NaN</td>\n",
       "    </tr>\n",
       "    <tr>\n",
       "      <th>2</th>\n",
       "      <td>5ddfd2ba44ea85025c02d82d</td>\n",
       "      <td>2019-11-28T13:41:52+00:00</td>\n",
       "      <td>POINT (7.64866 51.94210)</td>\n",
       "      <td>99.426585</td>\n",
       "      <td>%</td>\n",
       "      <td>25.954246</td>\n",
       "      <td>g/s</td>\n",
       "      <td>52.134077</td>\n",
       "      <td>km/h</td>\n",
       "      <td>20.049575</td>\n",
       "      <td>kg/h</td>\n",
       "      <td>95.363385</td>\n",
       "      <td>kPa</td>\n",
       "      <td>1831.662189</td>\n",
       "      <td>u/min</td>\n",
       "      <td>9.00000</td>\n",
       "      <td>c</td>\n",
       "      <td>NaN</td>\n",
       "      <td>NaN</td>\n",
       "      <td>101.438228</td>\n",
       "      <td>m</td>\n",
       "      <td>45.000001</td>\n",
       "      <td>%</td>\n",
       "      <td>322.014955</td>\n",
       "      <td>deg</td>\n",
       "      <td>8.531734</td>\n",
       "      <td>l/h</td>\n",
       "      <td>10.864922</td>\n",
       "      <td>%</td>\n",
       "      <td>NaN</td>\n",
       "      <td>NaN</td>\n",
       "      <td>50.529060</td>\n",
       "      <td>km/h</td>\n",
       "      <td>5ddfd2ba44ea85025c02d828</td>\n",
       "      <td>9.220333</td>\n",
       "      <td>2019-11-28T13:41:36Z</td>\n",
       "      <td>2019-11-28T13:57:24Z</td>\n",
       "      <td>car</td>\n",
       "      <td>1699</td>\n",
       "      <td>A 170</td>\n",
       "      <td>559e22c2e4b07207d8977998</td>\n",
       "      <td>gasoline</td>\n",
       "      <td>2004</td>\n",
       "      <td>Mercedes Benz</td>\n",
       "      <td>NaN</td>\n",
       "      <td>NaN</td>\n",
       "      <td>0.800000</td>\n",
       "      <td>precision</td>\n",
       "      <td>1.400000</td>\n",
       "      <td>precision</td>\n",
       "      <td>1.200000</td>\n",
       "      <td>precision</td>\n",
       "      <td>NaN</td>\n",
       "      <td>NaN</td>\n",
       "      <td>NaN</td>\n",
       "      <td>NaN</td>\n",
       "      <td>NaN</td>\n",
       "      <td>NaN</td>\n",
       "    </tr>\n",
       "    <tr>\n",
       "      <th>3</th>\n",
       "      <td>5ddfd2ba44ea85025c02d82e</td>\n",
       "      <td>2019-11-28T13:41:57+00:00</td>\n",
       "      <td>POINT (7.64804 51.94263)</td>\n",
       "      <td>35.056864</td>\n",
       "      <td>%</td>\n",
       "      <td>4.091531</td>\n",
       "      <td>g/s</td>\n",
       "      <td>43.470901</td>\n",
       "      <td>km/h</td>\n",
       "      <td>3.160695</td>\n",
       "      <td>kg/h</td>\n",
       "      <td>33.553191</td>\n",
       "      <td>kPa</td>\n",
       "      <td>820.673855</td>\n",
       "      <td>u/min</td>\n",
       "      <td>9.00000</td>\n",
       "      <td>c</td>\n",
       "      <td>NaN</td>\n",
       "      <td>NaN</td>\n",
       "      <td>101.282162</td>\n",
       "      <td>m</td>\n",
       "      <td>13.779412</td>\n",
       "      <td>%</td>\n",
       "      <td>324.795254</td>\n",
       "      <td>deg</td>\n",
       "      <td>1.344977</td>\n",
       "      <td>l/h</td>\n",
       "      <td>8.000000</td>\n",
       "      <td>%</td>\n",
       "      <td>NaN</td>\n",
       "      <td>NaN</td>\n",
       "      <td>43.041294</td>\n",
       "      <td>km/h</td>\n",
       "      <td>5ddfd2ba44ea85025c02d828</td>\n",
       "      <td>9.220333</td>\n",
       "      <td>2019-11-28T13:41:36Z</td>\n",
       "      <td>2019-11-28T13:57:24Z</td>\n",
       "      <td>car</td>\n",
       "      <td>1699</td>\n",
       "      <td>A 170</td>\n",
       "      <td>559e22c2e4b07207d8977998</td>\n",
       "      <td>gasoline</td>\n",
       "      <td>2004</td>\n",
       "      <td>Mercedes Benz</td>\n",
       "      <td>NaN</td>\n",
       "      <td>NaN</td>\n",
       "      <td>0.900000</td>\n",
       "      <td>precision</td>\n",
       "      <td>1.500000</td>\n",
       "      <td>precision</td>\n",
       "      <td>1.200000</td>\n",
       "      <td>precision</td>\n",
       "      <td>NaN</td>\n",
       "      <td>NaN</td>\n",
       "      <td>NaN</td>\n",
       "      <td>NaN</td>\n",
       "      <td>NaN</td>\n",
       "      <td>NaN</td>\n",
       "    </tr>\n",
       "    <tr>\n",
       "      <th>4</th>\n",
       "      <td>5ddfd2ba44ea85025c02d82f</td>\n",
       "      <td>2019-11-28T13:42:02+00:00</td>\n",
       "      <td>POINT (7.64777 51.94289)</td>\n",
       "      <td>31.904417</td>\n",
       "      <td>%</td>\n",
       "      <td>3.459813</td>\n",
       "      <td>g/s</td>\n",
       "      <td>6.399497</td>\n",
       "      <td>km/h</td>\n",
       "      <td>2.672695</td>\n",
       "      <td>kg/h</td>\n",
       "      <td>30.000001</td>\n",
       "      <td>kPa</td>\n",
       "      <td>776.157749</td>\n",
       "      <td>u/min</td>\n",
       "      <td>9.00000</td>\n",
       "      <td>c</td>\n",
       "      <td>NaN</td>\n",
       "      <td>NaN</td>\n",
       "      <td>99.117048</td>\n",
       "      <td>m</td>\n",
       "      <td>13.583942</td>\n",
       "      <td>%</td>\n",
       "      <td>327.392114</td>\n",
       "      <td>deg</td>\n",
       "      <td>1.137317</td>\n",
       "      <td>l/h</td>\n",
       "      <td>8.000000</td>\n",
       "      <td>%</td>\n",
       "      <td>NaN</td>\n",
       "      <td>NaN</td>\n",
       "      <td>6.598425</td>\n",
       "      <td>km/h</td>\n",
       "      <td>5ddfd2ba44ea85025c02d828</td>\n",
       "      <td>9.220333</td>\n",
       "      <td>2019-11-28T13:41:36Z</td>\n",
       "      <td>2019-11-28T13:57:24Z</td>\n",
       "      <td>car</td>\n",
       "      <td>1699</td>\n",
       "      <td>A 170</td>\n",
       "      <td>559e22c2e4b07207d8977998</td>\n",
       "      <td>gasoline</td>\n",
       "      <td>2004</td>\n",
       "      <td>Mercedes Benz</td>\n",
       "      <td>NaN</td>\n",
       "      <td>NaN</td>\n",
       "      <td>0.888122</td>\n",
       "      <td>precision</td>\n",
       "      <td>1.488122</td>\n",
       "      <td>precision</td>\n",
       "      <td>1.200000</td>\n",
       "      <td>precision</td>\n",
       "      <td>NaN</td>\n",
       "      <td>NaN</td>\n",
       "      <td>NaN</td>\n",
       "      <td>NaN</td>\n",
       "      <td>NaN</td>\n",
       "      <td>NaN</td>\n",
       "    </tr>\n",
       "  </tbody>\n",
       "</table>\n",
       "</div>"
      ],
      "text/plain": [
       "                         id                       time  \\\n",
       "0  5ddfd2ba44ea85025c02d82a  2019-11-28T13:41:36+00:00   \n",
       "1  5ddfd2ba44ea85025c02d82c  2019-11-28T13:41:47+00:00   \n",
       "2  5ddfd2ba44ea85025c02d82d  2019-11-28T13:41:52+00:00   \n",
       "3  5ddfd2ba44ea85025c02d82e  2019-11-28T13:41:57+00:00   \n",
       "4  5ddfd2ba44ea85025c02d82f  2019-11-28T13:42:02+00:00   \n",
       "\n",
       "                   geometry  Engine Load.value Engine Load.unit  \\\n",
       "0  POINT (7.65013 51.94115)         441.321860                %   \n",
       "1  POINT (7.64931 51.94163)          61.418813                %   \n",
       "2  POINT (7.64866 51.94210)          99.426585                %   \n",
       "3  POINT (7.64804 51.94263)          35.056864                %   \n",
       "4  POINT (7.64777 51.94289)          31.904417                %   \n",
       "\n",
       "   Calculated MAF.value Calculated MAF.unit  Speed.value Speed.unit  \\\n",
       "0            346.627217                 g/s    -9.206349       km/h   \n",
       "1             15.605188                 g/s    49.911602       km/h   \n",
       "2             25.954246                 g/s    52.134077       km/h   \n",
       "3              4.091531                 g/s    43.470901       km/h   \n",
       "4              3.459813                 g/s     6.399497       km/h   \n",
       "\n",
       "    CO2.value CO2.unit  Intake Pressure.value Intake Pressure.unit  \\\n",
       "0  267.768457     kg/h             502.171124                  kPa   \n",
       "1   12.054959     kg/h              60.924582                  kPa   \n",
       "2   20.049575     kg/h              95.363385                  kPa   \n",
       "3    3.160695     kg/h              33.553191                  kPa   \n",
       "4    2.672695     kg/h              30.000001                  kPa   \n",
       "\n",
       "     Rpm.value Rpm.unit  Intake Temperature.value Intake Temperature.unit  \\\n",
       "0  4784.997272    u/min                  17.47449                       c   \n",
       "1  1717.722820    u/min                   8.00000                       c   \n",
       "2  1831.662189    u/min                   9.00000                       c   \n",
       "3   820.673855    u/min                   9.00000                       c   \n",
       "4   776.157749    u/min                   9.00000                       c   \n",
       "\n",
       "   Consumption (GPS-based).value Consumption (GPS-based).unit  \\\n",
       "0                            NaN                          NaN   \n",
       "1                            NaN                          NaN   \n",
       "2                            NaN                          NaN   \n",
       "3                            NaN                          NaN   \n",
       "4                            NaN                          NaN   \n",
       "\n",
       "   GPS Altitude.value GPS Altitude.unit  Throttle Position.value  \\\n",
       "0          100.692023                 m                23.988255   \n",
       "1          100.738323                 m                19.411429   \n",
       "2          101.438228                 m                45.000001   \n",
       "3          101.282162                 m                13.779412   \n",
       "4           99.117048                 m                13.583942   \n",
       "\n",
       "  Throttle Position.unit  GPS Bearing.value GPS Bearing.unit  \\\n",
       "0                      %         223.737910              deg   \n",
       "1                      %         315.329161              deg   \n",
       "2                      %         322.014955              deg   \n",
       "3                      %         324.795254              deg   \n",
       "4                      %         327.392114              deg   \n",
       "\n",
       "   Consumption.value Consumption.unit  GPS Accuracy.value GPS Accuracy.unit  \\\n",
       "0         113.944024              l/h            9.891432                 %   \n",
       "1           5.129770              l/h            8.000000                 %   \n",
       "2           8.531734              l/h           10.864922                 %   \n",
       "3           1.344977              l/h            8.000000                 %   \n",
       "4           1.137317              l/h            8.000000                 %   \n",
       "\n",
       "   CO2 Emission (GPS-based).value CO2 Emission (GPS-based).unit  \\\n",
       "0                             NaN                           NaN   \n",
       "1                             NaN                           NaN   \n",
       "2                             NaN                           NaN   \n",
       "3                             NaN                           NaN   \n",
       "4                             NaN                           NaN   \n",
       "\n",
       "   GPS Speed.value GPS Speed.unit                  track.id  track.length  \\\n",
       "0         0.000000           km/h  5ddfd2ba44ea85025c02d828      9.220333   \n",
       "1        46.184018           km/h  5ddfd2ba44ea85025c02d828      9.220333   \n",
       "2        50.529060           km/h  5ddfd2ba44ea85025c02d828      9.220333   \n",
       "3        43.041294           km/h  5ddfd2ba44ea85025c02d828      9.220333   \n",
       "4         6.598425           km/h  5ddfd2ba44ea85025c02d828      9.220333   \n",
       "\n",
       "            track.begin             track.end sensor.type  \\\n",
       "0  2019-11-28T13:41:36Z  2019-11-28T13:57:24Z         car   \n",
       "1  2019-11-28T13:41:36Z  2019-11-28T13:57:24Z         car   \n",
       "2  2019-11-28T13:41:36Z  2019-11-28T13:57:24Z         car   \n",
       "3  2019-11-28T13:41:36Z  2019-11-28T13:57:24Z         car   \n",
       "4  2019-11-28T13:41:36Z  2019-11-28T13:57:24Z         car   \n",
       "\n",
       "   sensor.engineDisplacement sensor.model                 sensor.id  \\\n",
       "0                       1699        A 170  559e22c2e4b07207d8977998   \n",
       "1                       1699        A 170  559e22c2e4b07207d8977998   \n",
       "2                       1699        A 170  559e22c2e4b07207d8977998   \n",
       "3                       1699        A 170  559e22c2e4b07207d8977998   \n",
       "4                       1699        A 170  559e22c2e4b07207d8977998   \n",
       "\n",
       "  sensor.fuelType  sensor.constructionYear sensor.manufacturer  \\\n",
       "0        gasoline                     2004       Mercedes Benz   \n",
       "1        gasoline                     2004       Mercedes Benz   \n",
       "2        gasoline                     2004       Mercedes Benz   \n",
       "3        gasoline                     2004       Mercedes Benz   \n",
       "4        gasoline                     2004       Mercedes Benz   \n",
       "\n",
       "  track.appVersion track.touVersion  GPS HDOP.value GPS HDOP.unit  \\\n",
       "0              NaN              NaN        0.900000     precision   \n",
       "1              NaN              NaN        0.829757     precision   \n",
       "2              NaN              NaN        0.800000     precision   \n",
       "3              NaN              NaN        0.900000     precision   \n",
       "4              NaN              NaN        0.888122     precision   \n",
       "\n",
       "   GPS PDOP.value GPS PDOP.unit  GPS VDOP.value GPS VDOP.unit  MAF.value  \\\n",
       "0        1.500000     precision        1.246763     precision        NaN   \n",
       "1        1.389271     precision        1.189271     precision        NaN   \n",
       "2        1.400000     precision        1.200000     precision        NaN   \n",
       "3        1.500000     precision        1.200000     precision        NaN   \n",
       "4        1.488122     precision        1.200000     precision        NaN   \n",
       "\n",
       "  MAF.unit  O2 Lambda Voltage ER.value O2 Lambda Voltage ER.unit  \\\n",
       "0      NaN                         NaN                       NaN   \n",
       "1      NaN                         NaN                       NaN   \n",
       "2      NaN                         NaN                       NaN   \n",
       "3      NaN                         NaN                       NaN   \n",
       "4      NaN                         NaN                       NaN   \n",
       "\n",
       "   O2 Lambda Voltage.value O2 Lambda Voltage.unit  \n",
       "0                      NaN                    NaN  \n",
       "1                      NaN                    NaN  \n",
       "2                      NaN                    NaN  \n",
       "3                      NaN                    NaN  \n",
       "4                      NaN                    NaN  "
      ]
     },
     "execution_count": 27,
     "metadata": {},
     "output_type": "execute_result"
    }
   ],
   "source": [
    "dublicates = inspect.show_dublicated_tracks(df_tracks)\n",
    "dublicates.head()"
   ]
  },
  {
   "cell_type": "markdown",
   "metadata": {},
   "source": [
    "If the above returns a list with minimal two ids, you may want to inspect the dublicated tracks by eye.    \n",
    "To plot the dublicated tracks, first have a look which variable in each track has at least some values.    \n",
    "For this inspect the proportion of missing values per track and select a variable you like to plot.  \n",
    "In general the envirocar variable 'Speed.value' seems to be appropriate in most cases, as it usually provides valid values."
   ]
  },
  {
   "cell_type": "code",
   "execution_count": 28,
   "metadata": {
    "ExecuteTime": {
     "end_time": "2020-11-10T13:12:30.819688Z",
     "start_time": "2020-11-10T13:12:30.715406Z"
    }
   },
   "outputs": [
    {
     "data": {
      "text/html": [
       "<div>\n",
       "<style scoped>\n",
       "    .dataframe tbody tr th:only-of-type {\n",
       "        vertical-align: middle;\n",
       "    }\n",
       "\n",
       "    .dataframe tbody tr th {\n",
       "        vertical-align: top;\n",
       "    }\n",
       "\n",
       "    .dataframe thead th {\n",
       "        text-align: right;\n",
       "    }\n",
       "</style>\n",
       "<table border=\"1\" class=\"dataframe\">\n",
       "  <thead>\n",
       "    <tr style=\"text-align: right;\">\n",
       "      <th></th>\n",
       "      <th>id</th>\n",
       "      <th>time</th>\n",
       "      <th>geometry</th>\n",
       "      <th>Engine Load.value</th>\n",
       "      <th>Engine Load.unit</th>\n",
       "      <th>Calculated MAF.value</th>\n",
       "      <th>Calculated MAF.unit</th>\n",
       "      <th>Speed.value</th>\n",
       "      <th>Speed.unit</th>\n",
       "      <th>CO2.value</th>\n",
       "      <th>CO2.unit</th>\n",
       "      <th>Intake Pressure.value</th>\n",
       "      <th>Intake Pressure.unit</th>\n",
       "      <th>Rpm.value</th>\n",
       "      <th>Rpm.unit</th>\n",
       "      <th>Intake Temperature.value</th>\n",
       "      <th>Intake Temperature.unit</th>\n",
       "      <th>Consumption (GPS-based).value</th>\n",
       "      <th>Consumption (GPS-based).unit</th>\n",
       "      <th>GPS Altitude.value</th>\n",
       "      <th>GPS Altitude.unit</th>\n",
       "      <th>Throttle Position.value</th>\n",
       "      <th>Throttle Position.unit</th>\n",
       "      <th>GPS Bearing.value</th>\n",
       "      <th>GPS Bearing.unit</th>\n",
       "      <th>Consumption.value</th>\n",
       "      <th>Consumption.unit</th>\n",
       "      <th>GPS Accuracy.value</th>\n",
       "      <th>GPS Accuracy.unit</th>\n",
       "      <th>CO2 Emission (GPS-based).value</th>\n",
       "      <th>CO2 Emission (GPS-based).unit</th>\n",
       "      <th>GPS Speed.value</th>\n",
       "      <th>GPS Speed.unit</th>\n",
       "      <th>track.id</th>\n",
       "      <th>track.length</th>\n",
       "      <th>track.begin</th>\n",
       "      <th>track.end</th>\n",
       "      <th>sensor.type</th>\n",
       "      <th>sensor.engineDisplacement</th>\n",
       "      <th>sensor.model</th>\n",
       "      <th>sensor.id</th>\n",
       "      <th>sensor.fuelType</th>\n",
       "      <th>sensor.constructionYear</th>\n",
       "      <th>sensor.manufacturer</th>\n",
       "      <th>track.appVersion</th>\n",
       "      <th>track.touVersion</th>\n",
       "      <th>GPS HDOP.value</th>\n",
       "      <th>GPS HDOP.unit</th>\n",
       "      <th>GPS PDOP.value</th>\n",
       "      <th>GPS PDOP.unit</th>\n",
       "      <th>GPS VDOP.value</th>\n",
       "      <th>GPS VDOP.unit</th>\n",
       "      <th>MAF.value</th>\n",
       "      <th>MAF.unit</th>\n",
       "      <th>O2 Lambda Voltage ER.value</th>\n",
       "      <th>O2 Lambda Voltage ER.unit</th>\n",
       "      <th>O2 Lambda Voltage.value</th>\n",
       "      <th>O2 Lambda Voltage.unit</th>\n",
       "    </tr>\n",
       "    <tr>\n",
       "      <th>track.id</th>\n",
       "      <th></th>\n",
       "      <th></th>\n",
       "      <th></th>\n",
       "      <th></th>\n",
       "      <th></th>\n",
       "      <th></th>\n",
       "      <th></th>\n",
       "      <th></th>\n",
       "      <th></th>\n",
       "      <th></th>\n",
       "      <th></th>\n",
       "      <th></th>\n",
       "      <th></th>\n",
       "      <th></th>\n",
       "      <th></th>\n",
       "      <th></th>\n",
       "      <th></th>\n",
       "      <th></th>\n",
       "      <th></th>\n",
       "      <th></th>\n",
       "      <th></th>\n",
       "      <th></th>\n",
       "      <th></th>\n",
       "      <th></th>\n",
       "      <th></th>\n",
       "      <th></th>\n",
       "      <th></th>\n",
       "      <th></th>\n",
       "      <th></th>\n",
       "      <th></th>\n",
       "      <th></th>\n",
       "      <th></th>\n",
       "      <th></th>\n",
       "      <th></th>\n",
       "      <th></th>\n",
       "      <th></th>\n",
       "      <th></th>\n",
       "      <th></th>\n",
       "      <th></th>\n",
       "      <th></th>\n",
       "      <th></th>\n",
       "      <th></th>\n",
       "      <th></th>\n",
       "      <th></th>\n",
       "      <th></th>\n",
       "      <th></th>\n",
       "      <th></th>\n",
       "      <th></th>\n",
       "      <th></th>\n",
       "      <th></th>\n",
       "      <th></th>\n",
       "      <th></th>\n",
       "      <th></th>\n",
       "      <th></th>\n",
       "      <th></th>\n",
       "      <th></th>\n",
       "      <th></th>\n",
       "      <th></th>\n",
       "    </tr>\n",
       "  </thead>\n",
       "  <tbody>\n",
       "    <tr>\n",
       "      <th>5ddfd2ba44ea85025c02d828</th>\n",
       "      <td>0.0</td>\n",
       "      <td>0.0</td>\n",
       "      <td>0.0</td>\n",
       "      <td>0.0</td>\n",
       "      <td>0.0</td>\n",
       "      <td>0.0</td>\n",
       "      <td>0.0</td>\n",
       "      <td>0.0</td>\n",
       "      <td>0.0</td>\n",
       "      <td>0.0</td>\n",
       "      <td>0.0</td>\n",
       "      <td>0.0</td>\n",
       "      <td>0.0</td>\n",
       "      <td>0.0</td>\n",
       "      <td>0.0</td>\n",
       "      <td>0.0</td>\n",
       "      <td>0.0</td>\n",
       "      <td>100.0</td>\n",
       "      <td>100.0</td>\n",
       "      <td>0.0</td>\n",
       "      <td>0.0</td>\n",
       "      <td>0.0</td>\n",
       "      <td>0.0</td>\n",
       "      <td>0.0</td>\n",
       "      <td>0.0</td>\n",
       "      <td>0.0</td>\n",
       "      <td>0.0</td>\n",
       "      <td>0.0</td>\n",
       "      <td>0.0</td>\n",
       "      <td>100.0</td>\n",
       "      <td>100.0</td>\n",
       "      <td>0.0</td>\n",
       "      <td>0.0</td>\n",
       "      <td>0.0</td>\n",
       "      <td>0.0</td>\n",
       "      <td>0.0</td>\n",
       "      <td>0.0</td>\n",
       "      <td>0.0</td>\n",
       "      <td>0.0</td>\n",
       "      <td>0.0</td>\n",
       "      <td>0.0</td>\n",
       "      <td>0.0</td>\n",
       "      <td>0.0</td>\n",
       "      <td>0.0</td>\n",
       "      <td>100.0</td>\n",
       "      <td>100.0</td>\n",
       "      <td>0.0</td>\n",
       "      <td>0.0</td>\n",
       "      <td>0.0</td>\n",
       "      <td>0.0</td>\n",
       "      <td>0.0</td>\n",
       "      <td>0.0</td>\n",
       "      <td>100.0</td>\n",
       "      <td>100.0</td>\n",
       "      <td>100.0</td>\n",
       "      <td>100.0</td>\n",
       "      <td>100.0</td>\n",
       "      <td>100.0</td>\n",
       "    </tr>\n",
       "    <tr>\n",
       "      <th>5ddfd2bc44ea85025c02dbce</th>\n",
       "      <td>0.0</td>\n",
       "      <td>0.0</td>\n",
       "      <td>0.0</td>\n",
       "      <td>0.0</td>\n",
       "      <td>0.0</td>\n",
       "      <td>0.0</td>\n",
       "      <td>0.0</td>\n",
       "      <td>0.0</td>\n",
       "      <td>0.0</td>\n",
       "      <td>0.0</td>\n",
       "      <td>0.0</td>\n",
       "      <td>0.0</td>\n",
       "      <td>0.0</td>\n",
       "      <td>0.0</td>\n",
       "      <td>0.0</td>\n",
       "      <td>0.0</td>\n",
       "      <td>0.0</td>\n",
       "      <td>100.0</td>\n",
       "      <td>100.0</td>\n",
       "      <td>0.0</td>\n",
       "      <td>0.0</td>\n",
       "      <td>0.0</td>\n",
       "      <td>0.0</td>\n",
       "      <td>0.0</td>\n",
       "      <td>0.0</td>\n",
       "      <td>0.0</td>\n",
       "      <td>0.0</td>\n",
       "      <td>0.0</td>\n",
       "      <td>0.0</td>\n",
       "      <td>100.0</td>\n",
       "      <td>100.0</td>\n",
       "      <td>0.0</td>\n",
       "      <td>0.0</td>\n",
       "      <td>0.0</td>\n",
       "      <td>0.0</td>\n",
       "      <td>0.0</td>\n",
       "      <td>0.0</td>\n",
       "      <td>0.0</td>\n",
       "      <td>0.0</td>\n",
       "      <td>0.0</td>\n",
       "      <td>0.0</td>\n",
       "      <td>0.0</td>\n",
       "      <td>0.0</td>\n",
       "      <td>0.0</td>\n",
       "      <td>100.0</td>\n",
       "      <td>100.0</td>\n",
       "      <td>0.0</td>\n",
       "      <td>0.0</td>\n",
       "      <td>0.0</td>\n",
       "      <td>0.0</td>\n",
       "      <td>0.0</td>\n",
       "      <td>0.0</td>\n",
       "      <td>100.0</td>\n",
       "      <td>100.0</td>\n",
       "      <td>100.0</td>\n",
       "      <td>100.0</td>\n",
       "      <td>100.0</td>\n",
       "      <td>100.0</td>\n",
       "    </tr>\n",
       "  </tbody>\n",
       "</table>\n",
       "</div>"
      ],
      "text/plain": [
       "                           id  time  geometry  Engine Load.value  \\\n",
       "track.id                                                           \n",
       "5ddfd2ba44ea85025c02d828  0.0   0.0       0.0                0.0   \n",
       "5ddfd2bc44ea85025c02dbce  0.0   0.0       0.0                0.0   \n",
       "\n",
       "                          Engine Load.unit  Calculated MAF.value  \\\n",
       "track.id                                                           \n",
       "5ddfd2ba44ea85025c02d828               0.0                   0.0   \n",
       "5ddfd2bc44ea85025c02dbce               0.0                   0.0   \n",
       "\n",
       "                          Calculated MAF.unit  Speed.value  Speed.unit  \\\n",
       "track.id                                                                 \n",
       "5ddfd2ba44ea85025c02d828                  0.0          0.0         0.0   \n",
       "5ddfd2bc44ea85025c02dbce                  0.0          0.0         0.0   \n",
       "\n",
       "                          CO2.value  CO2.unit  Intake Pressure.value  \\\n",
       "track.id                                                               \n",
       "5ddfd2ba44ea85025c02d828        0.0       0.0                    0.0   \n",
       "5ddfd2bc44ea85025c02dbce        0.0       0.0                    0.0   \n",
       "\n",
       "                          Intake Pressure.unit  Rpm.value  Rpm.unit  \\\n",
       "track.id                                                              \n",
       "5ddfd2ba44ea85025c02d828                   0.0        0.0       0.0   \n",
       "5ddfd2bc44ea85025c02dbce                   0.0        0.0       0.0   \n",
       "\n",
       "                          Intake Temperature.value  Intake Temperature.unit  \\\n",
       "track.id                                                                      \n",
       "5ddfd2ba44ea85025c02d828                       0.0                      0.0   \n",
       "5ddfd2bc44ea85025c02dbce                       0.0                      0.0   \n",
       "\n",
       "                          Consumption (GPS-based).value  \\\n",
       "track.id                                                  \n",
       "5ddfd2ba44ea85025c02d828                          100.0   \n",
       "5ddfd2bc44ea85025c02dbce                          100.0   \n",
       "\n",
       "                          Consumption (GPS-based).unit  GPS Altitude.value  \\\n",
       "track.id                                                                     \n",
       "5ddfd2ba44ea85025c02d828                         100.0                 0.0   \n",
       "5ddfd2bc44ea85025c02dbce                         100.0                 0.0   \n",
       "\n",
       "                          GPS Altitude.unit  Throttle Position.value  \\\n",
       "track.id                                                               \n",
       "5ddfd2ba44ea85025c02d828                0.0                      0.0   \n",
       "5ddfd2bc44ea85025c02dbce                0.0                      0.0   \n",
       "\n",
       "                          Throttle Position.unit  GPS Bearing.value  \\\n",
       "track.id                                                              \n",
       "5ddfd2ba44ea85025c02d828                     0.0                0.0   \n",
       "5ddfd2bc44ea85025c02dbce                     0.0                0.0   \n",
       "\n",
       "                          GPS Bearing.unit  Consumption.value  \\\n",
       "track.id                                                        \n",
       "5ddfd2ba44ea85025c02d828               0.0                0.0   \n",
       "5ddfd2bc44ea85025c02dbce               0.0                0.0   \n",
       "\n",
       "                          Consumption.unit  GPS Accuracy.value  \\\n",
       "track.id                                                         \n",
       "5ddfd2ba44ea85025c02d828               0.0                 0.0   \n",
       "5ddfd2bc44ea85025c02dbce               0.0                 0.0   \n",
       "\n",
       "                          GPS Accuracy.unit  CO2 Emission (GPS-based).value  \\\n",
       "track.id                                                                      \n",
       "5ddfd2ba44ea85025c02d828                0.0                           100.0   \n",
       "5ddfd2bc44ea85025c02dbce                0.0                           100.0   \n",
       "\n",
       "                          CO2 Emission (GPS-based).unit  GPS Speed.value  \\\n",
       "track.id                                                                   \n",
       "5ddfd2ba44ea85025c02d828                          100.0              0.0   \n",
       "5ddfd2bc44ea85025c02dbce                          100.0              0.0   \n",
       "\n",
       "                          GPS Speed.unit  track.id  track.length  track.begin  \\\n",
       "track.id                                                                        \n",
       "5ddfd2ba44ea85025c02d828             0.0       0.0           0.0          0.0   \n",
       "5ddfd2bc44ea85025c02dbce             0.0       0.0           0.0          0.0   \n",
       "\n",
       "                          track.end  sensor.type  sensor.engineDisplacement  \\\n",
       "track.id                                                                      \n",
       "5ddfd2ba44ea85025c02d828        0.0          0.0                        0.0   \n",
       "5ddfd2bc44ea85025c02dbce        0.0          0.0                        0.0   \n",
       "\n",
       "                          sensor.model  sensor.id  sensor.fuelType  \\\n",
       "track.id                                                             \n",
       "5ddfd2ba44ea85025c02d828           0.0        0.0              0.0   \n",
       "5ddfd2bc44ea85025c02dbce           0.0        0.0              0.0   \n",
       "\n",
       "                          sensor.constructionYear  sensor.manufacturer  \\\n",
       "track.id                                                                 \n",
       "5ddfd2ba44ea85025c02d828                      0.0                  0.0   \n",
       "5ddfd2bc44ea85025c02dbce                      0.0                  0.0   \n",
       "\n",
       "                          track.appVersion  track.touVersion  GPS HDOP.value  \\\n",
       "track.id                                                                       \n",
       "5ddfd2ba44ea85025c02d828             100.0             100.0             0.0   \n",
       "5ddfd2bc44ea85025c02dbce             100.0             100.0             0.0   \n",
       "\n",
       "                          GPS HDOP.unit  GPS PDOP.value  GPS PDOP.unit  \\\n",
       "track.id                                                                 \n",
       "5ddfd2ba44ea85025c02d828            0.0             0.0            0.0   \n",
       "5ddfd2bc44ea85025c02dbce            0.0             0.0            0.0   \n",
       "\n",
       "                          GPS VDOP.value  GPS VDOP.unit  MAF.value  MAF.unit  \\\n",
       "track.id                                                                       \n",
       "5ddfd2ba44ea85025c02d828             0.0            0.0      100.0     100.0   \n",
       "5ddfd2bc44ea85025c02dbce             0.0            0.0      100.0     100.0   \n",
       "\n",
       "                          O2 Lambda Voltage ER.value  \\\n",
       "track.id                                               \n",
       "5ddfd2ba44ea85025c02d828                       100.0   \n",
       "5ddfd2bc44ea85025c02dbce                       100.0   \n",
       "\n",
       "                          O2 Lambda Voltage ER.unit  O2 Lambda Voltage.value  \\\n",
       "track.id                                                                       \n",
       "5ddfd2ba44ea85025c02d828                      100.0                    100.0   \n",
       "5ddfd2bc44ea85025c02dbce                      100.0                    100.0   \n",
       "\n",
       "                          O2 Lambda Voltage.unit  \n",
       "track.id                                          \n",
       "5ddfd2ba44ea85025c02d828                   100.0  \n",
       "5ddfd2bc44ea85025c02dbce                   100.0  "
      ]
     },
     "execution_count": 28,
     "metadata": {},
     "output_type": "execute_result"
    }
   ],
   "source": [
    "count, proportion = inspect.missing_values_per_track(dublicates)\n",
    "proportion"
   ]
  },
  {
   "cell_type": "markdown",
   "metadata": {},
   "source": [
    "If you have selected a variable to plot ...  do some plotting!     \n",
    "In the legend of the plot click on the tracks to discover the dublicates.  "
   ]
  },
  {
   "cell_type": "code",
   "execution_count": 29,
   "metadata": {
    "ExecuteTime": {
     "end_time": "2020-11-10T13:12:30.965627Z",
     "start_time": "2020-11-10T13:12:30.825348Z"
    }
   },
   "outputs": [
    {
     "data": {
      "application/vnd.plotly.v1+json": {
       "config": {
        "plotlyServerURL": "https://plot.ly"
       },
       "data": [
        {
         "hovertemplate": "<b>%{hovertext}</b><br><br>track.id=5ddfd2ba44ea85025c02d828<br>index=%{x}<br>Speed.value=%{y}<extra></extra>",
         "hovertext": [
          "2019-11-28T13:41:36",
          "2019-11-28T13:41:47",
          "2019-11-28T13:41:52",
          "2019-11-28T13:41:57",
          "2019-11-28T13:42:02",
          "2019-11-28T13:42:07",
          "2019-11-28T13:42:13",
          "2019-11-28T13:42:18",
          "2019-11-28T13:42:23",
          "2019-11-28T13:42:28",
          "2019-11-28T13:42:33",
          "2019-11-28T13:42:38",
          "2019-11-28T13:42:43",
          "2019-11-28T13:42:48",
          "2019-11-28T13:42:53",
          "2019-11-28T13:42:59",
          "2019-11-28T13:43:04",
          "2019-11-28T13:43:09",
          "2019-11-28T13:43:14",
          "2019-11-28T13:43:19",
          "2019-11-28T13:43:24",
          "2019-11-28T13:43:29",
          "2019-11-28T13:43:34",
          "2019-11-28T13:43:39",
          "2019-11-28T13:43:44",
          "2019-11-28T13:43:49",
          "2019-11-28T13:43:54",
          "2019-11-28T13:43:59",
          "2019-11-28T13:44:05",
          "2019-11-28T13:44:10",
          "2019-11-28T13:44:15",
          "2019-11-28T13:44:20",
          "2019-11-28T13:44:25",
          "2019-11-28T13:44:30",
          "2019-11-28T13:44:35",
          "2019-11-28T13:44:40",
          "2019-11-28T13:44:45",
          "2019-11-28T13:44:50",
          "2019-11-28T13:44:55",
          "2019-11-28T13:45:00",
          "2019-11-28T13:45:06",
          "2019-11-28T13:45:11",
          "2019-11-28T13:45:16",
          "2019-11-28T13:45:21",
          "2019-11-28T13:45:26",
          "2019-11-28T13:45:31",
          "2019-11-28T13:45:36",
          "2019-11-28T13:45:41",
          "2019-11-28T13:45:46",
          "2019-11-28T13:45:51",
          "2019-11-28T13:45:56",
          "2019-11-28T13:46:02",
          "2019-11-28T13:46:07",
          "2019-11-28T13:46:12",
          "2019-11-28T13:46:17",
          "2019-11-28T13:46:22",
          "2019-11-28T13:46:27",
          "2019-11-28T13:46:32",
          "2019-11-28T13:46:37",
          "2019-11-28T13:46:42",
          "2019-11-28T13:46:48",
          "2019-11-28T13:46:53",
          "2019-11-28T13:46:58",
          "2019-11-28T13:47:03",
          "2019-11-28T13:47:08",
          "2019-11-28T13:47:13",
          "2019-11-28T13:47:18",
          "2019-11-28T13:47:23",
          "2019-11-28T13:47:28",
          "2019-11-28T13:47:33",
          "2019-11-28T13:47:38",
          "2019-11-28T13:47:43",
          "2019-11-28T13:47:49",
          "2019-11-28T13:47:54",
          "2019-11-28T13:47:59",
          "2019-11-28T13:48:04",
          "2019-11-28T13:48:09",
          "2019-11-28T13:48:14",
          "2019-11-28T13:48:19",
          "2019-11-28T13:48:24",
          "2019-11-28T13:48:29",
          "2019-11-28T13:48:34",
          "2019-11-28T13:48:39",
          "2019-11-28T13:48:44",
          "2019-11-28T13:48:50",
          "2019-11-28T13:48:55",
          "2019-11-28T13:49:00",
          "2019-11-28T13:49:05",
          "2019-11-28T13:49:10",
          "2019-11-28T13:49:15",
          "2019-11-28T13:49:20",
          "2019-11-28T13:49:25",
          "2019-11-28T13:49:30",
          "2019-11-28T13:49:35",
          "2019-11-28T13:49:40",
          "2019-11-28T13:49:46",
          "2019-11-28T13:49:51",
          "2019-11-28T13:49:56",
          "2019-11-28T13:50:01",
          "2019-11-28T13:50:06",
          "2019-11-28T13:50:11",
          "2019-11-28T13:50:16",
          "2019-11-28T13:50:21",
          "2019-11-28T13:50:26",
          "2019-11-28T13:50:31",
          "2019-11-28T13:50:36",
          "2019-11-28T13:50:41",
          "2019-11-28T13:50:47",
          "2019-11-28T13:50:52",
          "2019-11-28T13:50:57",
          "2019-11-28T13:51:02",
          "2019-11-28T13:51:07",
          "2019-11-28T13:51:12",
          "2019-11-28T13:51:17",
          "2019-11-28T13:51:22",
          "2019-11-28T13:51:27",
          "2019-11-28T13:51:32",
          "2019-11-28T13:51:37",
          "2019-11-28T13:51:43",
          "2019-11-28T13:51:48",
          "2019-11-28T13:51:53",
          "2019-11-28T13:51:58",
          "2019-11-28T13:52:03",
          "2019-11-28T13:52:08",
          "2019-11-28T13:52:13",
          "2019-11-28T13:52:18",
          "2019-11-28T13:52:23",
          "2019-11-28T13:52:28",
          "2019-11-28T13:52:34",
          "2019-11-28T13:52:39",
          "2019-11-28T13:52:44",
          "2019-11-28T13:52:49",
          "2019-11-28T13:52:54",
          "2019-11-28T13:52:59",
          "2019-11-28T13:53:04",
          "2019-11-28T13:53:09",
          "2019-11-28T13:53:14",
          "2019-11-28T13:53:19",
          "2019-11-28T13:53:24",
          "2019-11-28T13:53:29",
          "2019-11-28T13:53:35",
          "2019-11-28T13:53:40",
          "2019-11-28T13:53:45",
          "2019-11-28T13:53:50",
          "2019-11-28T13:53:55",
          "2019-11-28T13:54:00",
          "2019-11-28T13:54:05",
          "2019-11-28T13:54:10",
          "2019-11-28T13:54:15",
          "2019-11-28T13:54:20",
          "2019-11-28T13:54:25",
          "2019-11-28T13:54:31",
          "2019-11-28T13:54:36",
          "2019-11-28T13:54:41",
          "2019-11-28T13:54:46",
          "2019-11-28T13:54:51",
          "2019-11-28T13:54:56",
          "2019-11-28T13:55:01",
          "2019-11-28T13:55:06",
          "2019-11-28T13:55:11",
          "2019-11-28T13:55:16",
          "2019-11-28T13:55:21",
          "2019-11-28T13:55:27",
          "2019-11-28T13:55:32",
          "2019-11-28T13:55:37",
          "2019-11-28T13:55:42",
          "2019-11-28T13:55:47",
          "2019-11-28T13:55:52",
          "2019-11-28T13:55:57",
          "2019-11-28T13:56:02",
          "2019-11-28T13:56:07",
          "2019-11-28T13:56:12",
          "2019-11-28T13:56:18",
          "2019-11-28T13:56:23",
          "2019-11-28T13:56:28",
          "2019-11-28T13:56:33",
          "2019-11-28T13:56:38",
          "2019-11-28T13:56:43",
          "2019-11-28T13:56:48",
          "2019-11-28T13:56:53",
          "2019-11-28T13:56:58",
          "2019-11-28T13:57:03",
          "2019-11-28T13:57:09",
          "2019-11-28T13:57:14",
          "2019-11-28T13:57:19",
          "2019-11-28T13:57:24"
         ],
         "legendgroup": "5ddfd2ba44ea85025c02d828",
         "line": {
          "color": "#636efa",
          "dash": "solid"
         },
         "mode": "lines+markers",
         "name": "5ddfd2ba44ea85025c02d828",
         "orientation": "v",
         "showlegend": true,
         "type": "scatter",
         "x": [
          0,
          1,
          2,
          3,
          4,
          5,
          6,
          7,
          8,
          9,
          10,
          11,
          12,
          13,
          14,
          15,
          16,
          17,
          18,
          19,
          20,
          21,
          22,
          23,
          24,
          25,
          26,
          27,
          28,
          29,
          30,
          31,
          32,
          33,
          34,
          35,
          36,
          37,
          38,
          39,
          40,
          41,
          42,
          43,
          44,
          45,
          46,
          47,
          48,
          49,
          50,
          51,
          52,
          53,
          54,
          55,
          56,
          57,
          58,
          59,
          60,
          61,
          62,
          63,
          64,
          65,
          66,
          67,
          68,
          69,
          70,
          71,
          72,
          73,
          74,
          75,
          76,
          77,
          78,
          79,
          80,
          81,
          82,
          83,
          84,
          85,
          86,
          87,
          88,
          89,
          90,
          91,
          92,
          93,
          94,
          95,
          96,
          97,
          98,
          99,
          100,
          101,
          102,
          103,
          104,
          105,
          106,
          107,
          108,
          109,
          110,
          111,
          112,
          113,
          114,
          115,
          116,
          117,
          118,
          119,
          120,
          121,
          122,
          123,
          124,
          125,
          126,
          127,
          128,
          129,
          130,
          131,
          132,
          133,
          134,
          135,
          136,
          137,
          138,
          139,
          140,
          141,
          142,
          143,
          144,
          145,
          146,
          147,
          148,
          149,
          150,
          151,
          152,
          153,
          154,
          155,
          156,
          157,
          158,
          159,
          160,
          161,
          162,
          163,
          164,
          165,
          166,
          167,
          168,
          169,
          170,
          171,
          172,
          173,
          174,
          175,
          176,
          177,
          178,
          179,
          180,
          181,
          182,
          183,
          184,
          185
         ],
         "xaxis": "x",
         "y": [
          -9.20634937286377,
          49.91160183399916,
          52.13407705724239,
          43.470900774002075,
          6.399497300386429,
          30.623655915260315,
          31.05322140455246,
          35.00692945718765,
          55.37586925923824,
          62,
          68.44063323736191,
          74.80510663986206,
          74.00000110268593,
          69.57143065333366,
          64.3125,
          70,
          69,
          71.9999989271164,
          76.00000169873238,
          68.6214833855629,
          69,
          66.9999980032444,
          66.11188811063766,
          62.45330110192299,
          63.60377359390259,
          68.00000101327896,
          65,
          66.14657111465931,
          71.00000211596489,
          72.99999891221523,
          73.37595689296722,
          73.6990313231945,
          71.99999785423279,
          72.0000010728836,
          68.99999820068479,
          71.8903399631381,
          70.00000104308128,
          71.9999989271164,
          72.91686624288559,
          67.99999924004078,
          65.42646864056587,
          53.29629787802696,
          4.547445237636566,
          0,
          0,
          0,
          0,
          0,
          0,
          0,
          28.850828289985657,
          30.112531185150146,
          36.999999448657036,
          30.859770119190216,
          24.000000044703484,
          27.831201627850533,
          31.145540833473206,
          26.739130437374115,
          31,
          32.88126599788666,
          34,
          34.00000050663948,
          32.00000047683716,
          24.000000670552254,
          32.509971499443054,
          32.00000047683716,
          28,
          27.939535405486822,
          34,
          39,
          32.8639053106308,
          4.987500060349703,
          0,
          0,
          0,
          0,
          0,
          0,
          18.00000005029142,
          21.999999344348907,
          35.9999994635582,
          42,
          52,
          51.997618284774944,
          50.000000186264515,
          48.9999985396862,
          47.00000140070915,
          49,
          51,
          52.00000038743019,
          52.99999921023846,
          49.99999850988388,
          51.991050485521555,
          50.00000149011612,
          50,
          50,
          49.0000007301569,
          48.9999985396862,
          49,
          46.000000685453415,
          43.000000320374966,
          31.171428561210632,
          0.2633228749036789,
          0,
          0,
          0,
          0,
          0,
          16.191666439175606,
          34.60274076461792,
          52.000001549720764,
          53.99999839067459,
          52.99999842047691,
          53,
          56.00000062584877,
          55.99999874830246,
          56.000001668930054,
          56.00000056065619,
          16.4248366355896,
          11.745843172073364,
          23.636111825704575,
          31.053789615631104,
          34.42894634604454,
          35.267195761203766,
          34.11764718592167,
          37.000000551342964,
          33.02588137984276,
          39,
          39.98005780018866,
          30,
          43,
          42.00000062584877,
          40,
          32.654054045677185,
          0,
          25.93790227174759,
          34.99999947845936,
          28.000000834465027,
          32.54453343153,
          33.99999898672104,
          24.99999962747097,
          27.17039066553116,
          24.146608665585518,
          33.67012935876846,
          26.74643874168396,
          20.78859919309616,
          37.11165103316307,
          27.999999582767487,
          14.374683141708374,
          22.48292648792267,
          27.999999582767487,
          25,
          21.999999344348907,
          22,
          18.999999433755875,
          18,
          20,
          11,
          19.256266832351685,
          34.00000101327896,
          37.000000827014446,
          12.656716048717499,
          0,
          7.4213480949401855,
          3.000000089406967,
          23.999999284744263,
          44.18047271668911,
          48.15492957830429,
          28.530863344669342,
          15,
          38.39523923397064,
          43.912832275033,
          46,
          43.99999934434891,
          40.107055962085724,
          22.096202038228512,
          19.06235608458519,
          14.651629090309143,
          28.24500000476837,
          43.97690416499972,
          20.045130044221878,
          4,
          0,
          0.36153846234083176,
          13.000000387430191,
          0
         ],
         "yaxis": "y"
        },
        {
         "hovertemplate": "<b>%{hovertext}</b><br><br>track.id=5ddfd2bc44ea85025c02dbce<br>index=%{x}<br>Speed.value=%{y}<extra></extra>",
         "hovertext": [
          "2019-11-28T13:41:36",
          "2019-11-28T13:41:47",
          "2019-11-28T13:41:52",
          "2019-11-28T13:41:57",
          "2019-11-28T13:42:02",
          "2019-11-28T13:42:07",
          "2019-11-28T13:42:13",
          "2019-11-28T13:42:18",
          "2019-11-28T13:42:23",
          "2019-11-28T13:42:28",
          "2019-11-28T13:42:33",
          "2019-11-28T13:42:38",
          "2019-11-28T13:42:43",
          "2019-11-28T13:42:48",
          "2019-11-28T13:42:53",
          "2019-11-28T13:42:59",
          "2019-11-28T13:43:04",
          "2019-11-28T13:43:09",
          "2019-11-28T13:43:14",
          "2019-11-28T13:43:19",
          "2019-11-28T13:43:24",
          "2019-11-28T13:43:29",
          "2019-11-28T13:43:34",
          "2019-11-28T13:43:39",
          "2019-11-28T13:43:44",
          "2019-11-28T13:43:49",
          "2019-11-28T13:43:54",
          "2019-11-28T13:43:59",
          "2019-11-28T13:44:05",
          "2019-11-28T13:44:10",
          "2019-11-28T13:44:15",
          "2019-11-28T13:44:20",
          "2019-11-28T13:44:25",
          "2019-11-28T13:44:30",
          "2019-11-28T13:44:35",
          "2019-11-28T13:44:40",
          "2019-11-28T13:44:45",
          "2019-11-28T13:44:50",
          "2019-11-28T13:44:55",
          "2019-11-28T13:45:00",
          "2019-11-28T13:45:06",
          "2019-11-28T13:45:11",
          "2019-11-28T13:45:16",
          "2019-11-28T13:45:21",
          "2019-11-28T13:45:26",
          "2019-11-28T13:45:31",
          "2019-11-28T13:45:36",
          "2019-11-28T13:45:41",
          "2019-11-28T13:45:46",
          "2019-11-28T13:45:51",
          "2019-11-28T13:45:56",
          "2019-11-28T13:46:02",
          "2019-11-28T13:46:07",
          "2019-11-28T13:46:12",
          "2019-11-28T13:46:17",
          "2019-11-28T13:46:22",
          "2019-11-28T13:46:27",
          "2019-11-28T13:46:32",
          "2019-11-28T13:46:37",
          "2019-11-28T13:46:42",
          "2019-11-28T13:46:48",
          "2019-11-28T13:46:53",
          "2019-11-28T13:46:58",
          "2019-11-28T13:47:03",
          "2019-11-28T13:47:08",
          "2019-11-28T13:47:13",
          "2019-11-28T13:47:18",
          "2019-11-28T13:47:23",
          "2019-11-28T13:47:28",
          "2019-11-28T13:47:33",
          "2019-11-28T13:47:38",
          "2019-11-28T13:47:43",
          "2019-11-28T13:47:49",
          "2019-11-28T13:47:54",
          "2019-11-28T13:47:59",
          "2019-11-28T13:48:04",
          "2019-11-28T13:48:09",
          "2019-11-28T13:48:14",
          "2019-11-28T13:48:19",
          "2019-11-28T13:48:24",
          "2019-11-28T13:48:29",
          "2019-11-28T13:48:34",
          "2019-11-28T13:48:39",
          "2019-11-28T13:48:44",
          "2019-11-28T13:48:50",
          "2019-11-28T13:48:55",
          "2019-11-28T13:49:00",
          "2019-11-28T13:49:05",
          "2019-11-28T13:49:10",
          "2019-11-28T13:49:15",
          "2019-11-28T13:49:20",
          "2019-11-28T13:49:25",
          "2019-11-28T13:49:30",
          "2019-11-28T13:49:35",
          "2019-11-28T13:49:40",
          "2019-11-28T13:49:46",
          "2019-11-28T13:49:51",
          "2019-11-28T13:49:56",
          "2019-11-28T13:50:01",
          "2019-11-28T13:50:06",
          "2019-11-28T13:50:11",
          "2019-11-28T13:50:16",
          "2019-11-28T13:50:21",
          "2019-11-28T13:50:26",
          "2019-11-28T13:50:31",
          "2019-11-28T13:50:36",
          "2019-11-28T13:50:41",
          "2019-11-28T13:50:47",
          "2019-11-28T13:50:52",
          "2019-11-28T13:50:57",
          "2019-11-28T13:51:02",
          "2019-11-28T13:51:07",
          "2019-11-28T13:51:12",
          "2019-11-28T13:51:17",
          "2019-11-28T13:51:22",
          "2019-11-28T13:51:27",
          "2019-11-28T13:51:32",
          "2019-11-28T13:51:37",
          "2019-11-28T13:51:43",
          "2019-11-28T13:51:48",
          "2019-11-28T13:51:53",
          "2019-11-28T13:51:58",
          "2019-11-28T13:52:03",
          "2019-11-28T13:52:08",
          "2019-11-28T13:52:13",
          "2019-11-28T13:52:18",
          "2019-11-28T13:52:23",
          "2019-11-28T13:52:28",
          "2019-11-28T13:52:34",
          "2019-11-28T13:52:39",
          "2019-11-28T13:52:44",
          "2019-11-28T13:52:49",
          "2019-11-28T13:52:54",
          "2019-11-28T13:52:59",
          "2019-11-28T13:53:04",
          "2019-11-28T13:53:09",
          "2019-11-28T13:53:14",
          "2019-11-28T13:53:19",
          "2019-11-28T13:53:24",
          "2019-11-28T13:53:29",
          "2019-11-28T13:53:35",
          "2019-11-28T13:53:40",
          "2019-11-28T13:53:45",
          "2019-11-28T13:53:50",
          "2019-11-28T13:53:55",
          "2019-11-28T13:54:00",
          "2019-11-28T13:54:05",
          "2019-11-28T13:54:10",
          "2019-11-28T13:54:15",
          "2019-11-28T13:54:20",
          "2019-11-28T13:54:25",
          "2019-11-28T13:54:31",
          "2019-11-28T13:54:36",
          "2019-11-28T13:54:41",
          "2019-11-28T13:54:46",
          "2019-11-28T13:54:51",
          "2019-11-28T13:54:56",
          "2019-11-28T13:55:01",
          "2019-11-28T13:55:06",
          "2019-11-28T13:55:11",
          "2019-11-28T13:55:16",
          "2019-11-28T13:55:21",
          "2019-11-28T13:55:27",
          "2019-11-28T13:55:32",
          "2019-11-28T13:55:37",
          "2019-11-28T13:55:42",
          "2019-11-28T13:55:47",
          "2019-11-28T13:55:52",
          "2019-11-28T13:55:57",
          "2019-11-28T13:56:02",
          "2019-11-28T13:56:07",
          "2019-11-28T13:56:12",
          "2019-11-28T13:56:18",
          "2019-11-28T13:56:23",
          "2019-11-28T13:56:28",
          "2019-11-28T13:56:33",
          "2019-11-28T13:56:38",
          "2019-11-28T13:56:43",
          "2019-11-28T13:56:48",
          "2019-11-28T13:56:53",
          "2019-11-28T13:56:58",
          "2019-11-28T13:57:03",
          "2019-11-28T13:57:09",
          "2019-11-28T13:57:14",
          "2019-11-28T13:57:19",
          "2019-11-28T13:57:24"
         ],
         "legendgroup": "5ddfd2bc44ea85025c02dbce",
         "line": {
          "color": "#EF553B",
          "dash": "solid"
         },
         "mode": "lines+markers",
         "name": "5ddfd2bc44ea85025c02dbce",
         "orientation": "v",
         "showlegend": true,
         "type": "scatter",
         "x": [
          0,
          1,
          2,
          3,
          4,
          5,
          6,
          7,
          8,
          9,
          10,
          11,
          12,
          13,
          14,
          15,
          16,
          17,
          18,
          19,
          20,
          21,
          22,
          23,
          24,
          25,
          26,
          27,
          28,
          29,
          30,
          31,
          32,
          33,
          34,
          35,
          36,
          37,
          38,
          39,
          40,
          41,
          42,
          43,
          44,
          45,
          46,
          47,
          48,
          49,
          50,
          51,
          52,
          53,
          54,
          55,
          56,
          57,
          58,
          59,
          60,
          61,
          62,
          63,
          64,
          65,
          66,
          67,
          68,
          69,
          70,
          71,
          72,
          73,
          74,
          75,
          76,
          77,
          78,
          79,
          80,
          81,
          82,
          83,
          84,
          85,
          86,
          87,
          88,
          89,
          90,
          91,
          92,
          93,
          94,
          95,
          96,
          97,
          98,
          99,
          100,
          101,
          102,
          103,
          104,
          105,
          106,
          107,
          108,
          109,
          110,
          111,
          112,
          113,
          114,
          115,
          116,
          117,
          118,
          119,
          120,
          121,
          122,
          123,
          124,
          125,
          126,
          127,
          128,
          129,
          130,
          131,
          132,
          133,
          134,
          135,
          136,
          137,
          138,
          139,
          140,
          141,
          142,
          143,
          144,
          145,
          146,
          147,
          148,
          149,
          150,
          151,
          152,
          153,
          154,
          155,
          156,
          157,
          158,
          159,
          160,
          161,
          162,
          163,
          164,
          165,
          166,
          167,
          168,
          169,
          170,
          171,
          172,
          173,
          174,
          175,
          176,
          177,
          178,
          179,
          180,
          181,
          182,
          183,
          184,
          185
         ],
         "xaxis": "x",
         "y": [
          -9.20634937286377,
          49.91160183399916,
          52.13407705724239,
          43.470900774002075,
          6.399497300386429,
          30.623655915260315,
          31.05322140455246,
          35.00692945718765,
          55.37586925923824,
          62,
          68.44063323736191,
          74.80510663986206,
          74.00000110268593,
          69.57143065333366,
          64.3125,
          70,
          69,
          71.9999989271164,
          76.00000169873238,
          68.6214833855629,
          69,
          66.9999980032444,
          66.11188811063766,
          62.45330110192299,
          63.60377359390259,
          68.00000101327896,
          65,
          66.14657111465931,
          71.00000211596489,
          72.99999891221523,
          73.37595689296722,
          73.6990313231945,
          71.99999785423279,
          72.0000010728836,
          68.99999820068479,
          71.8903399631381,
          70.00000104308128,
          71.9999989271164,
          72.91686624288559,
          67.99999924004078,
          65.42646864056587,
          53.29629787802696,
          4.547445237636566,
          0,
          0,
          0,
          0,
          0,
          0,
          0,
          28.850828289985657,
          30.112531185150146,
          36.999999448657036,
          30.859770119190216,
          24.000000044703484,
          27.831201627850533,
          31.145540833473206,
          26.739130437374115,
          31,
          32.88126599788666,
          34,
          34.00000050663948,
          32.00000047683716,
          24.000000670552254,
          32.509971499443054,
          32.00000047683716,
          28,
          27.939535405486822,
          34,
          39,
          32.8639053106308,
          4.987500060349703,
          0,
          0,
          0,
          0,
          0,
          0,
          18.00000005029142,
          21.999999344348907,
          35.9999994635582,
          42,
          52,
          51.997618284774944,
          50.000000186264515,
          48.9999985396862,
          47.00000140070915,
          49,
          51,
          52.00000038743019,
          52.99999921023846,
          49.99999850988388,
          51.991050485521555,
          50.00000149011612,
          50,
          50,
          49.0000007301569,
          48.9999985396862,
          49,
          46.000000685453415,
          43.000000320374966,
          31.171428561210632,
          0.2633228749036789,
          0,
          0,
          0,
          0,
          0,
          16.191666439175606,
          34.60274076461792,
          52.000001549720764,
          53.99999839067459,
          52.99999842047691,
          53,
          56.00000062584877,
          55.99999874830246,
          56.000001668930054,
          56.00000056065619,
          16.4248366355896,
          11.745843172073364,
          23.636111825704575,
          31.053789615631104,
          34.42894634604454,
          35.267195761203766,
          34.11764718592167,
          37.000000551342964,
          33.02588137984276,
          39,
          39.98005780018866,
          30,
          43,
          42.00000062584877,
          40,
          32.654054045677185,
          0,
          25.93790227174759,
          34.99999947845936,
          28.000000834465027,
          32.54453343153,
          33.99999898672104,
          24.99999962747097,
          27.17039066553116,
          24.146608665585518,
          33.67012935876846,
          26.74643874168396,
          20.78859919309616,
          37.11165103316307,
          27.999999582767487,
          14.374683141708374,
          22.48292648792267,
          27.999999582767487,
          25,
          21.999999344348907,
          22,
          18.999999433755875,
          18,
          20,
          11,
          19.256266832351685,
          34.00000101327896,
          37.000000827014446,
          12.656716048717499,
          0,
          7.4213480949401855,
          3.000000089406967,
          23.999999284744263,
          44.18047271668911,
          48.15492957830429,
          28.530863344669342,
          15,
          38.39523923397064,
          43.912832275033,
          46,
          43.99999934434891,
          40.107055962085724,
          22.096202038228512,
          19.06235608458519,
          14.651629090309143,
          28.24500000476837,
          43.97690416499972,
          20.045130044221878,
          4,
          0,
          0.36153846234083176,
          13.000000387430191,
          0
         ],
         "yaxis": "y"
        }
       ],
       "layout": {
        "legend": {
         "title": {
          "text": "track.id"
         },
         "tracegroupgap": 0
        },
        "margin": {
         "t": 60
        },
        "template": {
         "data": {
          "bar": [
           {
            "error_x": {
             "color": "#2a3f5f"
            },
            "error_y": {
             "color": "#2a3f5f"
            },
            "marker": {
             "line": {
              "color": "#E5ECF6",
              "width": 0.5
             }
            },
            "type": "bar"
           }
          ],
          "barpolar": [
           {
            "marker": {
             "line": {
              "color": "#E5ECF6",
              "width": 0.5
             }
            },
            "type": "barpolar"
           }
          ],
          "carpet": [
           {
            "aaxis": {
             "endlinecolor": "#2a3f5f",
             "gridcolor": "white",
             "linecolor": "white",
             "minorgridcolor": "white",
             "startlinecolor": "#2a3f5f"
            },
            "baxis": {
             "endlinecolor": "#2a3f5f",
             "gridcolor": "white",
             "linecolor": "white",
             "minorgridcolor": "white",
             "startlinecolor": "#2a3f5f"
            },
            "type": "carpet"
           }
          ],
          "choropleth": [
           {
            "colorbar": {
             "outlinewidth": 0,
             "ticks": ""
            },
            "type": "choropleth"
           }
          ],
          "contour": [
           {
            "colorbar": {
             "outlinewidth": 0,
             "ticks": ""
            },
            "colorscale": [
             [
              0,
              "#0d0887"
             ],
             [
              0.1111111111111111,
              "#46039f"
             ],
             [
              0.2222222222222222,
              "#7201a8"
             ],
             [
              0.3333333333333333,
              "#9c179e"
             ],
             [
              0.4444444444444444,
              "#bd3786"
             ],
             [
              0.5555555555555556,
              "#d8576b"
             ],
             [
              0.6666666666666666,
              "#ed7953"
             ],
             [
              0.7777777777777778,
              "#fb9f3a"
             ],
             [
              0.8888888888888888,
              "#fdca26"
             ],
             [
              1,
              "#f0f921"
             ]
            ],
            "type": "contour"
           }
          ],
          "contourcarpet": [
           {
            "colorbar": {
             "outlinewidth": 0,
             "ticks": ""
            },
            "type": "contourcarpet"
           }
          ],
          "heatmap": [
           {
            "colorbar": {
             "outlinewidth": 0,
             "ticks": ""
            },
            "colorscale": [
             [
              0,
              "#0d0887"
             ],
             [
              0.1111111111111111,
              "#46039f"
             ],
             [
              0.2222222222222222,
              "#7201a8"
             ],
             [
              0.3333333333333333,
              "#9c179e"
             ],
             [
              0.4444444444444444,
              "#bd3786"
             ],
             [
              0.5555555555555556,
              "#d8576b"
             ],
             [
              0.6666666666666666,
              "#ed7953"
             ],
             [
              0.7777777777777778,
              "#fb9f3a"
             ],
             [
              0.8888888888888888,
              "#fdca26"
             ],
             [
              1,
              "#f0f921"
             ]
            ],
            "type": "heatmap"
           }
          ],
          "heatmapgl": [
           {
            "colorbar": {
             "outlinewidth": 0,
             "ticks": ""
            },
            "colorscale": [
             [
              0,
              "#0d0887"
             ],
             [
              0.1111111111111111,
              "#46039f"
             ],
             [
              0.2222222222222222,
              "#7201a8"
             ],
             [
              0.3333333333333333,
              "#9c179e"
             ],
             [
              0.4444444444444444,
              "#bd3786"
             ],
             [
              0.5555555555555556,
              "#d8576b"
             ],
             [
              0.6666666666666666,
              "#ed7953"
             ],
             [
              0.7777777777777778,
              "#fb9f3a"
             ],
             [
              0.8888888888888888,
              "#fdca26"
             ],
             [
              1,
              "#f0f921"
             ]
            ],
            "type": "heatmapgl"
           }
          ],
          "histogram": [
           {
            "marker": {
             "colorbar": {
              "outlinewidth": 0,
              "ticks": ""
             }
            },
            "type": "histogram"
           }
          ],
          "histogram2d": [
           {
            "colorbar": {
             "outlinewidth": 0,
             "ticks": ""
            },
            "colorscale": [
             [
              0,
              "#0d0887"
             ],
             [
              0.1111111111111111,
              "#46039f"
             ],
             [
              0.2222222222222222,
              "#7201a8"
             ],
             [
              0.3333333333333333,
              "#9c179e"
             ],
             [
              0.4444444444444444,
              "#bd3786"
             ],
             [
              0.5555555555555556,
              "#d8576b"
             ],
             [
              0.6666666666666666,
              "#ed7953"
             ],
             [
              0.7777777777777778,
              "#fb9f3a"
             ],
             [
              0.8888888888888888,
              "#fdca26"
             ],
             [
              1,
              "#f0f921"
             ]
            ],
            "type": "histogram2d"
           }
          ],
          "histogram2dcontour": [
           {
            "colorbar": {
             "outlinewidth": 0,
             "ticks": ""
            },
            "colorscale": [
             [
              0,
              "#0d0887"
             ],
             [
              0.1111111111111111,
              "#46039f"
             ],
             [
              0.2222222222222222,
              "#7201a8"
             ],
             [
              0.3333333333333333,
              "#9c179e"
             ],
             [
              0.4444444444444444,
              "#bd3786"
             ],
             [
              0.5555555555555556,
              "#d8576b"
             ],
             [
              0.6666666666666666,
              "#ed7953"
             ],
             [
              0.7777777777777778,
              "#fb9f3a"
             ],
             [
              0.8888888888888888,
              "#fdca26"
             ],
             [
              1,
              "#f0f921"
             ]
            ],
            "type": "histogram2dcontour"
           }
          ],
          "mesh3d": [
           {
            "colorbar": {
             "outlinewidth": 0,
             "ticks": ""
            },
            "type": "mesh3d"
           }
          ],
          "parcoords": [
           {
            "line": {
             "colorbar": {
              "outlinewidth": 0,
              "ticks": ""
             }
            },
            "type": "parcoords"
           }
          ],
          "pie": [
           {
            "automargin": true,
            "type": "pie"
           }
          ],
          "scatter": [
           {
            "marker": {
             "colorbar": {
              "outlinewidth": 0,
              "ticks": ""
             }
            },
            "type": "scatter"
           }
          ],
          "scatter3d": [
           {
            "line": {
             "colorbar": {
              "outlinewidth": 0,
              "ticks": ""
             }
            },
            "marker": {
             "colorbar": {
              "outlinewidth": 0,
              "ticks": ""
             }
            },
            "type": "scatter3d"
           }
          ],
          "scattercarpet": [
           {
            "marker": {
             "colorbar": {
              "outlinewidth": 0,
              "ticks": ""
             }
            },
            "type": "scattercarpet"
           }
          ],
          "scattergeo": [
           {
            "marker": {
             "colorbar": {
              "outlinewidth": 0,
              "ticks": ""
             }
            },
            "type": "scattergeo"
           }
          ],
          "scattergl": [
           {
            "marker": {
             "colorbar": {
              "outlinewidth": 0,
              "ticks": ""
             }
            },
            "type": "scattergl"
           }
          ],
          "scattermapbox": [
           {
            "marker": {
             "colorbar": {
              "outlinewidth": 0,
              "ticks": ""
             }
            },
            "type": "scattermapbox"
           }
          ],
          "scatterpolar": [
           {
            "marker": {
             "colorbar": {
              "outlinewidth": 0,
              "ticks": ""
             }
            },
            "type": "scatterpolar"
           }
          ],
          "scatterpolargl": [
           {
            "marker": {
             "colorbar": {
              "outlinewidth": 0,
              "ticks": ""
             }
            },
            "type": "scatterpolargl"
           }
          ],
          "scatterternary": [
           {
            "marker": {
             "colorbar": {
              "outlinewidth": 0,
              "ticks": ""
             }
            },
            "type": "scatterternary"
           }
          ],
          "surface": [
           {
            "colorbar": {
             "outlinewidth": 0,
             "ticks": ""
            },
            "colorscale": [
             [
              0,
              "#0d0887"
             ],
             [
              0.1111111111111111,
              "#46039f"
             ],
             [
              0.2222222222222222,
              "#7201a8"
             ],
             [
              0.3333333333333333,
              "#9c179e"
             ],
             [
              0.4444444444444444,
              "#bd3786"
             ],
             [
              0.5555555555555556,
              "#d8576b"
             ],
             [
              0.6666666666666666,
              "#ed7953"
             ],
             [
              0.7777777777777778,
              "#fb9f3a"
             ],
             [
              0.8888888888888888,
              "#fdca26"
             ],
             [
              1,
              "#f0f921"
             ]
            ],
            "type": "surface"
           }
          ],
          "table": [
           {
            "cells": {
             "fill": {
              "color": "#EBF0F8"
             },
             "line": {
              "color": "white"
             }
            },
            "header": {
             "fill": {
              "color": "#C8D4E3"
             },
             "line": {
              "color": "white"
             }
            },
            "type": "table"
           }
          ]
         },
         "layout": {
          "annotationdefaults": {
           "arrowcolor": "#2a3f5f",
           "arrowhead": 0,
           "arrowwidth": 1
          },
          "coloraxis": {
           "colorbar": {
            "outlinewidth": 0,
            "ticks": ""
           }
          },
          "colorscale": {
           "diverging": [
            [
             0,
             "#8e0152"
            ],
            [
             0.1,
             "#c51b7d"
            ],
            [
             0.2,
             "#de77ae"
            ],
            [
             0.3,
             "#f1b6da"
            ],
            [
             0.4,
             "#fde0ef"
            ],
            [
             0.5,
             "#f7f7f7"
            ],
            [
             0.6,
             "#e6f5d0"
            ],
            [
             0.7,
             "#b8e186"
            ],
            [
             0.8,
             "#7fbc41"
            ],
            [
             0.9,
             "#4d9221"
            ],
            [
             1,
             "#276419"
            ]
           ],
           "sequential": [
            [
             0,
             "#0d0887"
            ],
            [
             0.1111111111111111,
             "#46039f"
            ],
            [
             0.2222222222222222,
             "#7201a8"
            ],
            [
             0.3333333333333333,
             "#9c179e"
            ],
            [
             0.4444444444444444,
             "#bd3786"
            ],
            [
             0.5555555555555556,
             "#d8576b"
            ],
            [
             0.6666666666666666,
             "#ed7953"
            ],
            [
             0.7777777777777778,
             "#fb9f3a"
            ],
            [
             0.8888888888888888,
             "#fdca26"
            ],
            [
             1,
             "#f0f921"
            ]
           ],
           "sequentialminus": [
            [
             0,
             "#0d0887"
            ],
            [
             0.1111111111111111,
             "#46039f"
            ],
            [
             0.2222222222222222,
             "#7201a8"
            ],
            [
             0.3333333333333333,
             "#9c179e"
            ],
            [
             0.4444444444444444,
             "#bd3786"
            ],
            [
             0.5555555555555556,
             "#d8576b"
            ],
            [
             0.6666666666666666,
             "#ed7953"
            ],
            [
             0.7777777777777778,
             "#fb9f3a"
            ],
            [
             0.8888888888888888,
             "#fdca26"
            ],
            [
             1,
             "#f0f921"
            ]
           ]
          },
          "colorway": [
           "#636efa",
           "#EF553B",
           "#00cc96",
           "#ab63fa",
           "#FFA15A",
           "#19d3f3",
           "#FF6692",
           "#B6E880",
           "#FF97FF",
           "#FECB52"
          ],
          "font": {
           "color": "#2a3f5f"
          },
          "geo": {
           "bgcolor": "white",
           "lakecolor": "white",
           "landcolor": "#E5ECF6",
           "showlakes": true,
           "showland": true,
           "subunitcolor": "white"
          },
          "hoverlabel": {
           "align": "left"
          },
          "hovermode": "closest",
          "mapbox": {
           "style": "light"
          },
          "paper_bgcolor": "white",
          "plot_bgcolor": "#E5ECF6",
          "polar": {
           "angularaxis": {
            "gridcolor": "white",
            "linecolor": "white",
            "ticks": ""
           },
           "bgcolor": "#E5ECF6",
           "radialaxis": {
            "gridcolor": "white",
            "linecolor": "white",
            "ticks": ""
           }
          },
          "scene": {
           "xaxis": {
            "backgroundcolor": "#E5ECF6",
            "gridcolor": "white",
            "gridwidth": 2,
            "linecolor": "white",
            "showbackground": true,
            "ticks": "",
            "zerolinecolor": "white"
           },
           "yaxis": {
            "backgroundcolor": "#E5ECF6",
            "gridcolor": "white",
            "gridwidth": 2,
            "linecolor": "white",
            "showbackground": true,
            "ticks": "",
            "zerolinecolor": "white"
           },
           "zaxis": {
            "backgroundcolor": "#E5ECF6",
            "gridcolor": "white",
            "gridwidth": 2,
            "linecolor": "white",
            "showbackground": true,
            "ticks": "",
            "zerolinecolor": "white"
           }
          },
          "shapedefaults": {
           "line": {
            "color": "#2a3f5f"
           }
          },
          "ternary": {
           "aaxis": {
            "gridcolor": "white",
            "linecolor": "white",
            "ticks": ""
           },
           "baxis": {
            "gridcolor": "white",
            "linecolor": "white",
            "ticks": ""
           },
           "bgcolor": "#E5ECF6",
           "caxis": {
            "gridcolor": "white",
            "linecolor": "white",
            "ticks": ""
           }
          },
          "title": {
           "x": 0.05
          },
          "xaxis": {
           "automargin": true,
           "gridcolor": "white",
           "linecolor": "white",
           "ticks": "",
           "title": {
            "standoff": 15
           },
           "zerolinecolor": "white",
           "zerolinewidth": 2
          },
          "yaxis": {
           "automargin": true,
           "gridcolor": "white",
           "linecolor": "white",
           "ticks": "",
           "title": {
            "standoff": 15
           },
           "zerolinecolor": "white",
           "zerolinewidth": 2
          }
         }
        },
        "xaxis": {
         "anchor": "y",
         "domain": [
          0,
          1
         ],
         "title": {
          "text": "index"
         }
        },
        "yaxis": {
         "anchor": "x",
         "domain": [
          0,
          1
         ],
         "title": {
          "text": "Speed.value"
         }
        }
       }
      },
      "text/html": [
       "<div>\n",
       "        \n",
       "        \n",
       "            <div id=\"5a288779-4354-4ab0-9f8c-88a1a6fea5e1\" class=\"plotly-graph-div\" style=\"height:525px; width:100%;\"></div>\n",
       "            <script type=\"text/javascript\">\n",
       "                require([\"plotly\"], function(Plotly) {\n",
       "                    window.PLOTLYENV=window.PLOTLYENV || {};\n",
       "                    \n",
       "                if (document.getElementById(\"5a288779-4354-4ab0-9f8c-88a1a6fea5e1\")) {\n",
       "                    Plotly.newPlot(\n",
       "                        '5a288779-4354-4ab0-9f8c-88a1a6fea5e1',\n",
       "                        [{\"hovertemplate\": \"<b>%{hovertext}</b><br><br>track.id=5ddfd2ba44ea85025c02d828<br>index=%{x}<br>Speed.value=%{y}<extra></extra>\", \"hovertext\": [\"2019-11-28T13:41:36\", \"2019-11-28T13:41:47\", \"2019-11-28T13:41:52\", \"2019-11-28T13:41:57\", \"2019-11-28T13:42:02\", \"2019-11-28T13:42:07\", \"2019-11-28T13:42:13\", \"2019-11-28T13:42:18\", \"2019-11-28T13:42:23\", \"2019-11-28T13:42:28\", \"2019-11-28T13:42:33\", \"2019-11-28T13:42:38\", \"2019-11-28T13:42:43\", \"2019-11-28T13:42:48\", \"2019-11-28T13:42:53\", \"2019-11-28T13:42:59\", \"2019-11-28T13:43:04\", \"2019-11-28T13:43:09\", \"2019-11-28T13:43:14\", \"2019-11-28T13:43:19\", \"2019-11-28T13:43:24\", \"2019-11-28T13:43:29\", \"2019-11-28T13:43:34\", \"2019-11-28T13:43:39\", \"2019-11-28T13:43:44\", \"2019-11-28T13:43:49\", \"2019-11-28T13:43:54\", \"2019-11-28T13:43:59\", \"2019-11-28T13:44:05\", \"2019-11-28T13:44:10\", \"2019-11-28T13:44:15\", \"2019-11-28T13:44:20\", \"2019-11-28T13:44:25\", \"2019-11-28T13:44:30\", \"2019-11-28T13:44:35\", \"2019-11-28T13:44:40\", \"2019-11-28T13:44:45\", \"2019-11-28T13:44:50\", \"2019-11-28T13:44:55\", \"2019-11-28T13:45:00\", \"2019-11-28T13:45:06\", \"2019-11-28T13:45:11\", \"2019-11-28T13:45:16\", \"2019-11-28T13:45:21\", \"2019-11-28T13:45:26\", \"2019-11-28T13:45:31\", \"2019-11-28T13:45:36\", \"2019-11-28T13:45:41\", \"2019-11-28T13:45:46\", \"2019-11-28T13:45:51\", \"2019-11-28T13:45:56\", \"2019-11-28T13:46:02\", \"2019-11-28T13:46:07\", \"2019-11-28T13:46:12\", \"2019-11-28T13:46:17\", \"2019-11-28T13:46:22\", \"2019-11-28T13:46:27\", \"2019-11-28T13:46:32\", \"2019-11-28T13:46:37\", \"2019-11-28T13:46:42\", \"2019-11-28T13:46:48\", \"2019-11-28T13:46:53\", \"2019-11-28T13:46:58\", \"2019-11-28T13:47:03\", \"2019-11-28T13:47:08\", \"2019-11-28T13:47:13\", \"2019-11-28T13:47:18\", \"2019-11-28T13:47:23\", \"2019-11-28T13:47:28\", \"2019-11-28T13:47:33\", \"2019-11-28T13:47:38\", \"2019-11-28T13:47:43\", \"2019-11-28T13:47:49\", \"2019-11-28T13:47:54\", \"2019-11-28T13:47:59\", \"2019-11-28T13:48:04\", \"2019-11-28T13:48:09\", \"2019-11-28T13:48:14\", \"2019-11-28T13:48:19\", \"2019-11-28T13:48:24\", \"2019-11-28T13:48:29\", \"2019-11-28T13:48:34\", \"2019-11-28T13:48:39\", \"2019-11-28T13:48:44\", \"2019-11-28T13:48:50\", \"2019-11-28T13:48:55\", \"2019-11-28T13:49:00\", \"2019-11-28T13:49:05\", \"2019-11-28T13:49:10\", \"2019-11-28T13:49:15\", \"2019-11-28T13:49:20\", \"2019-11-28T13:49:25\", \"2019-11-28T13:49:30\", \"2019-11-28T13:49:35\", \"2019-11-28T13:49:40\", \"2019-11-28T13:49:46\", \"2019-11-28T13:49:51\", \"2019-11-28T13:49:56\", \"2019-11-28T13:50:01\", \"2019-11-28T13:50:06\", \"2019-11-28T13:50:11\", \"2019-11-28T13:50:16\", \"2019-11-28T13:50:21\", \"2019-11-28T13:50:26\", \"2019-11-28T13:50:31\", \"2019-11-28T13:50:36\", \"2019-11-28T13:50:41\", \"2019-11-28T13:50:47\", \"2019-11-28T13:50:52\", \"2019-11-28T13:50:57\", \"2019-11-28T13:51:02\", \"2019-11-28T13:51:07\", \"2019-11-28T13:51:12\", \"2019-11-28T13:51:17\", \"2019-11-28T13:51:22\", \"2019-11-28T13:51:27\", \"2019-11-28T13:51:32\", \"2019-11-28T13:51:37\", \"2019-11-28T13:51:43\", \"2019-11-28T13:51:48\", \"2019-11-28T13:51:53\", \"2019-11-28T13:51:58\", \"2019-11-28T13:52:03\", \"2019-11-28T13:52:08\", \"2019-11-28T13:52:13\", \"2019-11-28T13:52:18\", \"2019-11-28T13:52:23\", \"2019-11-28T13:52:28\", \"2019-11-28T13:52:34\", \"2019-11-28T13:52:39\", \"2019-11-28T13:52:44\", \"2019-11-28T13:52:49\", \"2019-11-28T13:52:54\", \"2019-11-28T13:52:59\", \"2019-11-28T13:53:04\", \"2019-11-28T13:53:09\", \"2019-11-28T13:53:14\", \"2019-11-28T13:53:19\", \"2019-11-28T13:53:24\", \"2019-11-28T13:53:29\", \"2019-11-28T13:53:35\", \"2019-11-28T13:53:40\", \"2019-11-28T13:53:45\", \"2019-11-28T13:53:50\", \"2019-11-28T13:53:55\", \"2019-11-28T13:54:00\", \"2019-11-28T13:54:05\", \"2019-11-28T13:54:10\", \"2019-11-28T13:54:15\", \"2019-11-28T13:54:20\", \"2019-11-28T13:54:25\", \"2019-11-28T13:54:31\", \"2019-11-28T13:54:36\", \"2019-11-28T13:54:41\", \"2019-11-28T13:54:46\", \"2019-11-28T13:54:51\", \"2019-11-28T13:54:56\", \"2019-11-28T13:55:01\", \"2019-11-28T13:55:06\", \"2019-11-28T13:55:11\", \"2019-11-28T13:55:16\", \"2019-11-28T13:55:21\", \"2019-11-28T13:55:27\", \"2019-11-28T13:55:32\", \"2019-11-28T13:55:37\", \"2019-11-28T13:55:42\", \"2019-11-28T13:55:47\", \"2019-11-28T13:55:52\", \"2019-11-28T13:55:57\", \"2019-11-28T13:56:02\", \"2019-11-28T13:56:07\", \"2019-11-28T13:56:12\", \"2019-11-28T13:56:18\", \"2019-11-28T13:56:23\", \"2019-11-28T13:56:28\", \"2019-11-28T13:56:33\", \"2019-11-28T13:56:38\", \"2019-11-28T13:56:43\", \"2019-11-28T13:56:48\", \"2019-11-28T13:56:53\", \"2019-11-28T13:56:58\", \"2019-11-28T13:57:03\", \"2019-11-28T13:57:09\", \"2019-11-28T13:57:14\", \"2019-11-28T13:57:19\", \"2019-11-28T13:57:24\"], \"legendgroup\": \"5ddfd2ba44ea85025c02d828\", \"line\": {\"color\": \"#636efa\", \"dash\": \"solid\"}, \"mode\": \"lines+markers\", \"name\": \"5ddfd2ba44ea85025c02d828\", \"orientation\": \"v\", \"showlegend\": true, \"type\": \"scatter\", \"x\": [0, 1, 2, 3, 4, 5, 6, 7, 8, 9, 10, 11, 12, 13, 14, 15, 16, 17, 18, 19, 20, 21, 22, 23, 24, 25, 26, 27, 28, 29, 30, 31, 32, 33, 34, 35, 36, 37, 38, 39, 40, 41, 42, 43, 44, 45, 46, 47, 48, 49, 50, 51, 52, 53, 54, 55, 56, 57, 58, 59, 60, 61, 62, 63, 64, 65, 66, 67, 68, 69, 70, 71, 72, 73, 74, 75, 76, 77, 78, 79, 80, 81, 82, 83, 84, 85, 86, 87, 88, 89, 90, 91, 92, 93, 94, 95, 96, 97, 98, 99, 100, 101, 102, 103, 104, 105, 106, 107, 108, 109, 110, 111, 112, 113, 114, 115, 116, 117, 118, 119, 120, 121, 122, 123, 124, 125, 126, 127, 128, 129, 130, 131, 132, 133, 134, 135, 136, 137, 138, 139, 140, 141, 142, 143, 144, 145, 146, 147, 148, 149, 150, 151, 152, 153, 154, 155, 156, 157, 158, 159, 160, 161, 162, 163, 164, 165, 166, 167, 168, 169, 170, 171, 172, 173, 174, 175, 176, 177, 178, 179, 180, 181, 182, 183, 184, 185], \"xaxis\": \"x\", \"y\": [-9.20634937286377, 49.91160183399916, 52.13407705724239, 43.470900774002075, 6.399497300386429, 30.623655915260315, 31.05322140455246, 35.00692945718765, 55.37586925923824, 62.0, 68.44063323736191, 74.80510663986206, 74.00000110268593, 69.57143065333366, 64.3125, 70.0, 69.0, 71.9999989271164, 76.00000169873238, 68.6214833855629, 69.0, 66.9999980032444, 66.11188811063766, 62.45330110192299, 63.60377359390259, 68.00000101327896, 65.0, 66.14657111465931, 71.00000211596489, 72.99999891221523, 73.37595689296722, 73.6990313231945, 71.99999785423279, 72.0000010728836, 68.99999820068479, 71.8903399631381, 70.00000104308128, 71.9999989271164, 72.91686624288559, 67.99999924004078, 65.42646864056587, 53.29629787802696, 4.547445237636566, 0.0, 0.0, 0.0, 0.0, 0.0, 0.0, 0.0, 28.850828289985657, 30.112531185150146, 36.999999448657036, 30.859770119190216, 24.000000044703484, 27.831201627850533, 31.145540833473206, 26.739130437374115, 31.0, 32.88126599788666, 34.0, 34.00000050663948, 32.00000047683716, 24.000000670552254, 32.509971499443054, 32.00000047683716, 28.0, 27.939535405486822, 34.0, 39.0, 32.8639053106308, 4.987500060349703, 0.0, 0.0, 0.0, 0.0, 0.0, 0.0, 18.00000005029142, 21.999999344348907, 35.9999994635582, 42.0, 52.0, 51.997618284774944, 50.000000186264515, 48.9999985396862, 47.00000140070915, 49.0, 51.0, 52.00000038743019, 52.99999921023846, 49.99999850988388, 51.991050485521555, 50.00000149011612, 50.0, 50.0, 49.0000007301569, 48.9999985396862, 49.0, 46.000000685453415, 43.000000320374966, 31.171428561210632, 0.2633228749036789, 0.0, 0.0, 0.0, 0.0, 0.0, 16.191666439175606, 34.60274076461792, 52.000001549720764, 53.99999839067459, 52.99999842047691, 53.0, 56.00000062584877, 55.99999874830246, 56.000001668930054, 56.00000056065619, 16.4248366355896, 11.745843172073364, 23.636111825704575, 31.053789615631104, 34.42894634604454, 35.267195761203766, 34.11764718592167, 37.000000551342964, 33.02588137984276, 39.0, 39.98005780018866, 30.0, 43.0, 42.00000062584877, 40.0, 32.654054045677185, 0.0, 25.93790227174759, 34.99999947845936, 28.000000834465027, 32.54453343153, 33.99999898672104, 24.99999962747097, 27.17039066553116, 24.146608665585518, 33.67012935876846, 26.74643874168396, 20.78859919309616, 37.11165103316307, 27.999999582767487, 14.374683141708374, 22.48292648792267, 27.999999582767487, 25.0, 21.999999344348907, 22.0, 18.999999433755875, 18.0, 20.0, 11.0, 19.256266832351685, 34.00000101327896, 37.000000827014446, 12.656716048717499, 0.0, 7.4213480949401855, 3.000000089406967, 23.999999284744263, 44.18047271668911, 48.15492957830429, 28.530863344669342, 15.0, 38.39523923397064, 43.912832275033, 46.0, 43.99999934434891, 40.107055962085724, 22.096202038228512, 19.06235608458519, 14.651629090309143, 28.24500000476837, 43.97690416499972, 20.045130044221878, 4.0, 0.0, 0.36153846234083176, 13.000000387430191, 0.0], \"yaxis\": \"y\"}, {\"hovertemplate\": \"<b>%{hovertext}</b><br><br>track.id=5ddfd2bc44ea85025c02dbce<br>index=%{x}<br>Speed.value=%{y}<extra></extra>\", \"hovertext\": [\"2019-11-28T13:41:36\", \"2019-11-28T13:41:47\", \"2019-11-28T13:41:52\", \"2019-11-28T13:41:57\", \"2019-11-28T13:42:02\", \"2019-11-28T13:42:07\", \"2019-11-28T13:42:13\", \"2019-11-28T13:42:18\", \"2019-11-28T13:42:23\", \"2019-11-28T13:42:28\", \"2019-11-28T13:42:33\", \"2019-11-28T13:42:38\", \"2019-11-28T13:42:43\", \"2019-11-28T13:42:48\", \"2019-11-28T13:42:53\", \"2019-11-28T13:42:59\", \"2019-11-28T13:43:04\", \"2019-11-28T13:43:09\", \"2019-11-28T13:43:14\", \"2019-11-28T13:43:19\", \"2019-11-28T13:43:24\", \"2019-11-28T13:43:29\", \"2019-11-28T13:43:34\", \"2019-11-28T13:43:39\", \"2019-11-28T13:43:44\", \"2019-11-28T13:43:49\", \"2019-11-28T13:43:54\", \"2019-11-28T13:43:59\", \"2019-11-28T13:44:05\", \"2019-11-28T13:44:10\", \"2019-11-28T13:44:15\", \"2019-11-28T13:44:20\", \"2019-11-28T13:44:25\", \"2019-11-28T13:44:30\", \"2019-11-28T13:44:35\", \"2019-11-28T13:44:40\", \"2019-11-28T13:44:45\", \"2019-11-28T13:44:50\", \"2019-11-28T13:44:55\", \"2019-11-28T13:45:00\", \"2019-11-28T13:45:06\", \"2019-11-28T13:45:11\", \"2019-11-28T13:45:16\", \"2019-11-28T13:45:21\", \"2019-11-28T13:45:26\", \"2019-11-28T13:45:31\", \"2019-11-28T13:45:36\", \"2019-11-28T13:45:41\", \"2019-11-28T13:45:46\", \"2019-11-28T13:45:51\", \"2019-11-28T13:45:56\", \"2019-11-28T13:46:02\", \"2019-11-28T13:46:07\", \"2019-11-28T13:46:12\", \"2019-11-28T13:46:17\", \"2019-11-28T13:46:22\", \"2019-11-28T13:46:27\", \"2019-11-28T13:46:32\", \"2019-11-28T13:46:37\", \"2019-11-28T13:46:42\", \"2019-11-28T13:46:48\", \"2019-11-28T13:46:53\", \"2019-11-28T13:46:58\", \"2019-11-28T13:47:03\", \"2019-11-28T13:47:08\", \"2019-11-28T13:47:13\", \"2019-11-28T13:47:18\", \"2019-11-28T13:47:23\", \"2019-11-28T13:47:28\", \"2019-11-28T13:47:33\", \"2019-11-28T13:47:38\", \"2019-11-28T13:47:43\", \"2019-11-28T13:47:49\", \"2019-11-28T13:47:54\", \"2019-11-28T13:47:59\", \"2019-11-28T13:48:04\", \"2019-11-28T13:48:09\", \"2019-11-28T13:48:14\", \"2019-11-28T13:48:19\", \"2019-11-28T13:48:24\", \"2019-11-28T13:48:29\", \"2019-11-28T13:48:34\", \"2019-11-28T13:48:39\", \"2019-11-28T13:48:44\", \"2019-11-28T13:48:50\", \"2019-11-28T13:48:55\", \"2019-11-28T13:49:00\", \"2019-11-28T13:49:05\", \"2019-11-28T13:49:10\", \"2019-11-28T13:49:15\", \"2019-11-28T13:49:20\", \"2019-11-28T13:49:25\", \"2019-11-28T13:49:30\", \"2019-11-28T13:49:35\", \"2019-11-28T13:49:40\", \"2019-11-28T13:49:46\", \"2019-11-28T13:49:51\", \"2019-11-28T13:49:56\", \"2019-11-28T13:50:01\", \"2019-11-28T13:50:06\", \"2019-11-28T13:50:11\", \"2019-11-28T13:50:16\", \"2019-11-28T13:50:21\", \"2019-11-28T13:50:26\", \"2019-11-28T13:50:31\", \"2019-11-28T13:50:36\", \"2019-11-28T13:50:41\", \"2019-11-28T13:50:47\", \"2019-11-28T13:50:52\", \"2019-11-28T13:50:57\", \"2019-11-28T13:51:02\", \"2019-11-28T13:51:07\", \"2019-11-28T13:51:12\", \"2019-11-28T13:51:17\", \"2019-11-28T13:51:22\", \"2019-11-28T13:51:27\", \"2019-11-28T13:51:32\", \"2019-11-28T13:51:37\", \"2019-11-28T13:51:43\", \"2019-11-28T13:51:48\", \"2019-11-28T13:51:53\", \"2019-11-28T13:51:58\", \"2019-11-28T13:52:03\", \"2019-11-28T13:52:08\", \"2019-11-28T13:52:13\", \"2019-11-28T13:52:18\", \"2019-11-28T13:52:23\", \"2019-11-28T13:52:28\", \"2019-11-28T13:52:34\", \"2019-11-28T13:52:39\", \"2019-11-28T13:52:44\", \"2019-11-28T13:52:49\", \"2019-11-28T13:52:54\", \"2019-11-28T13:52:59\", \"2019-11-28T13:53:04\", \"2019-11-28T13:53:09\", \"2019-11-28T13:53:14\", \"2019-11-28T13:53:19\", \"2019-11-28T13:53:24\", \"2019-11-28T13:53:29\", \"2019-11-28T13:53:35\", \"2019-11-28T13:53:40\", \"2019-11-28T13:53:45\", \"2019-11-28T13:53:50\", \"2019-11-28T13:53:55\", \"2019-11-28T13:54:00\", \"2019-11-28T13:54:05\", \"2019-11-28T13:54:10\", \"2019-11-28T13:54:15\", \"2019-11-28T13:54:20\", \"2019-11-28T13:54:25\", \"2019-11-28T13:54:31\", \"2019-11-28T13:54:36\", \"2019-11-28T13:54:41\", \"2019-11-28T13:54:46\", \"2019-11-28T13:54:51\", \"2019-11-28T13:54:56\", \"2019-11-28T13:55:01\", \"2019-11-28T13:55:06\", \"2019-11-28T13:55:11\", \"2019-11-28T13:55:16\", \"2019-11-28T13:55:21\", \"2019-11-28T13:55:27\", \"2019-11-28T13:55:32\", \"2019-11-28T13:55:37\", \"2019-11-28T13:55:42\", \"2019-11-28T13:55:47\", \"2019-11-28T13:55:52\", \"2019-11-28T13:55:57\", \"2019-11-28T13:56:02\", \"2019-11-28T13:56:07\", \"2019-11-28T13:56:12\", \"2019-11-28T13:56:18\", \"2019-11-28T13:56:23\", \"2019-11-28T13:56:28\", \"2019-11-28T13:56:33\", \"2019-11-28T13:56:38\", \"2019-11-28T13:56:43\", \"2019-11-28T13:56:48\", \"2019-11-28T13:56:53\", \"2019-11-28T13:56:58\", \"2019-11-28T13:57:03\", \"2019-11-28T13:57:09\", \"2019-11-28T13:57:14\", \"2019-11-28T13:57:19\", \"2019-11-28T13:57:24\"], \"legendgroup\": \"5ddfd2bc44ea85025c02dbce\", \"line\": {\"color\": \"#EF553B\", \"dash\": \"solid\"}, \"mode\": \"lines+markers\", \"name\": \"5ddfd2bc44ea85025c02dbce\", \"orientation\": \"v\", \"showlegend\": true, \"type\": \"scatter\", \"x\": [0, 1, 2, 3, 4, 5, 6, 7, 8, 9, 10, 11, 12, 13, 14, 15, 16, 17, 18, 19, 20, 21, 22, 23, 24, 25, 26, 27, 28, 29, 30, 31, 32, 33, 34, 35, 36, 37, 38, 39, 40, 41, 42, 43, 44, 45, 46, 47, 48, 49, 50, 51, 52, 53, 54, 55, 56, 57, 58, 59, 60, 61, 62, 63, 64, 65, 66, 67, 68, 69, 70, 71, 72, 73, 74, 75, 76, 77, 78, 79, 80, 81, 82, 83, 84, 85, 86, 87, 88, 89, 90, 91, 92, 93, 94, 95, 96, 97, 98, 99, 100, 101, 102, 103, 104, 105, 106, 107, 108, 109, 110, 111, 112, 113, 114, 115, 116, 117, 118, 119, 120, 121, 122, 123, 124, 125, 126, 127, 128, 129, 130, 131, 132, 133, 134, 135, 136, 137, 138, 139, 140, 141, 142, 143, 144, 145, 146, 147, 148, 149, 150, 151, 152, 153, 154, 155, 156, 157, 158, 159, 160, 161, 162, 163, 164, 165, 166, 167, 168, 169, 170, 171, 172, 173, 174, 175, 176, 177, 178, 179, 180, 181, 182, 183, 184, 185], \"xaxis\": \"x\", \"y\": [-9.20634937286377, 49.91160183399916, 52.13407705724239, 43.470900774002075, 6.399497300386429, 30.623655915260315, 31.05322140455246, 35.00692945718765, 55.37586925923824, 62.0, 68.44063323736191, 74.80510663986206, 74.00000110268593, 69.57143065333366, 64.3125, 70.0, 69.0, 71.9999989271164, 76.00000169873238, 68.6214833855629, 69.0, 66.9999980032444, 66.11188811063766, 62.45330110192299, 63.60377359390259, 68.00000101327896, 65.0, 66.14657111465931, 71.00000211596489, 72.99999891221523, 73.37595689296722, 73.6990313231945, 71.99999785423279, 72.0000010728836, 68.99999820068479, 71.8903399631381, 70.00000104308128, 71.9999989271164, 72.91686624288559, 67.99999924004078, 65.42646864056587, 53.29629787802696, 4.547445237636566, 0.0, 0.0, 0.0, 0.0, 0.0, 0.0, 0.0, 28.850828289985657, 30.112531185150146, 36.999999448657036, 30.859770119190216, 24.000000044703484, 27.831201627850533, 31.145540833473206, 26.739130437374115, 31.0, 32.88126599788666, 34.0, 34.00000050663948, 32.00000047683716, 24.000000670552254, 32.509971499443054, 32.00000047683716, 28.0, 27.939535405486822, 34.0, 39.0, 32.8639053106308, 4.987500060349703, 0.0, 0.0, 0.0, 0.0, 0.0, 0.0, 18.00000005029142, 21.999999344348907, 35.9999994635582, 42.0, 52.0, 51.997618284774944, 50.000000186264515, 48.9999985396862, 47.00000140070915, 49.0, 51.0, 52.00000038743019, 52.99999921023846, 49.99999850988388, 51.991050485521555, 50.00000149011612, 50.0, 50.0, 49.0000007301569, 48.9999985396862, 49.0, 46.000000685453415, 43.000000320374966, 31.171428561210632, 0.2633228749036789, 0.0, 0.0, 0.0, 0.0, 0.0, 16.191666439175606, 34.60274076461792, 52.000001549720764, 53.99999839067459, 52.99999842047691, 53.0, 56.00000062584877, 55.99999874830246, 56.000001668930054, 56.00000056065619, 16.4248366355896, 11.745843172073364, 23.636111825704575, 31.053789615631104, 34.42894634604454, 35.267195761203766, 34.11764718592167, 37.000000551342964, 33.02588137984276, 39.0, 39.98005780018866, 30.0, 43.0, 42.00000062584877, 40.0, 32.654054045677185, 0.0, 25.93790227174759, 34.99999947845936, 28.000000834465027, 32.54453343153, 33.99999898672104, 24.99999962747097, 27.17039066553116, 24.146608665585518, 33.67012935876846, 26.74643874168396, 20.78859919309616, 37.11165103316307, 27.999999582767487, 14.374683141708374, 22.48292648792267, 27.999999582767487, 25.0, 21.999999344348907, 22.0, 18.999999433755875, 18.0, 20.0, 11.0, 19.256266832351685, 34.00000101327896, 37.000000827014446, 12.656716048717499, 0.0, 7.4213480949401855, 3.000000089406967, 23.999999284744263, 44.18047271668911, 48.15492957830429, 28.530863344669342, 15.0, 38.39523923397064, 43.912832275033, 46.0, 43.99999934434891, 40.107055962085724, 22.096202038228512, 19.06235608458519, 14.651629090309143, 28.24500000476837, 43.97690416499972, 20.045130044221878, 4.0, 0.0, 0.36153846234083176, 13.000000387430191, 0.0], \"yaxis\": \"y\"}],\n",
       "                        {\"legend\": {\"title\": {\"text\": \"track.id\"}, \"tracegroupgap\": 0}, \"margin\": {\"t\": 60}, \"template\": {\"data\": {\"bar\": [{\"error_x\": {\"color\": \"#2a3f5f\"}, \"error_y\": {\"color\": \"#2a3f5f\"}, \"marker\": {\"line\": {\"color\": \"#E5ECF6\", \"width\": 0.5}}, \"type\": \"bar\"}], \"barpolar\": [{\"marker\": {\"line\": {\"color\": \"#E5ECF6\", \"width\": 0.5}}, \"type\": \"barpolar\"}], \"carpet\": [{\"aaxis\": {\"endlinecolor\": \"#2a3f5f\", \"gridcolor\": \"white\", \"linecolor\": \"white\", \"minorgridcolor\": \"white\", \"startlinecolor\": \"#2a3f5f\"}, \"baxis\": {\"endlinecolor\": \"#2a3f5f\", \"gridcolor\": \"white\", \"linecolor\": \"white\", \"minorgridcolor\": \"white\", \"startlinecolor\": \"#2a3f5f\"}, \"type\": \"carpet\"}], \"choropleth\": [{\"colorbar\": {\"outlinewidth\": 0, \"ticks\": \"\"}, \"type\": \"choropleth\"}], \"contour\": [{\"colorbar\": {\"outlinewidth\": 0, \"ticks\": \"\"}, \"colorscale\": [[0.0, \"#0d0887\"], [0.1111111111111111, \"#46039f\"], [0.2222222222222222, \"#7201a8\"], [0.3333333333333333, \"#9c179e\"], [0.4444444444444444, \"#bd3786\"], [0.5555555555555556, \"#d8576b\"], [0.6666666666666666, \"#ed7953\"], [0.7777777777777778, \"#fb9f3a\"], [0.8888888888888888, \"#fdca26\"], [1.0, \"#f0f921\"]], \"type\": \"contour\"}], \"contourcarpet\": [{\"colorbar\": {\"outlinewidth\": 0, \"ticks\": \"\"}, \"type\": \"contourcarpet\"}], \"heatmap\": [{\"colorbar\": {\"outlinewidth\": 0, \"ticks\": \"\"}, \"colorscale\": [[0.0, \"#0d0887\"], [0.1111111111111111, \"#46039f\"], [0.2222222222222222, \"#7201a8\"], [0.3333333333333333, \"#9c179e\"], [0.4444444444444444, \"#bd3786\"], [0.5555555555555556, \"#d8576b\"], [0.6666666666666666, \"#ed7953\"], [0.7777777777777778, \"#fb9f3a\"], [0.8888888888888888, \"#fdca26\"], [1.0, \"#f0f921\"]], \"type\": \"heatmap\"}], \"heatmapgl\": [{\"colorbar\": {\"outlinewidth\": 0, \"ticks\": \"\"}, \"colorscale\": [[0.0, \"#0d0887\"], [0.1111111111111111, \"#46039f\"], [0.2222222222222222, \"#7201a8\"], [0.3333333333333333, \"#9c179e\"], [0.4444444444444444, \"#bd3786\"], [0.5555555555555556, \"#d8576b\"], [0.6666666666666666, \"#ed7953\"], [0.7777777777777778, \"#fb9f3a\"], [0.8888888888888888, \"#fdca26\"], [1.0, \"#f0f921\"]], \"type\": \"heatmapgl\"}], \"histogram\": [{\"marker\": {\"colorbar\": {\"outlinewidth\": 0, \"ticks\": \"\"}}, \"type\": \"histogram\"}], \"histogram2d\": [{\"colorbar\": {\"outlinewidth\": 0, \"ticks\": \"\"}, \"colorscale\": [[0.0, \"#0d0887\"], [0.1111111111111111, \"#46039f\"], [0.2222222222222222, \"#7201a8\"], [0.3333333333333333, \"#9c179e\"], [0.4444444444444444, \"#bd3786\"], [0.5555555555555556, \"#d8576b\"], [0.6666666666666666, \"#ed7953\"], [0.7777777777777778, \"#fb9f3a\"], [0.8888888888888888, \"#fdca26\"], [1.0, \"#f0f921\"]], \"type\": \"histogram2d\"}], \"histogram2dcontour\": [{\"colorbar\": {\"outlinewidth\": 0, \"ticks\": \"\"}, \"colorscale\": [[0.0, \"#0d0887\"], [0.1111111111111111, \"#46039f\"], [0.2222222222222222, \"#7201a8\"], [0.3333333333333333, \"#9c179e\"], [0.4444444444444444, \"#bd3786\"], [0.5555555555555556, \"#d8576b\"], [0.6666666666666666, \"#ed7953\"], [0.7777777777777778, \"#fb9f3a\"], [0.8888888888888888, \"#fdca26\"], [1.0, \"#f0f921\"]], \"type\": \"histogram2dcontour\"}], \"mesh3d\": [{\"colorbar\": {\"outlinewidth\": 0, \"ticks\": \"\"}, \"type\": \"mesh3d\"}], \"parcoords\": [{\"line\": {\"colorbar\": {\"outlinewidth\": 0, \"ticks\": \"\"}}, \"type\": \"parcoords\"}], \"pie\": [{\"automargin\": true, \"type\": \"pie\"}], \"scatter\": [{\"marker\": {\"colorbar\": {\"outlinewidth\": 0, \"ticks\": \"\"}}, \"type\": \"scatter\"}], \"scatter3d\": [{\"line\": {\"colorbar\": {\"outlinewidth\": 0, \"ticks\": \"\"}}, \"marker\": {\"colorbar\": {\"outlinewidth\": 0, \"ticks\": \"\"}}, \"type\": \"scatter3d\"}], \"scattercarpet\": [{\"marker\": {\"colorbar\": {\"outlinewidth\": 0, \"ticks\": \"\"}}, \"type\": \"scattercarpet\"}], \"scattergeo\": [{\"marker\": {\"colorbar\": {\"outlinewidth\": 0, \"ticks\": \"\"}}, \"type\": \"scattergeo\"}], \"scattergl\": [{\"marker\": {\"colorbar\": {\"outlinewidth\": 0, \"ticks\": \"\"}}, \"type\": \"scattergl\"}], \"scattermapbox\": [{\"marker\": {\"colorbar\": {\"outlinewidth\": 0, \"ticks\": \"\"}}, \"type\": \"scattermapbox\"}], \"scatterpolar\": [{\"marker\": {\"colorbar\": {\"outlinewidth\": 0, \"ticks\": \"\"}}, \"type\": \"scatterpolar\"}], \"scatterpolargl\": [{\"marker\": {\"colorbar\": {\"outlinewidth\": 0, \"ticks\": \"\"}}, \"type\": \"scatterpolargl\"}], \"scatterternary\": [{\"marker\": {\"colorbar\": {\"outlinewidth\": 0, \"ticks\": \"\"}}, \"type\": \"scatterternary\"}], \"surface\": [{\"colorbar\": {\"outlinewidth\": 0, \"ticks\": \"\"}, \"colorscale\": [[0.0, \"#0d0887\"], [0.1111111111111111, \"#46039f\"], [0.2222222222222222, \"#7201a8\"], [0.3333333333333333, \"#9c179e\"], [0.4444444444444444, \"#bd3786\"], [0.5555555555555556, \"#d8576b\"], [0.6666666666666666, \"#ed7953\"], [0.7777777777777778, \"#fb9f3a\"], [0.8888888888888888, \"#fdca26\"], [1.0, \"#f0f921\"]], \"type\": \"surface\"}], \"table\": [{\"cells\": {\"fill\": {\"color\": \"#EBF0F8\"}, \"line\": {\"color\": \"white\"}}, \"header\": {\"fill\": {\"color\": \"#C8D4E3\"}, \"line\": {\"color\": \"white\"}}, \"type\": \"table\"}]}, \"layout\": {\"annotationdefaults\": {\"arrowcolor\": \"#2a3f5f\", \"arrowhead\": 0, \"arrowwidth\": 1}, \"coloraxis\": {\"colorbar\": {\"outlinewidth\": 0, \"ticks\": \"\"}}, \"colorscale\": {\"diverging\": [[0, \"#8e0152\"], [0.1, \"#c51b7d\"], [0.2, \"#de77ae\"], [0.3, \"#f1b6da\"], [0.4, \"#fde0ef\"], [0.5, \"#f7f7f7\"], [0.6, \"#e6f5d0\"], [0.7, \"#b8e186\"], [0.8, \"#7fbc41\"], [0.9, \"#4d9221\"], [1, \"#276419\"]], \"sequential\": [[0.0, \"#0d0887\"], [0.1111111111111111, \"#46039f\"], [0.2222222222222222, \"#7201a8\"], [0.3333333333333333, \"#9c179e\"], [0.4444444444444444, \"#bd3786\"], [0.5555555555555556, \"#d8576b\"], [0.6666666666666666, \"#ed7953\"], [0.7777777777777778, \"#fb9f3a\"], [0.8888888888888888, \"#fdca26\"], [1.0, \"#f0f921\"]], \"sequentialminus\": [[0.0, \"#0d0887\"], [0.1111111111111111, \"#46039f\"], [0.2222222222222222, \"#7201a8\"], [0.3333333333333333, \"#9c179e\"], [0.4444444444444444, \"#bd3786\"], [0.5555555555555556, \"#d8576b\"], [0.6666666666666666, \"#ed7953\"], [0.7777777777777778, \"#fb9f3a\"], [0.8888888888888888, \"#fdca26\"], [1.0, \"#f0f921\"]]}, \"colorway\": [\"#636efa\", \"#EF553B\", \"#00cc96\", \"#ab63fa\", \"#FFA15A\", \"#19d3f3\", \"#FF6692\", \"#B6E880\", \"#FF97FF\", \"#FECB52\"], \"font\": {\"color\": \"#2a3f5f\"}, \"geo\": {\"bgcolor\": \"white\", \"lakecolor\": \"white\", \"landcolor\": \"#E5ECF6\", \"showlakes\": true, \"showland\": true, \"subunitcolor\": \"white\"}, \"hoverlabel\": {\"align\": \"left\"}, \"hovermode\": \"closest\", \"mapbox\": {\"style\": \"light\"}, \"paper_bgcolor\": \"white\", \"plot_bgcolor\": \"#E5ECF6\", \"polar\": {\"angularaxis\": {\"gridcolor\": \"white\", \"linecolor\": \"white\", \"ticks\": \"\"}, \"bgcolor\": \"#E5ECF6\", \"radialaxis\": {\"gridcolor\": \"white\", \"linecolor\": \"white\", \"ticks\": \"\"}}, \"scene\": {\"xaxis\": {\"backgroundcolor\": \"#E5ECF6\", \"gridcolor\": \"white\", \"gridwidth\": 2, \"linecolor\": \"white\", \"showbackground\": true, \"ticks\": \"\", \"zerolinecolor\": \"white\"}, \"yaxis\": {\"backgroundcolor\": \"#E5ECF6\", \"gridcolor\": \"white\", \"gridwidth\": 2, \"linecolor\": \"white\", \"showbackground\": true, \"ticks\": \"\", \"zerolinecolor\": \"white\"}, \"zaxis\": {\"backgroundcolor\": \"#E5ECF6\", \"gridcolor\": \"white\", \"gridwidth\": 2, \"linecolor\": \"white\", \"showbackground\": true, \"ticks\": \"\", \"zerolinecolor\": \"white\"}}, \"shapedefaults\": {\"line\": {\"color\": \"#2a3f5f\"}}, \"ternary\": {\"aaxis\": {\"gridcolor\": \"white\", \"linecolor\": \"white\", \"ticks\": \"\"}, \"baxis\": {\"gridcolor\": \"white\", \"linecolor\": \"white\", \"ticks\": \"\"}, \"bgcolor\": \"#E5ECF6\", \"caxis\": {\"gridcolor\": \"white\", \"linecolor\": \"white\", \"ticks\": \"\"}}, \"title\": {\"x\": 0.05}, \"xaxis\": {\"automargin\": true, \"gridcolor\": \"white\", \"linecolor\": \"white\", \"ticks\": \"\", \"title\": {\"standoff\": 15}, \"zerolinecolor\": \"white\", \"zerolinewidth\": 2}, \"yaxis\": {\"automargin\": true, \"gridcolor\": \"white\", \"linecolor\": \"white\", \"ticks\": \"\", \"title\": {\"standoff\": 15}, \"zerolinecolor\": \"white\", \"zerolinewidth\": 2}}}, \"xaxis\": {\"anchor\": \"y\", \"domain\": [0.0, 1.0], \"title\": {\"text\": \"index\"}}, \"yaxis\": {\"anchor\": \"x\", \"domain\": [0.0, 1.0], \"title\": {\"text\": \"Speed.value\"}}},\n",
       "                        {\"responsive\": true}\n",
       "                    ).then(function(){\n",
       "                            \n",
       "var gd = document.getElementById('5a288779-4354-4ab0-9f8c-88a1a6fea5e1');\n",
       "var x = new MutationObserver(function (mutations, observer) {{\n",
       "        var display = window.getComputedStyle(gd).display;\n",
       "        if (!display || display === 'none') {{\n",
       "            console.log([gd, 'removed!']);\n",
       "            Plotly.purge(gd);\n",
       "            observer.disconnect();\n",
       "        }}\n",
       "}});\n",
       "\n",
       "// Listen for the removal of the full notebook cells\n",
       "var notebookContainer = gd.closest('#notebook-container');\n",
       "if (notebookContainer) {{\n",
       "    x.observe(notebookContainer, {childList: true});\n",
       "}}\n",
       "\n",
       "// Listen for the clearing of the current output cell\n",
       "var outputEl = gd.closest('.output');\n",
       "if (outputEl) {{\n",
       "    x.observe(outputEl, {childList: true});\n",
       "}}\n",
       "\n",
       "                        })\n",
       "                };\n",
       "                });\n",
       "            </script>\n",
       "        </div>"
      ]
     },
     "metadata": {},
     "output_type": "display_data"
    }
   ],
   "source": [
    "inspect.plot_tracks(dublicates, 'Speed.value')"
   ]
  },
  {
   "cell_type": "markdown",
   "metadata": {},
   "source": [
    "Create a new dataframe by dropping dublicates from the current dataframe."
   ]
  },
  {
   "cell_type": "code",
   "execution_count": 30,
   "metadata": {
    "ExecuteTime": {
     "end_time": "2020-11-10T13:12:31.345386Z",
     "start_time": "2020-11-10T13:12:30.967019Z"
    }
   },
   "outputs": [
    {
     "name": "stdout",
     "output_type": "stream",
     "text": [
      "Deleted rows:  186\n"
     ]
    }
   ],
   "source": [
    "uniqueTracks=correct.drop_dublicates(df_tracks)"
   ]
  },
  {
   "cell_type": "markdown",
   "metadata": {},
   "source": [
    "Check how many tracks are now in the dataframe"
   ]
  },
  {
   "cell_type": "code",
   "execution_count": 31,
   "metadata": {
    "ExecuteTime": {
     "end_time": "2020-11-10T13:12:31.352119Z",
     "start_time": "2020-11-10T13:12:31.348307Z"
    }
   },
   "outputs": [
    {
     "name": "stdout",
     "output_type": "stream",
     "text": [
      "39\n"
     ]
    }
   ],
   "source": [
    "inspect.count_tracks(uniqueTracks)"
   ]
  }
 ],
 "metadata": {
  "kernelspec": {
   "display_name": "envirocar_preprocessing",
   "language": "python",
   "name": "envirocar_preprocessing"
  },
  "language_info": {
   "codemirror_mode": {
    "name": "ipython",
    "version": 3
   },
   "file_extension": ".py",
   "mimetype": "text/x-python",
   "name": "python",
   "nbconvert_exporter": "python",
   "pygments_lexer": "ipython3",
   "version": "3.7.4"
  }
 },
 "nbformat": 4,
 "nbformat_minor": 4
}
