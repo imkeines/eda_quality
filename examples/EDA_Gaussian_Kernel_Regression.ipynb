{
 "cells": [
  {
   "cell_type": "markdown",
   "metadata": {},
   "source": [
    "### Gaussian Kernel Regression\n"
   ]
  },
  {
   "cell_type": "code",
   "execution_count": null,
   "metadata": {},
   "outputs": [],
   "source": [
    "# load dependencies'\n",
    "import pandas as pd\n",
    "pd.set_option('display.max_columns', None)# pandas show all columns of table instead of restricted#\n",
    "pd.options.mode.chained_assignment = None  # default='warn' surpresses warnings at spatial distribution\n",
    "import geopandas as gpd\n",
    "import seaborn as sns\n",
    "import matplotlib.pyplot as plt\n",
    "%matplotlib inline\n",
    "from scipy import stats\n",
    "import numpy as np\n",
    "import math\n",
    "import plotly.express as px\n",
    "from sklearn.linear_model import LinearRegression\n",
    "from sklearn.metrics import mean_squared_error\n",
    "\n",
    "\n",
    "from envirocar import TrackAPI, DownloadClient, BboxSelector, ECConfig\n",
    "from envirocar import correction as correct\n",
    "from envirocar import inspection as inspect\n",
    "from envirocar import manipulation as manipulate\n",
    "from envirocar import GKR\n",
    "\n",
    "\n",
    "# create an initial but optional config and an api client\n",
    "config = ECConfig()\n",
    "track_api = TrackAPI(api_client=DownloadClient(config=config))\n",
    "\n",
    "\n",
    "\n",
    "# Gaussian Kernel Regression\n",
    "# class GKR:\n",
    "    \n",
    "#     def __init__(self, x, y, b):\n",
    "#         self.x = x\n",
    "#         self.y = y\n",
    "#         self.b = b\n",
    "    \n",
    "#     '''Implement the Gaussian Kernel'''\n",
    "#     def gaussian_kernel(self, z):\n",
    "#         return (1/math.sqrt(2*math.pi))*math.exp(-0.5*z**2)\n",
    "    \n",
    "#     '''Calculate weights and return prediction'''\n",
    "#     def predict(self, X):\n",
    "#         kernels = [self.gaussian_kernel((xi-X)/self.b) for xi in self.x]\n",
    "#         weights = [len(self.x) * (kernel/np.sum(kernels)) for kernel in kernels]\n",
    "#         return np.dot(weights, self.y)/len(self.x)\n",
    " \n",
    "    \n",
    "#     def visualize_kernels(self, precision):\n",
    "#         plt.figure(figsize = (10,5))\n",
    "#         for xi in self.x:\n",
    "#             x_normal = np.linspace(xi - 3*self.b, xi + 3*self.b, precision)\n",
    "#             y_normal = stats.norm.pdf(x_normal, xi, self.b)\n",
    "#             plt.plot(x_normal, y_normal)#, label='Kernel at xi=' + str(xi))\n",
    "            \n",
    "#         plt.ylabel('Kernel Weights wi')\n",
    "#         plt.xlabel('x')\n",
    "#         #plt.legend()\n",
    "    \n",
    "#     def visualize_predictions(self, precision, X):\n",
    "#         plt.figure(figsize = (10,5))\n",
    "#         max_y = 0\n",
    "#         for xi in self.x:\n",
    "#             x_normal = np.linspace(xi - 3*self.b, xi + 3*self.b, precision)\n",
    "#             y_normal = stats.norm.pdf(x_normal, xi, self.b)\n",
    "#             max_y = max(max(y_normal), max_y)\n",
    "#             plt.plot(x_normal, y_normal, label='Kernel at xi=' + str(xi))\n",
    "            \n",
    "#         plt.plot([X,X], [0, max_y], 'k-', lw=1,dashes=[2, 2])\n",
    "#         plt.ylabel('Kernel Weights wi')\n",
    "#         plt.xlabel('x')\n",
    "#         #plt.legend()\n"
   ]
  },
  {
   "cell_type": "code",
   "execution_count": null,
   "metadata": {},
   "outputs": [],
   "source": [
    "bbox = BboxSelector([\n",
    "    7.554130554199218, # min_x\n",
    "    51.95590322041212, # min_y\n",
    "    7.590351104736328, # max_x\n",
    "    51.97874790276371  # max_y\n",
    "])\n",
    "\n",
    "# issue a query\n",
    "track_df = track_api.get_tracks(bbox=bbox, num_results=20) "
   ]
  },
  {
   "cell_type": "code",
   "execution_count": null,
   "metadata": {},
   "outputs": [],
   "source": [
    "correct.drop_dublicates(track_df)"
   ]
  },
  {
   "cell_type": "code",
   "execution_count": null,
   "metadata": {},
   "outputs": [],
   "source": [
    "# take only numerical variables\n",
    "track_df_numeric = manipulate.get_numerical(track_df)"
   ]
  },
  {
   "cell_type": "markdown",
   "metadata": {},
   "source": [
    "Inspect missing values to choose a variable which has many missing values. \n",
    "We will try to impute CO2 Emission (GPS-based).value"
   ]
  },
  {
   "cell_type": "code",
   "execution_count": null,
   "metadata": {},
   "outputs": [],
   "source": [
    "#missingValues=inspect.sum_missing_values(track_df_numeric)\n",
    "missingValues=inspect.missing_values_per_variable(track_df_numeric, dropCol=True)\n",
    "missingValues"
   ]
  },
  {
   "cell_type": "markdown",
   "metadata": {},
   "source": [
    "Just to get an impression, chose the variable which has the strongest parametric relationship with CO2 Emission (GPS-based).value\n",
    "here it seems to be he Speed.value\n",
    "So we will try to impute CO2 Emission (GPS-based).value based on Speed.value"
   ]
  },
  {
   "cell_type": "code",
   "execution_count": null,
   "metadata": {},
   "outputs": [],
   "source": [
    "allCoeffs, very_strong, strong, moderate, weak = inspect.get_classified_correlations(track_df_numeric, 'spearman')\n",
    "allCoeffs.loc[(allCoeffs['column'] == 'Consumption (GPS-based).value')]"
   ]
  },
  {
   "cell_type": "code",
   "execution_count": null,
   "metadata": {},
   "outputs": [],
   "source": [
    "# get impression of the two variables you want to relate to in order to get \n",
    "relation = track_df[[\"track.id\",\"Speed.value\", \"CO2 Emission (GPS-based).value\"]]\n",
    "correct.flag_outlier_in_sample(relation, dropOutlierColumn=True, setOutlierToNan=True, dropFlag=True)\n",
    "relation"
   ]
  },
  {
   "cell_type": "code",
   "execution_count": null,
   "metadata": {},
   "outputs": [],
   "source": [
    "fig = px.scatter(relation, x=\"Speed.value\", y=\"CO2 Emission (GPS-based).value\")\n",
    "fig.show()"
   ]
  },
  {
   "cell_type": "code",
   "execution_count": null,
   "metadata": {},
   "outputs": [],
   "source": [
    "# drop all rows which contain NaN\n",
    "relation2 = relation.dropna()\n",
    "relation2.reset_index(drop=True, inplace=True)\n",
    "relation2"
   ]
  },
  {
   "cell_type": "code",
   "execution_count": null,
   "metadata": {},
   "outputs": [],
   "source": [
    "inspect.plot_linear_regression(relation2[\"Speed.value\"], relation2[\"CO2 Emission (GPS-based).value\"])"
   ]
  },
  {
   "cell_type": "code",
   "execution_count": null,
   "metadata": {},
   "outputs": [],
   "source": [
    "gaussianKernelRegression=GKR(relation2['Speed.value'],relation2['CO2 Emission (GPS-based).value'], 10)\n",
    "gaussianKernelRegression.visualize_kernels(100)"
   ]
  },
  {
   "cell_type": "code",
   "execution_count": null,
   "metadata": {},
   "outputs": [],
   "source": [
    "# Predict single value\n",
    "gaussianKernelRegression.predict(15.978929817676544)"
   ]
  },
  {
   "cell_type": "code",
   "execution_count": null,
   "metadata": {
    "scrolled": false
   },
   "outputs": [],
   "source": [
    "predictedDF=[]\n",
    "for i in relation2['Speed.value'].index:\n",
    "    df = relation2['Speed.value'].at[i]\n",
    "    #print(df)\n",
    "    value = gaussianKernelRegression.predict(df)\n",
    "    #print(i, df, value)\n",
    "    predictedDF.append({'Speed.value':df, 'predicted CO2 Emission (GPS-based).value': value})\n",
    "predictedDF=pd.DataFrame(predictedDF)"
   ]
  },
  {
   "cell_type": "code",
   "execution_count": null,
   "metadata": {},
   "outputs": [],
   "source": [
    "predictedDF"
   ]
  },
  {
   "cell_type": "code",
   "execution_count": null,
   "metadata": {},
   "outputs": [],
   "source": [
    "y = np.c_[relation2[\"CO2 Emission (GPS-based).value\"]]\n",
    "y_predicted=np.c_[predictedDF[\"predicted CO2 Emission (GPS-based).value\"]]\n",
    "\n",
    "rmse_n = math.sqrt(mean_squared_error(y, y_predicted))\n",
    "rmse_n"
   ]
  },
  {
   "cell_type": "markdown",
   "metadata": {},
   "source": [
    "As this is an error of 3.5, it turns out, that Speed value in this form may not be a good single predictor to predict CO2 Comsumption. However, this was a rough analysis without further cleaning or transforming the data which may affect the result."
   ]
  }
 ],
 "metadata": {
  "kernelspec": {
   "display_name": "envirocar_preprocessing",
   "language": "python",
   "name": "envirocar_preprocessing"
  },
  "language_info": {
   "codemirror_mode": {
    "name": "ipython",
    "version": 3
   },
   "file_extension": ".py",
   "mimetype": "text/x-python",
   "name": "python",
   "nbconvert_exporter": "python",
   "pygments_lexer": "ipython3",
   "version": "3.7.4"
  }
 },
 "nbformat": 4,
 "nbformat_minor": 4
}
