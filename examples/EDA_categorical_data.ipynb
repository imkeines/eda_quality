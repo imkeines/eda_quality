{
 "cells": [
  {
   "cell_type": "markdown",
   "metadata": {},
   "source": [
    "## Categorical data"
   ]
  },
  {
   "cell_type": "code",
   "execution_count": 1,
   "metadata": {},
   "outputs": [],
   "source": [
    "import pandas as pd\n",
    "# pandas show all columns of table instead of restricted#\n",
    "pd.set_option('display.max_columns', None)\n",
    "import geopandas as gpd\n",
    "import seaborn as sns\n",
    "import matplotlib.pyplot as plt\n",
    "%matplotlib inline\n",
    "from scipy import stats\n",
    "import numpy as np\n",
    "import math\n",
    "\n",
    "from envirocar import TrackAPI, DownloadClient, BboxSelector, ECConfig\n",
    "\n",
    "from envirocar import correction as correct \n",
    "from envirocar import manipulation as manipulate\n",
    "from envirocar import inspection as inspect\n",
    "\n",
    "# create an initial but optional config and an api client\n",
    "config = ECConfig()\n",
    "track_api = TrackAPI(api_client=DownloadClient(config=config))"
   ]
  },
  {
   "cell_type": "code",
   "execution_count": 2,
   "metadata": {},
   "outputs": [],
   "source": [
    "bbox = BboxSelector([\n",
    "    7.554130554199218, # min_x\n",
    "    51.95590322041212, # min_y\n",
    "    7.590351104736328, # max_x\n",
    "    51.97874790276371  # max_y\n",
    "])\n",
    "# issue a query\n",
    "track_df = track_api.get_tracks(bbox=bbox, num_results=40) "
   ]
  },
  {
   "cell_type": "markdown",
   "metadata": {},
   "source": [
    "Understand the datatypes. Objects are usually categorical variables."
   ]
  },
  {
   "cell_type": "code",
   "execution_count": 5,
   "metadata": {},
   "outputs": [
    {
     "name": "stdout",
     "output_type": "stream",
     "text": [
      "<class 'geopandas.geodataframe.GeoDataFrame'>\n",
      "Int64Index: 10072 entries, 0 to 187\n",
      "Data columns (total 58 columns):\n",
      " #   Column                          Non-Null Count  Dtype   \n",
      "---  ------                          --------------  -----   \n",
      " 0   id                              10072 non-null  object  \n",
      " 1   time                            10072 non-null  object  \n",
      " 2   geometry                        10072 non-null  geometry\n",
      " 3   Engine Load.value               9251 non-null   float64 \n",
      " 4   Engine Load.unit                9251 non-null   object  \n",
      " 5   Calculated MAF.value            7313 non-null   float64 \n",
      " 6   Calculated MAF.unit             7313 non-null   object  \n",
      " 7   Speed.value                     10065 non-null  float64 \n",
      " 8   Speed.unit                      10065 non-null  object  \n",
      " 9   CO2.value                       8025 non-null   float64 \n",
      " 10  CO2.unit                        8025 non-null   object  \n",
      " 11  Intake Pressure.value           8566 non-null   float64 \n",
      " 12  Intake Pressure.unit            8566 non-null   object  \n",
      " 13  Rpm.value                       9647 non-null   float64 \n",
      " 14  Rpm.unit                        9647 non-null   object  \n",
      " 15  Intake Temperature.value        9668 non-null   float64 \n",
      " 16  Intake Temperature.unit         9668 non-null   object  \n",
      " 17  Consumption (GPS-based).value   645 non-null    float64 \n",
      " 18  Consumption (GPS-based).unit    645 non-null    object  \n",
      " 19  GPS Altitude.value              10072 non-null  float64 \n",
      " 20  GPS Altitude.unit               10072 non-null  object  \n",
      " 21  Throttle Position.value         9149 non-null   float64 \n",
      " 22  Throttle Position.unit          9149 non-null   object  \n",
      " 23  GPS Bearing.value               9680 non-null   float64 \n",
      " 24  GPS Bearing.unit                9680 non-null   object  \n",
      " 25  Consumption.value               8025 non-null   float64 \n",
      " 26  Consumption.unit                8025 non-null   object  \n",
      " 27  GPS Accuracy.value              10072 non-null  float64 \n",
      " 28  GPS Accuracy.unit               10072 non-null  object  \n",
      " 29  CO2 Emission (GPS-based).value  645 non-null    float64 \n",
      " 30  CO2 Emission (GPS-based).unit   645 non-null    object  \n",
      " 31  GPS Speed.value                 10066 non-null  float64 \n",
      " 32  GPS Speed.unit                  10066 non-null  object  \n",
      " 33  track.id                        10072 non-null  object  \n",
      " 34  track.length                    10072 non-null  float64 \n",
      " 35  track.begin                     10072 non-null  object  \n",
      " 36  track.end                       10072 non-null  object  \n",
      " 37  sensor.type                     10072 non-null  object  \n",
      " 38  sensor.engineDisplacement       10072 non-null  int64   \n",
      " 39  sensor.model                    10072 non-null  object  \n",
      " 40  sensor.id                       10072 non-null  object  \n",
      " 41  sensor.fuelType                 10072 non-null  object  \n",
      " 42  sensor.constructionYear         10072 non-null  int64   \n",
      " 43  sensor.manufacturer             10072 non-null  object  \n",
      " 44  track.appVersion                863 non-null    object  \n",
      " 45  track.touVersion                863 non-null    object  \n",
      " 46  GPS HDOP.value                  9400 non-null   float64 \n",
      " 47  GPS HDOP.unit                   9400 non-null   object  \n",
      " 48  GPS PDOP.value                  9400 non-null   float64 \n",
      " 49  GPS PDOP.unit                   9400 non-null   object  \n",
      " 50  GPS VDOP.value                  9400 non-null   float64 \n",
      " 51  GPS VDOP.unit                   9400 non-null   object  \n",
      " 52  MAF.value                       1965 non-null   float64 \n",
      " 53  MAF.unit                        1965 non-null   object  \n",
      " 54  O2 Lambda Voltage ER.value      1253 non-null   float64 \n",
      " 55  O2 Lambda Voltage ER.unit       1253 non-null   object  \n",
      " 56  O2 Lambda Voltage.value         1253 non-null   float64 \n",
      " 57  O2 Lambda Voltage.unit          1253 non-null   object  \n",
      "dtypes: float64(22), geometry(1), int64(2), object(33)\n",
      "memory usage: 4.5+ MB\n"
     ]
    }
   ],
   "source": [
    "track_df.info()"
   ]
  },
  {
   "cell_type": "markdown",
   "metadata": {},
   "source": [
    "As here we are interested in categorical variables referring to the attributes of the sensor, we select the sensor variables."
   ]
  },
  {
   "cell_type": "code",
   "execution_count": 6,
   "metadata": {},
   "outputs": [
    {
     "data": {
      "text/html": [
       "<div>\n",
       "<style scoped>\n",
       "    .dataframe tbody tr th:only-of-type {\n",
       "        vertical-align: middle;\n",
       "    }\n",
       "\n",
       "    .dataframe tbody tr th {\n",
       "        vertical-align: top;\n",
       "    }\n",
       "\n",
       "    .dataframe thead th {\n",
       "        text-align: right;\n",
       "    }\n",
       "</style>\n",
       "<table border=\"1\" class=\"dataframe\">\n",
       "  <thead>\n",
       "    <tr style=\"text-align: right;\">\n",
       "      <th></th>\n",
       "      <th>sensor.type</th>\n",
       "      <th>sensor.engineDisplacement</th>\n",
       "      <th>sensor.model</th>\n",
       "      <th>sensor.id</th>\n",
       "      <th>sensor.fuelType</th>\n",
       "      <th>sensor.constructionYear</th>\n",
       "      <th>sensor.manufacturer</th>\n",
       "    </tr>\n",
       "  </thead>\n",
       "  <tbody>\n",
       "    <tr>\n",
       "      <th>0</th>\n",
       "      <td>car</td>\n",
       "      <td>1699</td>\n",
       "      <td>A 170</td>\n",
       "      <td>559e22c2e4b07207d8977998</td>\n",
       "      <td>gasoline</td>\n",
       "      <td>2004</td>\n",
       "      <td>Mercedes Benz</td>\n",
       "    </tr>\n",
       "    <tr>\n",
       "      <th>1</th>\n",
       "      <td>car</td>\n",
       "      <td>1699</td>\n",
       "      <td>A 170</td>\n",
       "      <td>559e22c2e4b07207d8977998</td>\n",
       "      <td>gasoline</td>\n",
       "      <td>2004</td>\n",
       "      <td>Mercedes Benz</td>\n",
       "    </tr>\n",
       "    <tr>\n",
       "      <th>2</th>\n",
       "      <td>car</td>\n",
       "      <td>1699</td>\n",
       "      <td>A 170</td>\n",
       "      <td>559e22c2e4b07207d8977998</td>\n",
       "      <td>gasoline</td>\n",
       "      <td>2004</td>\n",
       "      <td>Mercedes Benz</td>\n",
       "    </tr>\n",
       "    <tr>\n",
       "      <th>3</th>\n",
       "      <td>car</td>\n",
       "      <td>1699</td>\n",
       "      <td>A 170</td>\n",
       "      <td>559e22c2e4b07207d8977998</td>\n",
       "      <td>gasoline</td>\n",
       "      <td>2004</td>\n",
       "      <td>Mercedes Benz</td>\n",
       "    </tr>\n",
       "    <tr>\n",
       "      <th>4</th>\n",
       "      <td>car</td>\n",
       "      <td>1699</td>\n",
       "      <td>A 170</td>\n",
       "      <td>559e22c2e4b07207d8977998</td>\n",
       "      <td>gasoline</td>\n",
       "      <td>2004</td>\n",
       "      <td>Mercedes Benz</td>\n",
       "    </tr>\n",
       "    <tr>\n",
       "      <th>...</th>\n",
       "      <td>...</td>\n",
       "      <td>...</td>\n",
       "      <td>...</td>\n",
       "      <td>...</td>\n",
       "      <td>...</td>\n",
       "      <td>...</td>\n",
       "      <td>...</td>\n",
       "    </tr>\n",
       "    <tr>\n",
       "      <th>183</th>\n",
       "      <td>car</td>\n",
       "      <td>2000</td>\n",
       "      <td>passat</td>\n",
       "      <td>5796666de4b086b281bfc0be</td>\n",
       "      <td>diesel</td>\n",
       "      <td>2011</td>\n",
       "      <td>VW</td>\n",
       "    </tr>\n",
       "    <tr>\n",
       "      <th>184</th>\n",
       "      <td>car</td>\n",
       "      <td>2000</td>\n",
       "      <td>passat</td>\n",
       "      <td>5796666de4b086b281bfc0be</td>\n",
       "      <td>diesel</td>\n",
       "      <td>2011</td>\n",
       "      <td>VW</td>\n",
       "    </tr>\n",
       "    <tr>\n",
       "      <th>185</th>\n",
       "      <td>car</td>\n",
       "      <td>2000</td>\n",
       "      <td>passat</td>\n",
       "      <td>5796666de4b086b281bfc0be</td>\n",
       "      <td>diesel</td>\n",
       "      <td>2011</td>\n",
       "      <td>VW</td>\n",
       "    </tr>\n",
       "    <tr>\n",
       "      <th>186</th>\n",
       "      <td>car</td>\n",
       "      <td>2000</td>\n",
       "      <td>passat</td>\n",
       "      <td>5796666de4b086b281bfc0be</td>\n",
       "      <td>diesel</td>\n",
       "      <td>2011</td>\n",
       "      <td>VW</td>\n",
       "    </tr>\n",
       "    <tr>\n",
       "      <th>187</th>\n",
       "      <td>car</td>\n",
       "      <td>2000</td>\n",
       "      <td>passat</td>\n",
       "      <td>5796666de4b086b281bfc0be</td>\n",
       "      <td>diesel</td>\n",
       "      <td>2011</td>\n",
       "      <td>VW</td>\n",
       "    </tr>\n",
       "  </tbody>\n",
       "</table>\n",
       "<p>10072 rows × 7 columns</p>\n",
       "</div>"
      ],
      "text/plain": [
       "    sensor.type  sensor.engineDisplacement sensor.model  \\\n",
       "0           car                       1699        A 170   \n",
       "1           car                       1699        A 170   \n",
       "2           car                       1699        A 170   \n",
       "3           car                       1699        A 170   \n",
       "4           car                       1699        A 170   \n",
       "..          ...                        ...          ...   \n",
       "183         car                       2000       passat   \n",
       "184         car                       2000       passat   \n",
       "185         car                       2000       passat   \n",
       "186         car                       2000       passat   \n",
       "187         car                       2000       passat   \n",
       "\n",
       "                    sensor.id sensor.fuelType  sensor.constructionYear  \\\n",
       "0    559e22c2e4b07207d8977998        gasoline                     2004   \n",
       "1    559e22c2e4b07207d8977998        gasoline                     2004   \n",
       "2    559e22c2e4b07207d8977998        gasoline                     2004   \n",
       "3    559e22c2e4b07207d8977998        gasoline                     2004   \n",
       "4    559e22c2e4b07207d8977998        gasoline                     2004   \n",
       "..                        ...             ...                      ...   \n",
       "183  5796666de4b086b281bfc0be          diesel                     2011   \n",
       "184  5796666de4b086b281bfc0be          diesel                     2011   \n",
       "185  5796666de4b086b281bfc0be          diesel                     2011   \n",
       "186  5796666de4b086b281bfc0be          diesel                     2011   \n",
       "187  5796666de4b086b281bfc0be          diesel                     2011   \n",
       "\n",
       "    sensor.manufacturer  \n",
       "0         Mercedes Benz  \n",
       "1         Mercedes Benz  \n",
       "2         Mercedes Benz  \n",
       "3         Mercedes Benz  \n",
       "4         Mercedes Benz  \n",
       "..                  ...  \n",
       "183                  VW  \n",
       "184                  VW  \n",
       "185                  VW  \n",
       "186                  VW  \n",
       "187                  VW  \n",
       "\n",
       "[10072 rows x 7 columns]"
      ]
     },
     "execution_count": 6,
     "metadata": {},
     "output_type": "execute_result"
    }
   ],
   "source": [
    "sensorAttributes, sensor = inspect.get_sensor_columns(track_df)\n",
    "sensorAttributes"
   ]
  },
  {
   "cell_type": "markdown",
   "metadata": {},
   "source": [
    "### Inspect categories per variable"
   ]
  },
  {
   "cell_type": "markdown",
   "metadata": {},
   "source": [
    "Inspect the categories per variable:"
   ]
  },
  {
   "cell_type": "code",
   "execution_count": 7,
   "metadata": {},
   "outputs": [
    {
     "name": "stdout",
     "output_type": "stream",
     "text": [
      "sensor.type ['car']\n",
      "sensor.engineDisplacement [1699 1587 2000]\n",
      "sensor.model ['A 170' 'V40' 'passat']\n",
      "sensor.id ['559e22c2e4b07207d8977998' '564b916be4b0a3a81b856f28'\n",
      " '5796666de4b086b281bfc0be']\n",
      "sensor.fuelType ['gasoline' 'diesel']\n",
      "sensor.constructionYear [2004 2003 2011]\n",
      "sensor.manufacturer ['Mercedes Benz' 'Volvo' 'VW']\n"
     ]
    }
   ],
   "source": [
    "inspect.get_categories(sensorAttributes)"
   ]
  },
  {
   "cell_type": "markdown",
   "metadata": {},
   "source": [
    "Inspect distribution of each categorical variable:"
   ]
  },
  {
   "cell_type": "code",
   "execution_count": 8,
   "metadata": {},
   "outputs": [
    {
     "data": {
      "text/plain": [
       "<AxesSubplot:>"
      ]
     },
     "execution_count": 8,
     "metadata": {},
     "output_type": "execute_result"
    },
    {
     "data": {
      "image/png": "[encoded data removed]",
      "text/plain": [
       "<Figure size 432x288 with 1 Axes>"
      ]
     },
     "metadata": {
      "needs_background": "light"
     },
     "output_type": "display_data"
    }
   ],
   "source": [
    "sensorAttributes['sensor.type'].hist()"
   ]
  },
  {
   "cell_type": "code",
   "execution_count": 9,
   "metadata": {},
   "outputs": [
    {
     "data": {
      "text/plain": [
       "<AxesSubplot:>"
      ]
     },
     "execution_count": 9,
     "metadata": {},
     "output_type": "execute_result"
    },
    {
     "data": {
      "image/png": "[encoded data removed]",
      "text/plain": [
       "<Figure size 432x288 with 1 Axes>"
      ]
     },
     "metadata": {
      "needs_background": "light"
     },
     "output_type": "display_data"
    }
   ],
   "source": [
    "sensorAttributes['sensor.model'].hist()"
   ]
  },
  {
   "cell_type": "code",
   "execution_count": 10,
   "metadata": {},
   "outputs": [
    {
     "data": {
      "text/plain": [
       "<AxesSubplot:>"
      ]
     },
     "execution_count": 10,
     "metadata": {},
     "output_type": "execute_result"
    },
    {
     "data": {
      "image/png": "[encoded data removed]",
      "text/plain": [
       "<Figure size 432x288 with 1 Axes>"
      ]
     },
     "metadata": {
      "needs_background": "light"
     },
     "output_type": "display_data"
    }
   ],
   "source": [
    "sensorAttributes['sensor.id'].hist()"
   ]
  },
  {
   "cell_type": "code",
   "execution_count": 11,
   "metadata": {},
   "outputs": [
    {
     "data": {
      "text/plain": [
       "<AxesSubplot:>"
      ]
     },
     "execution_count": 11,
     "metadata": {},
     "output_type": "execute_result"
    },
    {
     "data": {
      "image/png": "[encoded data removed]",
      "text/plain": [
       "<Figure size 432x288 with 1 Axes>"
      ]
     },
     "metadata": {
      "needs_background": "light"
     },
     "output_type": "display_data"
    }
   ],
   "source": [
    "sensorAttributes['sensor.fuelType'].hist()"
   ]
  },
  {
   "cell_type": "code",
   "execution_count": 12,
   "metadata": {},
   "outputs": [
    {
     "data": {
      "text/plain": [
       "<AxesSubplot:>"
      ]
     },
     "execution_count": 12,
     "metadata": {},
     "output_type": "execute_result"
    },
    {
     "data": {
      "image/png": "[encoded data removed]",
      "text/plain": [
       "<Figure size 432x288 with 1 Axes>"
      ]
     },
     "metadata": {
      "needs_background": "light"
     },
     "output_type": "display_data"
    }
   ],
   "source": [
    "sensorAttributes['sensor.manufacturer'].hist()"
   ]
  },
  {
   "cell_type": "markdown",
   "metadata": {},
   "source": [
    "### One Hot Encoding (Dummies)"
   ]
  },
  {
   "cell_type": "markdown",
   "metadata": {},
   "source": [
    "In the case we want to conduct some analysis e.g. with machine learning, we may need to transform the categorical data to dummies (or do one-hot encoding)"
   ]
  },
  {
   "cell_type": "code",
   "execution_count": 13,
   "metadata": {},
   "outputs": [
    {
     "data": {
      "text/html": [
       "<div>\n",
       "<style scoped>\n",
       "    .dataframe tbody tr th:only-of-type {\n",
       "        vertical-align: middle;\n",
       "    }\n",
       "\n",
       "    .dataframe tbody tr th {\n",
       "        vertical-align: top;\n",
       "    }\n",
       "\n",
       "    .dataframe thead th {\n",
       "        text-align: right;\n",
       "    }\n",
       "</style>\n",
       "<table border=\"1\" class=\"dataframe\">\n",
       "  <thead>\n",
       "    <tr style=\"text-align: right;\">\n",
       "      <th></th>\n",
       "      <th>sensor.type_car</th>\n",
       "      <th>sensor.engineDisplacement_1587</th>\n",
       "      <th>sensor.engineDisplacement_1699</th>\n",
       "      <th>sensor.engineDisplacement_2000</th>\n",
       "      <th>sensor.model_A 170</th>\n",
       "      <th>sensor.model_V40</th>\n",
       "      <th>sensor.model_passat</th>\n",
       "      <th>sensor.id_559e22c2e4b07207d8977998</th>\n",
       "      <th>sensor.id_564b916be4b0a3a81b856f28</th>\n",
       "      <th>sensor.id_5796666de4b086b281bfc0be</th>\n",
       "      <th>sensor.fuelType_diesel</th>\n",
       "      <th>sensor.fuelType_gasoline</th>\n",
       "      <th>sensor.constructionYear_2003</th>\n",
       "      <th>sensor.constructionYear_2004</th>\n",
       "      <th>sensor.constructionYear_2011</th>\n",
       "      <th>sensor.manufacturer_Mercedes Benz</th>\n",
       "      <th>sensor.manufacturer_VW</th>\n",
       "      <th>sensor.manufacturer_Volvo</th>\n",
       "    </tr>\n",
       "  </thead>\n",
       "  <tbody>\n",
       "    <tr>\n",
       "      <th>0</th>\n",
       "      <td>1</td>\n",
       "      <td>0</td>\n",
       "      <td>1</td>\n",
       "      <td>0</td>\n",
       "      <td>1</td>\n",
       "      <td>0</td>\n",
       "      <td>0</td>\n",
       "      <td>1</td>\n",
       "      <td>0</td>\n",
       "      <td>0</td>\n",
       "      <td>0</td>\n",
       "      <td>1</td>\n",
       "      <td>0</td>\n",
       "      <td>1</td>\n",
       "      <td>0</td>\n",
       "      <td>1</td>\n",
       "      <td>0</td>\n",
       "      <td>0</td>\n",
       "    </tr>\n",
       "    <tr>\n",
       "      <th>1</th>\n",
       "      <td>1</td>\n",
       "      <td>0</td>\n",
       "      <td>1</td>\n",
       "      <td>0</td>\n",
       "      <td>1</td>\n",
       "      <td>0</td>\n",
       "      <td>0</td>\n",
       "      <td>1</td>\n",
       "      <td>0</td>\n",
       "      <td>0</td>\n",
       "      <td>0</td>\n",
       "      <td>1</td>\n",
       "      <td>0</td>\n",
       "      <td>1</td>\n",
       "      <td>0</td>\n",
       "      <td>1</td>\n",
       "      <td>0</td>\n",
       "      <td>0</td>\n",
       "    </tr>\n",
       "    <tr>\n",
       "      <th>2</th>\n",
       "      <td>1</td>\n",
       "      <td>0</td>\n",
       "      <td>1</td>\n",
       "      <td>0</td>\n",
       "      <td>1</td>\n",
       "      <td>0</td>\n",
       "      <td>0</td>\n",
       "      <td>1</td>\n",
       "      <td>0</td>\n",
       "      <td>0</td>\n",
       "      <td>0</td>\n",
       "      <td>1</td>\n",
       "      <td>0</td>\n",
       "      <td>1</td>\n",
       "      <td>0</td>\n",
       "      <td>1</td>\n",
       "      <td>0</td>\n",
       "      <td>0</td>\n",
       "    </tr>\n",
       "    <tr>\n",
       "      <th>3</th>\n",
       "      <td>1</td>\n",
       "      <td>0</td>\n",
       "      <td>1</td>\n",
       "      <td>0</td>\n",
       "      <td>1</td>\n",
       "      <td>0</td>\n",
       "      <td>0</td>\n",
       "      <td>1</td>\n",
       "      <td>0</td>\n",
       "      <td>0</td>\n",
       "      <td>0</td>\n",
       "      <td>1</td>\n",
       "      <td>0</td>\n",
       "      <td>1</td>\n",
       "      <td>0</td>\n",
       "      <td>1</td>\n",
       "      <td>0</td>\n",
       "      <td>0</td>\n",
       "    </tr>\n",
       "    <tr>\n",
       "      <th>4</th>\n",
       "      <td>1</td>\n",
       "      <td>0</td>\n",
       "      <td>1</td>\n",
       "      <td>0</td>\n",
       "      <td>1</td>\n",
       "      <td>0</td>\n",
       "      <td>0</td>\n",
       "      <td>1</td>\n",
       "      <td>0</td>\n",
       "      <td>0</td>\n",
       "      <td>0</td>\n",
       "      <td>1</td>\n",
       "      <td>0</td>\n",
       "      <td>1</td>\n",
       "      <td>0</td>\n",
       "      <td>1</td>\n",
       "      <td>0</td>\n",
       "      <td>0</td>\n",
       "    </tr>\n",
       "    <tr>\n",
       "      <th>...</th>\n",
       "      <td>...</td>\n",
       "      <td>...</td>\n",
       "      <td>...</td>\n",
       "      <td>...</td>\n",
       "      <td>...</td>\n",
       "      <td>...</td>\n",
       "      <td>...</td>\n",
       "      <td>...</td>\n",
       "      <td>...</td>\n",
       "      <td>...</td>\n",
       "      <td>...</td>\n",
       "      <td>...</td>\n",
       "      <td>...</td>\n",
       "      <td>...</td>\n",
       "      <td>...</td>\n",
       "      <td>...</td>\n",
       "      <td>...</td>\n",
       "      <td>...</td>\n",
       "    </tr>\n",
       "    <tr>\n",
       "      <th>183</th>\n",
       "      <td>1</td>\n",
       "      <td>0</td>\n",
       "      <td>0</td>\n",
       "      <td>1</td>\n",
       "      <td>0</td>\n",
       "      <td>0</td>\n",
       "      <td>1</td>\n",
       "      <td>0</td>\n",
       "      <td>0</td>\n",
       "      <td>1</td>\n",
       "      <td>1</td>\n",
       "      <td>0</td>\n",
       "      <td>0</td>\n",
       "      <td>0</td>\n",
       "      <td>1</td>\n",
       "      <td>0</td>\n",
       "      <td>1</td>\n",
       "      <td>0</td>\n",
       "    </tr>\n",
       "    <tr>\n",
       "      <th>184</th>\n",
       "      <td>1</td>\n",
       "      <td>0</td>\n",
       "      <td>0</td>\n",
       "      <td>1</td>\n",
       "      <td>0</td>\n",
       "      <td>0</td>\n",
       "      <td>1</td>\n",
       "      <td>0</td>\n",
       "      <td>0</td>\n",
       "      <td>1</td>\n",
       "      <td>1</td>\n",
       "      <td>0</td>\n",
       "      <td>0</td>\n",
       "      <td>0</td>\n",
       "      <td>1</td>\n",
       "      <td>0</td>\n",
       "      <td>1</td>\n",
       "      <td>0</td>\n",
       "    </tr>\n",
       "    <tr>\n",
       "      <th>185</th>\n",
       "      <td>1</td>\n",
       "      <td>0</td>\n",
       "      <td>0</td>\n",
       "      <td>1</td>\n",
       "      <td>0</td>\n",
       "      <td>0</td>\n",
       "      <td>1</td>\n",
       "      <td>0</td>\n",
       "      <td>0</td>\n",
       "      <td>1</td>\n",
       "      <td>1</td>\n",
       "      <td>0</td>\n",
       "      <td>0</td>\n",
       "      <td>0</td>\n",
       "      <td>1</td>\n",
       "      <td>0</td>\n",
       "      <td>1</td>\n",
       "      <td>0</td>\n",
       "    </tr>\n",
       "    <tr>\n",
       "      <th>186</th>\n",
       "      <td>1</td>\n",
       "      <td>0</td>\n",
       "      <td>0</td>\n",
       "      <td>1</td>\n",
       "      <td>0</td>\n",
       "      <td>0</td>\n",
       "      <td>1</td>\n",
       "      <td>0</td>\n",
       "      <td>0</td>\n",
       "      <td>1</td>\n",
       "      <td>1</td>\n",
       "      <td>0</td>\n",
       "      <td>0</td>\n",
       "      <td>0</td>\n",
       "      <td>1</td>\n",
       "      <td>0</td>\n",
       "      <td>1</td>\n",
       "      <td>0</td>\n",
       "    </tr>\n",
       "    <tr>\n",
       "      <th>187</th>\n",
       "      <td>1</td>\n",
       "      <td>0</td>\n",
       "      <td>0</td>\n",
       "      <td>1</td>\n",
       "      <td>0</td>\n",
       "      <td>0</td>\n",
       "      <td>1</td>\n",
       "      <td>0</td>\n",
       "      <td>0</td>\n",
       "      <td>1</td>\n",
       "      <td>1</td>\n",
       "      <td>0</td>\n",
       "      <td>0</td>\n",
       "      <td>0</td>\n",
       "      <td>1</td>\n",
       "      <td>0</td>\n",
       "      <td>1</td>\n",
       "      <td>0</td>\n",
       "    </tr>\n",
       "  </tbody>\n",
       "</table>\n",
       "<p>10072 rows × 18 columns</p>\n",
       "</div>"
      ],
      "text/plain": [
       "     sensor.type_car  sensor.engineDisplacement_1587  \\\n",
       "0                  1                               0   \n",
       "1                  1                               0   \n",
       "2                  1                               0   \n",
       "3                  1                               0   \n",
       "4                  1                               0   \n",
       "..               ...                             ...   \n",
       "183                1                               0   \n",
       "184                1                               0   \n",
       "185                1                               0   \n",
       "186                1                               0   \n",
       "187                1                               0   \n",
       "\n",
       "     sensor.engineDisplacement_1699  sensor.engineDisplacement_2000  \\\n",
       "0                                 1                               0   \n",
       "1                                 1                               0   \n",
       "2                                 1                               0   \n",
       "3                                 1                               0   \n",
       "4                                 1                               0   \n",
       "..                              ...                             ...   \n",
       "183                               0                               1   \n",
       "184                               0                               1   \n",
       "185                               0                               1   \n",
       "186                               0                               1   \n",
       "187                               0                               1   \n",
       "\n",
       "     sensor.model_A 170  sensor.model_V40  sensor.model_passat  \\\n",
       "0                     1                 0                    0   \n",
       "1                     1                 0                    0   \n",
       "2                     1                 0                    0   \n",
       "3                     1                 0                    0   \n",
       "4                     1                 0                    0   \n",
       "..                  ...               ...                  ...   \n",
       "183                   0                 0                    1   \n",
       "184                   0                 0                    1   \n",
       "185                   0                 0                    1   \n",
       "186                   0                 0                    1   \n",
       "187                   0                 0                    1   \n",
       "\n",
       "     sensor.id_559e22c2e4b07207d8977998  sensor.id_564b916be4b0a3a81b856f28  \\\n",
       "0                                     1                                   0   \n",
       "1                                     1                                   0   \n",
       "2                                     1                                   0   \n",
       "3                                     1                                   0   \n",
       "4                                     1                                   0   \n",
       "..                                  ...                                 ...   \n",
       "183                                   0                                   0   \n",
       "184                                   0                                   0   \n",
       "185                                   0                                   0   \n",
       "186                                   0                                   0   \n",
       "187                                   0                                   0   \n",
       "\n",
       "     sensor.id_5796666de4b086b281bfc0be  sensor.fuelType_diesel  \\\n",
       "0                                     0                       0   \n",
       "1                                     0                       0   \n",
       "2                                     0                       0   \n",
       "3                                     0                       0   \n",
       "4                                     0                       0   \n",
       "..                                  ...                     ...   \n",
       "183                                   1                       1   \n",
       "184                                   1                       1   \n",
       "185                                   1                       1   \n",
       "186                                   1                       1   \n",
       "187                                   1                       1   \n",
       "\n",
       "     sensor.fuelType_gasoline  sensor.constructionYear_2003  \\\n",
       "0                           1                             0   \n",
       "1                           1                             0   \n",
       "2                           1                             0   \n",
       "3                           1                             0   \n",
       "4                           1                             0   \n",
       "..                        ...                           ...   \n",
       "183                         0                             0   \n",
       "184                         0                             0   \n",
       "185                         0                             0   \n",
       "186                         0                             0   \n",
       "187                         0                             0   \n",
       "\n",
       "     sensor.constructionYear_2004  sensor.constructionYear_2011  \\\n",
       "0                               1                             0   \n",
       "1                               1                             0   \n",
       "2                               1                             0   \n",
       "3                               1                             0   \n",
       "4                               1                             0   \n",
       "..                            ...                           ...   \n",
       "183                             0                             1   \n",
       "184                             0                             1   \n",
       "185                             0                             1   \n",
       "186                             0                             1   \n",
       "187                             0                             1   \n",
       "\n",
       "     sensor.manufacturer_Mercedes Benz  sensor.manufacturer_VW  \\\n",
       "0                                    1                       0   \n",
       "1                                    1                       0   \n",
       "2                                    1                       0   \n",
       "3                                    1                       0   \n",
       "4                                    1                       0   \n",
       "..                                 ...                     ...   \n",
       "183                                  0                       1   \n",
       "184                                  0                       1   \n",
       "185                                  0                       1   \n",
       "186                                  0                       1   \n",
       "187                                  0                       1   \n",
       "\n",
       "     sensor.manufacturer_Volvo  \n",
       "0                            0  \n",
       "1                            0  \n",
       "2                            0  \n",
       "3                            0  \n",
       "4                            0  \n",
       "..                         ...  \n",
       "183                          0  \n",
       "184                          0  \n",
       "185                          0  \n",
       "186                          0  \n",
       "187                          0  \n",
       "\n",
       "[10072 rows x 18 columns]"
      ]
     },
     "execution_count": 13,
     "metadata": {},
     "output_type": "execute_result"
    }
   ],
   "source": [
    "manipulate.get_dummies_sensor(sensorAttributes)"
   ]
  }
 ],
 "metadata": {
  "kernelspec": {
   "display_name": "envirocar_preprocessing",
   "language": "python",
   "name": "envirocar_preprocessing"
  },
  "language_info": {
   "codemirror_mode": {
    "name": "ipython",
    "version": 3
   },
   "file_extension": ".py",
   "mimetype": "text/x-python",
   "name": "python",
   "nbconvert_exporter": "python",
   "pygments_lexer": "ipython3",
   "version": "3.7.4"
  }
 },
 "nbformat": 4,
 "nbformat_minor": 4
}
