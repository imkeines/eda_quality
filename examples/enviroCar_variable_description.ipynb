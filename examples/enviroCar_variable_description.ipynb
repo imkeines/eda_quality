{
 "cells": [
  {
   "cell_type": "code",
   "execution_count": null,
   "metadata": {
    "ExecuteTime": {
     "start_time": "2020-11-11T12:57:18.875Z"
    }
   },
   "outputs": [],
   "source": [
    "import pandas as pd\n",
    "pd.set_option('display.max_columns', None)\n",
    "import geopandas as gpd\n",
    "import numpy as np\n",
    "from envirocar import TrackAPI, DownloadClient, BboxSelector, ECConfig\n",
    "config = ECConfig()\n",
    "track_api = TrackAPI(api_client=DownloadClient(config=config))\n",
    "bbox = BboxSelector([\n",
    "    7.554130554199218, # min_x\n",
    "    51.95590322041212, # min_y\n",
    "    7.590351104736328, # max_x\n",
    "    51.97874790276371  # max_y\n",
    "])\n",
    "\n",
    "# issue a query with 40 tracks\n",
    "track_df = track_api.get_tracks(bbox=bbox, num_results=40) "
   ]
  },
  {
   "cell_type": "markdown",
   "metadata": {},
   "source": [
    "## 0. Example\n",
    "Here, you see an example dataframe as how you will receive when using the envirocar-py package to request multiple tracks via the enviroCar API."
   ]
  },
  {
   "cell_type": "code",
   "execution_count": null,
   "metadata": {
    "ExecuteTime": {
     "start_time": "2020-11-11T12:57:18.878Z"
    }
   },
   "outputs": [],
   "source": [
    "track_df.head()"
   ]
  },
  {
   "cell_type": "markdown",
   "metadata": {},
   "source": [
    "## 1. All variables which you receive when requesting data via the enviroCar API\n",
    "Below you see all available variables and its datatype. Not all tracks provide the full set of data, therefore, dependent on the tracks you receive, the set on variables may be smaller.  \n",
    "You will notice that there are variables which end with '.value' or with '.unit'. While variables which end with '.value' actually hold values, variables ending with '.unit' hold the unit information relevant for the variable."
   ]
  },
  {
   "cell_type": "code",
   "execution_count": null,
   "metadata": {
    "ExecuteTime": {
     "start_time": "2020-11-11T12:57:18.881Z"
    },
    "scrolled": false
   },
   "outputs": [],
   "source": [
    "columnname=[]\n",
    "datatype=[]\n",
    "for column in track_df:\n",
    "    columnname.append(column) \n",
    "    datatype.append(track_df[column].dtype)\n",
    "d = {'column name':columnname, 'data type':datatype}\n",
    "pd.DataFrame(d)"
   ]
  },
  {
   "cell_type": "markdown",
   "metadata": {},
   "source": [
    "### 1.1 Units of variables\n",
    "Here you can inspect the units of the numerical variables."
   ]
  },
  {
   "cell_type": "code",
   "execution_count": null,
   "metadata": {
    "ExecuteTime": {
     "start_time": "2020-11-11T12:57:18.883Z"
    }
   },
   "outputs": [],
   "source": [
    "print('VARIABLE [UNIT]')\n",
    "print('---')\n",
    "units = track_df.filter(like='.unit').columns\n",
    "for unit in units:\n",
    "    if unit in track_df:\n",
    "        print(track_df[unit].name, track_df[unit].dropna().unique())"
   ]
  },
  {
   "cell_type": "markdown",
   "metadata": {},
   "source": [
    "### 1.2 OBD based data\n",
    "Following numeric variables are recorded by the OBD"
   ]
  },
  {
   "cell_type": "code",
   "execution_count": null,
   "metadata": {
    "ExecuteTime": {
     "start_time": "2020-11-11T12:57:18.885Z"
    }
   },
   "outputs": [],
   "source": [
    "OBD = track_df[['Engine Load.value','Rpm.value', \n",
    "                'Intake Pressure.value', 'Intake Temperature.value', \n",
    "                'Speed.value','Throttle Position.value', 'MAF.value', \n",
    "                'O2 Lambda Voltage ER.value', 'O2 Lambda Voltage.value']]\n",
    "\n",
    "print('OBD BASED DATA')\n",
    "print('---')\n",
    "for column in OBD:\n",
    "    print(column)"
   ]
  },
  {
   "cell_type": "markdown",
   "metadata": {},
   "source": [
    "### 1.3 GPS based data \n",
    "The following numeric variables are recorded by the GPS-Sensor"
   ]
  },
  {
   "cell_type": "code",
   "execution_count": null,
   "metadata": {
    "ExecuteTime": {
     "start_time": "2020-11-11T12:57:18.888Z"
    }
   },
   "outputs": [],
   "source": [
    "GPS = track_df[['geometry','GPS Accuracy.value','GPS Altitude.value', \n",
    "                'GPS Bearing.value', 'GPS HDOP.value', \n",
    "                'GPS PDOP.value','GPS Speed.value', 'GPS VDOP.value']]\n",
    "\n",
    "print('GPS BASED DATA')\n",
    "print('---')\n",
    "for column in GPS:\n",
    "    print(column)"
   ]
  },
  {
   "cell_type": "markdown",
   "metadata": {},
   "source": [
    "## 2. Geometry variable\n",
    "As the data comes as geodataframe it contains a geometry variable, which is in this case a point geometry, for each measurement a single point geometry which contains latitude and longitude coordinates."
   ]
  },
  {
   "cell_type": "code",
   "execution_count": null,
   "metadata": {
    "ExecuteTime": {
     "start_time": "2020-11-11T12:57:18.892Z"
    }
   },
   "outputs": [],
   "source": [
    "print('GEOMETRY VARIABLE')\n",
    "print('---')\n",
    "geomV=track_df[['geometry']]\n",
    "for column in geomV:\n",
    "    print(column)"
   ]
  },
  {
   "cell_type": "markdown",
   "metadata": {},
   "source": [
    "See example point geometries below:"
   ]
  },
  {
   "cell_type": "code",
   "execution_count": null,
   "metadata": {
    "ExecuteTime": {
     "start_time": "2020-11-11T12:57:18.895Z"
    }
   },
   "outputs": [],
   "source": [
    "geomV.head()"
   ]
  },
  {
   "cell_type": "markdown",
   "metadata": {},
   "source": [
    "## 3. Numeric variables\n",
    "There are two types of numeric variables: integer 64 and float 64."
   ]
  },
  {
   "cell_type": "markdown",
   "metadata": {},
   "source": [
    "### 3.1 Variables from datatype:  float64\n",
    "Most variables are from datatype float64.\n",
    "Some variables are the result from calculations based on enviroCar data.  \n",
    "  \n",
    "The following variables are calculated based on enviroCar data:  \n",
    "- <b> Calculated MAF.value <b> \n",
    "- Consumption.value  \n",
    "- CO2.value \n",
    "- CO2 Emission (GPS-based).value \n",
    "- Consumption (GPS-based).value \n",
    "\n",
    "For detailed information on the calculations please refer to the following two 52°North blog posts:  \n",
    "https://blog.52north.org/2020/07/02/fuel-consumption-models-in-envirocar/  \n",
    "https://blog.52north.org/2020/04/01/estimating-fuel-consumption-of-cars/\n"
   ]
  },
  {
   "cell_type": "code",
   "execution_count": null,
   "metadata": {
    "ExecuteTime": {
     "start_time": "2020-11-11T12:57:18.898Z"
    }
   },
   "outputs": [],
   "source": [
    "print('NUMERIC VARIABLES FLOAT64:')\n",
    "print('---')\n",
    "for column in track_df.select_dtypes(['float64']):\n",
    "    print(column)    "
   ]
  },
  {
   "cell_type": "markdown",
   "metadata": {},
   "source": [
    "### 3.2 Variables from datatype:  Int64\n",
    "The following variables are the only integer64 types in the data"
   ]
  },
  {
   "cell_type": "code",
   "execution_count": null,
   "metadata": {
    "ExecuteTime": {
     "start_time": "2020-11-11T12:57:18.902Z"
    }
   },
   "outputs": [],
   "source": [
    "print('NUMERIC VARIABLES INT64:')\n",
    "print('---')\n",
    "for column in track_df.select_dtypes(['int64']):\n",
    "    print(column)    "
   ]
  },
  {
   "cell_type": "markdown",
   "metadata": {},
   "source": [
    "## 4. Object variables\n",
    "The following variables are objects, i.e. strings:"
   ]
  },
  {
   "cell_type": "code",
   "execution_count": null,
   "metadata": {
    "ExecuteTime": {
     "start_time": "2020-11-11T12:57:18.911Z"
    }
   },
   "outputs": [],
   "source": [
    "print('OBJECT VARIABLES')\n",
    "print('---')\n",
    "units = track_df.filter(like='.unit').columns.to_list()\n",
    "for column in track_df.select_dtypes(['object']):\n",
    "    if column not in units:\n",
    "        print(track_df[column].name)"
   ]
  },
  {
   "cell_type": "markdown",
   "metadata": {},
   "source": [
    "### 4.1 Categorical variables\n",
    "Categorical variables are here defined as object variables which are no indices. Further they are of ordinal type and provide, well, categories :)"
   ]
  },
  {
   "cell_type": "code",
   "execution_count": null,
   "metadata": {
    "ExecuteTime": {
     "start_time": "2020-11-11T12:57:18.914Z"
    }
   },
   "outputs": [],
   "source": [
    "print('CATEGORICAL VARIABLES')\n",
    "print('---')\n",
    "catV=track_df[['sensor.type', 'sensor.model', 'sensor.fuelType', 'sensor.manufacturer',\n",
    "               'track.appVersion', 'track.touVersion']]\n",
    "for column in catV:\n",
    "    print(column)"
   ]
  },
  {
   "cell_type": "markdown",
   "metadata": {},
   "source": [
    "### 4.2 Indices\n",
    "There are two indices which are relevant for the track and measurement identification:  \n",
    "<b>track.id : each track has a unique track.id  \n",
    "id: each measurement within a certain track has a unique id. This id is also unique in the whole sample"
   ]
  },
  {
   "cell_type": "code",
   "execution_count": null,
   "metadata": {
    "ExecuteTime": {
     "start_time": "2020-11-11T12:57:18.917Z"
    }
   },
   "outputs": [],
   "source": [
    "print('INDICES')\n",
    "print('---')\n",
    "indicesV=track_df[['id','track.id']]\n",
    "for column in indicesV:\n",
    "    print(column)"
   ]
  },
  {
   "cell_type": "markdown",
   "metadata": {},
   "source": [
    "### 4.3 Time variables\n",
    "There are three object variables related to time:  \n",
    "<b>time: time stamp of data point  \n",
    "track.begin: timestamp of first measurement of the track   \n",
    "track.end: timestamp of last measurement of the track"
   ]
  },
  {
   "cell_type": "code",
   "execution_count": null,
   "metadata": {
    "ExecuteTime": {
     "start_time": "2020-11-11T12:57:18.929Z"
    }
   },
   "outputs": [],
   "source": [
    "print('TIME VARIABLES')\n",
    "print('---')\n",
    "timeV=track_df[['time','track.begin','track.end']]\n",
    "for column in timeV:\n",
    "    print(column)"
   ]
  }
 ],
 "metadata": {
  "kernelspec": {
   "display_name": "envirocar_preprocessing",
   "language": "python",
   "name": "envirocar_preprocessing"
  },
  "language_info": {
   "codemirror_mode": {
    "name": "ipython",
    "version": 3
   },
   "file_extension": ".py",
   "mimetype": "text/x-python",
   "name": "python",
   "nbconvert_exporter": "python",
   "pygments_lexer": "ipython3",
   "version": "3.7.4"
  }
 },
 "nbformat": 4,
 "nbformat_minor": 4
}
