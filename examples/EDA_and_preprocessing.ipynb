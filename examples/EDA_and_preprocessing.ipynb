{
 "cells": [
  {
   "cell_type": "code",
   "execution_count": 1,
   "metadata": {},
   "outputs": [],
   "source": [
    "# load dependencies'\n",
    "import pandas as pd\n",
    "pd.options.mode.chained_assignment = None  # default='warn' surpresses warnings at spatial distribution\n",
    "import geopandas as gpd\n",
    "import seaborn as sns\n",
    "import matplotlib.pyplot as plt\n",
    "from scipy import stats\n",
    "import numpy as np\n",
    "import datetime\n",
    "import plotly.express as px\n",
    "import plotly.graph_objects as go\n",
    "\n",
    "from envirocar import TrackAPI, DownloadClient, BboxSelector, ECConfig\n",
    "\n",
    "# pandas show all columns of table instead of restricted\n",
    "pd.set_option('display.max_columns', None)\n",
    "\n",
    "# create an initial but optional config and an api client\n",
    "config = ECConfig()\n",
    "track_api = TrackAPI(api_client=DownloadClient(config=config))\n",
    "\n",
    "\n",
    "\n",
    "# ------------------------ Functions --------------------------\n",
    "\n",
    "\n",
    "\n",
    "def show_units(df):\n",
    "    '''\n",
    "        Aim: \n",
    "            get an overview of the variables and corresponding units\n",
    "        \n",
    "        Keyword Arguments: \n",
    "            df {Geodataframe} -- point input\n",
    "        \n",
    "        Output: Matrix-like overview on variables an the relevant unit\n",
    "    '''\n",
    "    units = df.filter(like='.unit').columns\n",
    "    for unit in units:\n",
    "        if unit in df:\n",
    "            print(df[unit].name, df[unit].iloc[0])\n",
    "            \n",
    "\n",
    "\n",
    "            \n",
    "        \n",
    "def plot_normality_with_qqplot(point_df, column):\n",
    "    '''\n",
    "        Aim: \n",
    "            create q-q plot to inspect normality of distribution of selected variable\n",
    "        \n",
    "    Keyword Arguments: \n",
    "        df {Geodataframe} -- points input\n",
    "        column {str} -- variable name\n",
    "        \n",
    "        Output: Q-Q plot\n",
    "    '''\n",
    "    plot = stats.probplot(point_df[column],  dist=\"norm\", plot=plt, fit = False)\n",
    "    plt.title(column)\n",
    "    plt.show()\n",
    "    \n",
    "    \n",
    "    \n",
    "    \n",
    "def plot_tracks(points_df, column):\n",
    "    \"\"\" \n",
    "    Aim: \n",
    "        Visualize phenomena of tracks as timeserie in Linechart, in which each line represents one single track\n",
    "    \n",
    "    Keyword Arguments: \n",
    "        df {Geodataframe} -- point input\n",
    "        \n",
    "    Returns:\n",
    "        Chart is shown \n",
    "    \n",
    "    \"\"\"\n",
    "    # Add datetime to data frame\n",
    "    points_df['datetime'] = pd.to_datetime(points_df['time'])\n",
    "    points_df.set_index(['track.id','datetime']).sort_index()\n",
    "    points_df['index']=points_df.index\n",
    "    fig = px.line(track_df, x=\"index\", y=column, color=\"track.id\",\n",
    "                  line_group=\"track.id\", hover_name=\"datetime\")\n",
    "    fig.update_traces(mode='lines+markers')\n",
    "    fig.show()\n",
    "\n",
    "\n",
    "    \n",
    "\n",
    "    \n",
    "def plot_distribution_s(points_df, column, column_gps = None):\n",
    "    \"\"\" \n",
    "    Aim:\n",
    "        Plot of two distributions in a single figure for visually comparing the shapes of the two distributions\n",
    "    \n",
    "    Keyword Arguments: \n",
    "        points {GeoDataFrame} -- the GeoDataFrame containing the measurements\n",
    "        Column {str} -- the column name of measurement of interest,e.g. 'Speed.value'\n",
    "        Column {str} -- the column name of measurement of same phenomena but measured based on GPS, e.g. 'GPS speed.value'\n",
    "        \n",
    "    Return:\n",
    "        No Return, instead a plot is displayed\n",
    "    \"\"\"\n",
    "    if column_gps is not None:\n",
    "        sns.kdeplot(points_df[column], shade=True)\n",
    "        sns.kdeplot(points_df[column_gps], shade=True)\n",
    "    else:\n",
    "        sns.kdeplot(points_df[column], shade=True)\n",
    "    \n",
    "\n",
    "    \n",
    "    \n",
    "    \n",
    "\n",
    "def plot_point_values(points, value = None):\n",
    "        \"\"\" This function is based on a function from the envirocar fork of the github user 'annaformaniuk'.\n",
    "        \n",
    "        Aim: \n",
    "            show points on a map\n",
    "\n",
    "        Keyword Arguments:\n",
    "            points {GeoDataFrame} -- points input\n",
    "            value {string} -- column value to use for colouring\n",
    "\n",
    "        Returns:\n",
    "            No Return\n",
    "        \"\"\"\n",
    "\n",
    "        points['lat'] = points['geometry'].apply(lambda coord: coord.y)\n",
    "        points['lng'] = points['geometry'].apply(lambda coord: coord.x)\n",
    "        \n",
    "        if value is not None:\n",
    "        # Visualizing points of the selected variable\n",
    "            fig = px.scatter_mapbox(points, lat=\"lat\", lon=\"lng\", hover_data=[\"CO2.value\"],\n",
    "                                    color=value,\n",
    "                                    color_continuous_scale=px.colors.sequential.Reds,\n",
    "                                    title=value + \" visualisation\", zoom=8,\n",
    "                                    hover_name=\"id\")\n",
    "        else:\n",
    "            fig = px.scatter_mapbox(points, lat=\"lat\", lon=\"lng\", hover_data=[\"CO2.value\"],\n",
    "                                    title= \" Spatial distribution or requested tracks\", zoom=8,\n",
    "                                    hover_name=\"id\")\n",
    "            \n",
    "            \n",
    "        fig.update_layout(mapbox_style=\"open-street-map\",\n",
    "                              margin={\"r\": 5, \"t\": 50, \"l\": 10, \"b\": 5})\n",
    "        fig.show()\n",
    "\n",
    "\n",
    "def plot_linear_regression(df, variableName1, variableName2):\n",
    "    sns.regplot(x=variableName1, y=variableName2, data=df)\n",
    "    \n",
    "\n",
    "\n",
    "\n",
    "    \n",
    "# Percentages correction\n",
    "def percentages_correction(df):\n",
    "    '''\n",
    "        Aim: Set faulty percentages (percentages below 0 and above 100) to nan\n",
    "        \n",
    "        Input: Geodataframa\n",
    "        \n",
    "        Output: Dataframe with corrected percentages\n",
    "    '''\n",
    "    units = df.filter(like='.unit').columns\n",
    "    values = df.filter(like='.value').columns\n",
    "    for col in df:\n",
    "        if col in units:\n",
    "            if df[col].iloc[0]== \"%\":\n",
    "                name = col.split(\".\")[0] + '.value'\n",
    "                if name in values:\n",
    "                    if any(df[name] < 0) or any(df[name] > 100):\n",
    "                        nanBefore = df[name].isna().sum(axis=0)\n",
    "                        df[name][df[name] < 0] = np.nan\n",
    "                        df[name][df[name] > 100] = np.nan\n",
    "                        nanAfter = df[name].isna().sum(axis=0)\n",
    "                        corrected = nanAfter - nanBefore\n",
    "                        print( 'Percentages ok : ', df[name].name, ' Count corrected:', corrected)        \n",
    "                    else:\n",
    "                        print('Percentages ok : ', df[name].name )\n",
    "    \n",
    "\n",
    "\n"
   ]
  },
  {
   "cell_type": "markdown",
   "metadata": {},
   "source": [
    "### Query tracks "
   ]
  },
  {
   "cell_type": "code",
   "execution_count": 2,
   "metadata": {},
   "outputs": [],
   "source": [
    "bbox = BboxSelector([\n",
    "    7.554130554199218, # min_x\n",
    "    51.95590322041212, # min_y\n",
    "    7.590351104736328, # max_x\n",
    "    51.97874790276371  # max_y\n",
    "])\n",
    "\n",
    "\n",
    "# issue a query\n",
    "track_df = track_api.get_tracks(bbox=bbox, num_results=25) "
   ]
  },
  {
   "cell_type": "code",
   "execution_count": null,
   "metadata": {},
   "outputs": [],
   "source": []
  },
  {
   "cell_type": "code",
   "execution_count": null,
   "metadata": {},
   "outputs": [],
   "source": [
    "# Remove Outlier\n",
    "listNonNegative=['Speed.value', 'CO2.value', 'Rpm.value', 'Consumption (GPS-based).value',\n",
    "                     'Consumption.value','CO2 Emission (GPS-based).value']\n",
    "df_NonNegatives = track_df[listNonNegative]\n",
    "print(df_NonNegatives.shape)\n",
    "\n",
    "Q1 = df_NonNegatives.quantile(0.25)\n",
    "Q3 = df_NonNegatives.quantile(0.75)\n",
    "IQR = Q3 - Q1\n",
    "#print(IQR)\n",
    "\n",
    "#df_NonNegatives_out = df_NonNegatives[~((df_NonNegatives < (Q1 - 1.5 * IQR)) |(df_NonNegatives > (Q3 + 1.5 * IQR))).any(axis=1)]\n",
    "#print(df_NonNegatives_out.shape)\n",
    "\n",
    "\n",
    "#track_df.filter(listNonNegative)\n",
    "#track_df[['Speed.value', 'CO2.value', \n",
    "#          'Rpm.value', 'Consumption (GPS-based).value',\n",
    "#          'Consumption.value','CO2 Emission (GPS-based).value']][~((track_df[['Speed.value', 'CO2.value', \n",
    "#          'Rpm.value', 'Consumption (GPS-based).value',\n",
    "#          'Consumption.value','CO2 Emission (GPS-based).value']] < (Q1 - 1.5 * IQR)) |(track_df[['Speed.value', 'CO2.value', \n",
    "#          'Rpm.value', 'Consumption (GPS-based).value',\n",
    "#          'Consumption.value','CO2 Emission (GPS-based).value']] > (Q3 + 1.5 * IQR))).any(axis=1)]\n",
    "\n",
    "df_NonNegatives[~((df_NonNegatives < (Q1 - 1.5 * IQR)) |(df_NonNegatives > (Q3 + 1.5 * IQR))).any(axis=1)]"
   ]
  },
  {
   "cell_type": "code",
   "execution_count": null,
   "metadata": {},
   "outputs": [],
   "source": [
    "#track_df.columns\n",
    "listNonNegative=['Speed.value', 'CO2.value', 'Rpm.value', 'Consumption (GPS-based).value',\n",
    "                     'Consumption.value','CO2 Emission (GPS-based).value']\n",
    "#cols = list(track_df.columns)\n",
    "df_NonNegatives = track_df[listNonNegative]\n",
    "df_NonNegatives.shape\n",
    "#ZScore_Speed = stats.zscore(a,nan_policy='omit')\n",
    "\n",
    "#z = np.abs(stats.zscore(df_NonNegatives, nan_policy='omit' ))\n",
    "#print(z)\n",
    "#threshold = 3\n",
    "#print(np.where(z > 3))\n",
    "#print(z[57][3])\n",
    "\n",
    "Q1 = df_NonNegatives.quantile(0.25)\n",
    "Q3 = df_NonNegatives.quantile(0.75)\n",
    "IQR = Q3 - Q1\n",
    "#print(IQR)\n",
    "\n",
    "#print(df_NonNegatives < (Q1 - 1.5 * IQR)) |(df_NonNegatives > (Q3 + 1.5 * IQR))\n",
    "\n",
    "\n",
    "\n",
    "#track_df['_speed_zscore'] = (track_df['Speed.value'] - track_df['Speed.value'].mean())/track_df['Speed.value'].std(ddof=0)\n",
    "#track_df['_speed_zscore']"
   ]
  },
  {
   "cell_type": "code",
   "execution_count": null,
   "metadata": {},
   "outputs": [],
   "source": [
    "#sns.boxplot(x='CO2.value', data=track_df)\n",
    "#z = np.abs(stats.zscore(track_df[\"CO2.value\"]))\n"
   ]
  },
  {
   "cell_type": "markdown",
   "metadata": {},
   "source": [
    "## Spatial distribution\n",
    "Here you can view how the point data you just requested are spatially distributed. Zoom in, and hover over the points. This will give you the data point id, exact coordinates and the CO2 value measured at that point."
   ]
  },
  {
   "cell_type": "code",
   "execution_count": null,
   "metadata": {},
   "outputs": [],
   "source": [
    "plot_point_values(track_df)"
   ]
  },
  {
   "cell_type": "markdown",
   "metadata": {},
   "source": [
    "You can also add another variable to see how its spatially distributed.\n",
    "When you hover over the points, a box will disappear which now shows also the added variable, which lets you compare values of the CO2 emission and the values of the added variable.\n",
    "Before you actually apply this function it is recommended to first remove outliers of the variables. <br>"
   ]
  },
  {
   "cell_type": "code",
   "execution_count": null,
   "metadata": {},
   "outputs": [],
   "source": [
    "plot_point_values(track_df, 'Consumption.value')"
   ]
  },
  {
   "cell_type": "markdown",
   "metadata": {},
   "source": [
    "## Inspect sample: attributes and corresponding values \n",
    "Here you can have a look at the data you just requested. Each row represents one certain point in time with coordinates and a variety of measured phenomena, e.g. Speed, CO2 Emission, temperature, etc . However, each data point also shows some information of the sensor."
   ]
  },
  {
   "cell_type": "code",
   "execution_count": null,
   "metadata": {},
   "outputs": [],
   "source": [
    "track_df"
   ]
  },
  {
   "cell_type": "markdown",
   "metadata": {},
   "source": [
    "### Get overview on units of variables"
   ]
  },
  {
   "cell_type": "code",
   "execution_count": null,
   "metadata": {},
   "outputs": [],
   "source": [
    "show_units(track_df)"
   ]
  },
  {
   "cell_type": "markdown",
   "metadata": {},
   "source": [
    "## Inspect single datapoint from sample\n",
    "Here we can inspect a single data point from the sample"
   ]
  },
  {
   "cell_type": "code",
   "execution_count": null,
   "metadata": {},
   "outputs": [],
   "source": [
    "track_df.iloc[0]"
   ]
  },
  {
   "cell_type": "markdown",
   "metadata": {},
   "source": [
    "## Inspect tracks as time series\n",
    "You can see how the values changes at specific time points. If you haven't noticed, if you hover over the graph in the right above the graph a menu is displayed which allows you to zoom in. If you like to see just a single track you can blend in and out certain tracks by clicking on the relevant track_ids in the legend."
   ]
  },
  {
   "cell_type": "code",
   "execution_count": null,
   "metadata": {},
   "outputs": [],
   "source": [
    "plot_tracks(track_df, 'Speed.value')"
   ]
  },
  {
   "cell_type": "markdown",
   "metadata": {},
   "source": [
    "## Descriptive statistics of sample\n",
    "Here we can inspect the descriptives, including mean, standard deviation, min, max and quantiles. The 50th quantile equals the median, i.e. 50% of the data provide a value below the median value and 50% above. "
   ]
  },
  {
   "cell_type": "code",
   "execution_count": null,
   "metadata": {},
   "outputs": [],
   "source": [
    "track_df.describe()"
   ]
  },
  {
   "cell_type": "markdown",
   "metadata": {},
   "source": [
    "## Distribution"
   ]
  },
  {
   "cell_type": "code",
   "execution_count": null,
   "metadata": {},
   "outputs": [],
   "source": [
    "plot_distribution_s(track_df,'CO2.value')"
   ]
  },
  {
   "cell_type": "markdown",
   "metadata": {},
   "source": [
    "#### Normality of distribution\n",
    "The Q-Q plot (\"quantile-quantile plot\")compares the theoretical quantiles expected under a normal distribution to the actual observed values (ordered). When a distribution is normally distributed, you will see a straight line. The more crooked the line is, the farther the distribution departs from normality."
   ]
  },
  {
   "cell_type": "code",
   "execution_count": null,
   "metadata": {},
   "outputs": [],
   "source": [
    "plot_normality_with_qqplot(track_df, 'CO2.value')"
   ]
  },
  {
   "cell_type": "markdown",
   "metadata": {},
   "source": [
    "## Compare distributions of measurements of same phenomena\n",
    "You can compare measurements from OBD with measurements based on GPS. "
   ]
  },
  {
   "cell_type": "code",
   "execution_count": null,
   "metadata": {},
   "outputs": [],
   "source": [
    "plot_distribution_s(track_df, 'CO2.value', 'CO2 Emission (GPS-based).value' )"
   ]
  },
  {
   "cell_type": "markdown",
   "metadata": {},
   "source": [
    "## Linear regression\n",
    "Visualise the relationship between two variables with a simple linear regression line."
   ]
  },
  {
   "cell_type": "code",
   "execution_count": null,
   "metadata": {},
   "outputs": [],
   "source": [
    "plot_linear_regression(track_df, \"CO2.value\", \"Speed.value\" )"
   ]
  },
  {
   "cell_type": "code",
   "execution_count": null,
   "metadata": {},
   "outputs": [],
   "source": []
  }
 ],
 "metadata": {
  "kernelspec": {
   "display_name": "Python 3",
   "language": "python",
   "name": "python3"
  },
  "language_info": {
   "codemirror_mode": {
    "name": "ipython",
    "version": 3
   },
   "file_extension": ".py",
   "mimetype": "text/x-python",
   "name": "python",
   "nbconvert_exporter": "python",
   "pygments_lexer": "ipython3",
   "version": "3.7.7"
  }
 },
 "nbformat": 4,
 "nbformat_minor": 4
}
